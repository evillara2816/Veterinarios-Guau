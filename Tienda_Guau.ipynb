{
 "cells": [
  {
   "cell_type": "code",
   "execution_count": 1,
   "id": "ea7d9851",
   "metadata": {},
   "outputs": [],
   "source": [
    "import pandas as pd\n",
    "import seaborn as sns\n",
    "import matplotlib.pyplot as plt"
   ]
  },
  {
   "cell_type": "code",
   "execution_count": 2,
   "id": "5118cf38",
   "metadata": {},
   "outputs": [],
   "source": [
    "#pwd"
   ]
  },
  {
   "cell_type": "code",
   "execution_count": 3,
   "id": "21da213f",
   "metadata": {},
   "outputs": [],
   "source": [
    "#!cd D:"
   ]
  },
  {
   "cell_type": "code",
   "execution_count": 4,
   "id": "c673294a",
   "metadata": {},
   "outputs": [],
   "source": [
    "#_2019 = pd.read_csv(\"d:/TIENDA/Data/2019.csv\", sep =\";\")"
   ]
  },
  {
   "cell_type": "code",
   "execution_count": 5,
   "id": "3bfc3ad1",
   "metadata": {},
   "outputs": [],
   "source": [
    "_2019 = pd.read_csv(\"./2019.csv\", sep =\";\")"
   ]
  },
  {
   "cell_type": "code",
   "execution_count": 6,
   "id": "16ea7bfa",
   "metadata": {},
   "outputs": [],
   "source": [
    "#_2020 = pd.read_csv(\"d:/TIENDA/Data/2020.csv\", sep =\";\")"
   ]
  },
  {
   "cell_type": "code",
   "execution_count": 7,
   "id": "45cec6c7",
   "metadata": {},
   "outputs": [
    {
     "name": "stderr",
     "output_type": "stream",
     "text": [
      "/home/maradona/anaconda3/lib/python3.7/site-packages/IPython/core/interactiveshell.py:3326: DtypeWarning: Columns (13) have mixed types.Specify dtype option on import or set low_memory=False.\n",
      "  exec(code_obj, self.user_global_ns, self.user_ns)\n"
     ]
    }
   ],
   "source": [
    "_2020 = pd.read_csv(\"./2020.csv\", sep =\";\")"
   ]
  },
  {
   "cell_type": "code",
   "execution_count": 8,
   "id": "8dbe4e2c",
   "metadata": {},
   "outputs": [],
   "source": [
    "#_2021 = pd.read_csv(\"d:/TIENDA/Data/2021.csv\", sep =\";\")"
   ]
  },
  {
   "cell_type": "code",
   "execution_count": 9,
   "id": "6ae845c7",
   "metadata": {},
   "outputs": [],
   "source": [
    "_2021 = pd.read_csv(\"./2021.csv\", sep =\";\")"
   ]
  },
  {
   "cell_type": "code",
   "execution_count": 10,
   "id": "f8c1b400",
   "metadata": {},
   "outputs": [],
   "source": [
    "#_2022 = pd.read_csv(\"d:/TIENDA/Data/2022.csv\", sep =\";\")"
   ]
  },
  {
   "cell_type": "code",
   "execution_count": 11,
   "id": "87b5868a",
   "metadata": {},
   "outputs": [],
   "source": [
    "_2022 = pd.read_csv(\"./2022.csv\", sep =\";\")"
   ]
  },
  {
   "cell_type": "code",
   "execution_count": 12,
   "id": "e338fbfc",
   "metadata": {},
   "outputs": [],
   "source": [
    "frames = [_2019,_2020,_2021,_2022]"
   ]
  },
  {
   "cell_type": "code",
   "execution_count": 13,
   "id": "5cbc6ed7",
   "metadata": {},
   "outputs": [],
   "source": [
    "datos = pd.concat(frames)"
   ]
  },
  {
   "cell_type": "code",
   "execution_count": 14,
   "id": "f0b85cbc",
   "metadata": {},
   "outputs": [
    {
     "data": {
      "text/html": [
       "<div>\n",
       "<style scoped>\n",
       "    .dataframe tbody tr th:only-of-type {\n",
       "        vertical-align: middle;\n",
       "    }\n",
       "\n",
       "    .dataframe tbody tr th {\n",
       "        vertical-align: top;\n",
       "    }\n",
       "\n",
       "    .dataframe thead th {\n",
       "        text-align: right;\n",
       "    }\n",
       "</style>\n",
       "<table border=\"1\" class=\"dataframe\">\n",
       "  <thead>\n",
       "    <tr style=\"text-align: right;\">\n",
       "      <th></th>\n",
       "      <th>EjercicioPedido</th>\n",
       "      <th>NumeroPedido</th>\n",
       "      <th>Orden</th>\n",
       "      <th>FechaRegistro</th>\n",
       "      <th>FechaPedido</th>\n",
       "      <th>CodigoArticulo</th>\n",
       "      <th>Partida</th>\n",
       "      <th>CodigoFamilia</th>\n",
       "      <th>CodigoSubfamilia</th>\n",
       "      <th>CodigodelCliente</th>\n",
       "      <th>...</th>\n",
       "      <th>PrecioCoste</th>\n",
       "      <th>%Descuento</th>\n",
       "      <th>ImporteCoste</th>\n",
       "      <th>ImporteBruto</th>\n",
       "      <th>ImporteNeto</th>\n",
       "      <th>BaseImponible</th>\n",
       "      <th>TotalIva</th>\n",
       "      <th>ImporteLiquido</th>\n",
       "      <th>TipoArticulo</th>\n",
       "      <th>(No column name)</th>\n",
       "    </tr>\n",
       "  </thead>\n",
       "  <tbody>\n",
       "    <tr>\n",
       "      <th>108971</th>\n",
       "      <td>2019</td>\n",
       "      <td>PVM21473</td>\n",
       "      <td>15</td>\n",
       "      <td>2019-12-04 11:31:04</td>\n",
       "      <td>2019-12-04</td>\n",
       "      <td>AR320080</td>\n",
       "      <td>P</td>\n",
       "      <td>F013</td>\n",
       "      <td>FS013111</td>\n",
       "      <td>C320080</td>\n",
       "      <td>...</td>\n",
       "      <td>11,68</td>\n",
       "      <td>0</td>\n",
       "      <td>23,36</td>\n",
       "      <td>26,86</td>\n",
       "      <td>26,86</td>\n",
       "      <td>26,86</td>\n",
       "      <td>2,686</td>\n",
       "      <td>29,546</td>\n",
       "      <td>TPM</td>\n",
       "      <td>U081102</td>\n",
       "    </tr>\n",
       "    <tr>\n",
       "      <th>249467</th>\n",
       "      <td>2019</td>\n",
       "      <td>PVRW941</td>\n",
       "      <td>40</td>\n",
       "      <td>2019-02-25</td>\n",
       "      <td>2019-02-25</td>\n",
       "      <td>AR381043</td>\n",
       "      <td>P</td>\n",
       "      <td>F038</td>\n",
       "      <td>FS03800390</td>\n",
       "      <td>C</td>\n",
       "      <td>...</td>\n",
       "      <td>8,76</td>\n",
       "      <td>10</td>\n",
       "      <td>17,52</td>\n",
       "      <td>24</td>\n",
       "      <td>21,6</td>\n",
       "      <td>21,6</td>\n",
       "      <td>2,16</td>\n",
       "      <td>23,76</td>\n",
       "      <td>TPM</td>\n",
       "      <td>U0128074</td>\n",
       "    </tr>\n",
       "    <tr>\n",
       "      <th>50388</th>\n",
       "      <td>2020</td>\n",
       "      <td>PMM456</td>\n",
       "      <td>40</td>\n",
       "      <td>2020-09-15 12:39:38</td>\n",
       "      <td>2020-09-15</td>\n",
       "      <td>AR320086</td>\n",
       "      <td>P</td>\n",
       "      <td>F013</td>\n",
       "      <td>FS013122</td>\n",
       "      <td>C320086</td>\n",
       "      <td>...</td>\n",
       "      <td>15,55</td>\n",
       "      <td>0</td>\n",
       "      <td>93,3</td>\n",
       "      <td>87,83</td>\n",
       "      <td>87,83</td>\n",
       "      <td>87,83</td>\n",
       "      <td>8,783</td>\n",
       "      <td>96,613</td>\n",
       "      <td>TPM</td>\n",
       "      <td>U081102</td>\n",
       "    </tr>\n",
       "    <tr>\n",
       "      <th>4796</th>\n",
       "      <td>2021</td>\n",
       "      <td>PBR233</td>\n",
       "      <td>20</td>\n",
       "      <td>2021-02-03 12:05:16</td>\n",
       "      <td>2021-02-03</td>\n",
       "      <td>AR380544</td>\n",
       "      <td>P20265129RCA</td>\n",
       "      <td>F038</td>\n",
       "      <td>FS03800211</td>\n",
       "      <td>C380544</td>\n",
       "      <td>...</td>\n",
       "      <td>20,36</td>\n",
       "      <td>5,5</td>\n",
       "      <td>40,72</td>\n",
       "      <td>55,9</td>\n",
       "      <td>45,96</td>\n",
       "      <td>45,0408</td>\n",
       "      <td>4,50408</td>\n",
       "      <td>49,54488</td>\n",
       "      <td>TPM</td>\n",
       "      <td>UBD/06/02</td>\n",
       "    </tr>\n",
       "    <tr>\n",
       "      <th>29183</th>\n",
       "      <td>2021</td>\n",
       "      <td>PBR1725</td>\n",
       "      <td>0</td>\n",
       "      <td>2021-09-15 21:19:30</td>\n",
       "      <td>2021-09-16</td>\n",
       "      <td>AR380258</td>\n",
       "      <td>P21155004RCA</td>\n",
       "      <td>F038</td>\n",
       "      <td>FS03800620</td>\n",
       "      <td>C380258</td>\n",
       "      <td>...</td>\n",
       "      <td>11,75262483</td>\n",
       "      <td>12</td>\n",
       "      <td>11,75</td>\n",
       "      <td>16,1</td>\n",
       "      <td>12,45</td>\n",
       "      <td>12,3255</td>\n",
       "      <td>1,23255</td>\n",
       "      <td>13,55805</td>\n",
       "      <td>TPM</td>\n",
       "      <td>UAD/05/01</td>\n",
       "    </tr>\n",
       "    <tr>\n",
       "      <th>392828</th>\n",
       "      <td>2022</td>\n",
       "      <td>PVR1711</td>\n",
       "      <td>0</td>\n",
       "      <td>2022-05-26 20:44:03</td>\n",
       "      <td>2022-05-27</td>\n",
       "      <td>AR380067</td>\n",
       "      <td>P</td>\n",
       "      <td>F038</td>\n",
       "      <td>FS03800760</td>\n",
       "      <td>C380067</td>\n",
       "      <td>...</td>\n",
       "      <td>3,142759915</td>\n",
       "      <td>12</td>\n",
       "      <td>3,14</td>\n",
       "      <td>4,4</td>\n",
       "      <td>3,4</td>\n",
       "      <td>3,366</td>\n",
       "      <td>0,3366</td>\n",
       "      <td>3,7026</td>\n",
       "      <td>TPM</td>\n",
       "      <td>U0233051</td>\n",
       "    </tr>\n",
       "    <tr>\n",
       "      <th>124090</th>\n",
       "      <td>2021</td>\n",
       "      <td>PVM9009</td>\n",
       "      <td>15</td>\n",
       "      <td>2021-05-31 11:08:30</td>\n",
       "      <td>2021-05-31</td>\n",
       "      <td>AR045011</td>\n",
       "      <td>P</td>\n",
       "      <td>F004</td>\n",
       "      <td>FS</td>\n",
       "      <td>C045011</td>\n",
       "      <td>...</td>\n",
       "      <td>1,4</td>\n",
       "      <td>0</td>\n",
       "      <td>1400</td>\n",
       "      <td>1500</td>\n",
       "      <td>1500</td>\n",
       "      <td>1500</td>\n",
       "      <td>150</td>\n",
       "      <td>1650</td>\n",
       "      <td>TPM</td>\n",
       "      <td>U</td>\n",
       "    </tr>\n",
       "    <tr>\n",
       "      <th>213175</th>\n",
       "      <td>2020</td>\n",
       "      <td>PVMW19152</td>\n",
       "      <td>40</td>\n",
       "      <td>2020-08-23</td>\n",
       "      <td>2020-08-23</td>\n",
       "      <td>AR031014</td>\n",
       "      <td>P</td>\n",
       "      <td>F003</td>\n",
       "      <td>FS003102</td>\n",
       "      <td>C</td>\n",
       "      <td>...</td>\n",
       "      <td>1,527</td>\n",
       "      <td>0</td>\n",
       "      <td>15,27</td>\n",
       "      <td>18,39</td>\n",
       "      <td>18,39</td>\n",
       "      <td>18,39</td>\n",
       "      <td>1,839</td>\n",
       "      <td>20,229</td>\n",
       "      <td>TPM</td>\n",
       "      <td>U0117051</td>\n",
       "    </tr>\n",
       "    <tr>\n",
       "      <th>226161</th>\n",
       "      <td>2021</td>\n",
       "      <td>PVMW10767</td>\n",
       "      <td>10</td>\n",
       "      <td>2021-04-19</td>\n",
       "      <td>2021-04-19</td>\n",
       "      <td>AR812003</td>\n",
       "      <td>P</td>\n",
       "      <td>F081</td>\n",
       "      <td>FS08100201</td>\n",
       "      <td>C</td>\n",
       "      <td>...</td>\n",
       "      <td>5,95</td>\n",
       "      <td>7</td>\n",
       "      <td>29,75</td>\n",
       "      <td>46,86</td>\n",
       "      <td>41,4</td>\n",
       "      <td>41,4</td>\n",
       "      <td>10,8468</td>\n",
       "      <td>52,2468</td>\n",
       "      <td>TPM</td>\n",
       "      <td>UA3900</td>\n",
       "    </tr>\n",
       "    <tr>\n",
       "      <th>118913</th>\n",
       "      <td>2019</td>\n",
       "      <td>PVMW1924</td>\n",
       "      <td>20</td>\n",
       "      <td>2019-02-14</td>\n",
       "      <td>2019-02-14</td>\n",
       "      <td>AR820009</td>\n",
       "      <td>P</td>\n",
       "      <td>F082</td>\n",
       "      <td>FS08200010</td>\n",
       "      <td>C</td>\n",
       "      <td>...</td>\n",
       "      <td>18,3</td>\n",
       "      <td>9</td>\n",
       "      <td>13,27</td>\n",
       "      <td>18,3</td>\n",
       "      <td>13,88</td>\n",
       "      <td>13,88</td>\n",
       "      <td>1,388</td>\n",
       "      <td>15,268</td>\n",
       "      <td>TPM</td>\n",
       "      <td>U0900001</td>\n",
       "    </tr>\n",
       "    <tr>\n",
       "      <th>389147</th>\n",
       "      <td>2021</td>\n",
       "      <td>PVR3030</td>\n",
       "      <td>0</td>\n",
       "      <td>2021-09-21 20:38:45</td>\n",
       "      <td>2021-09-22</td>\n",
       "      <td>AR280105</td>\n",
       "      <td>P</td>\n",
       "      <td>F028</td>\n",
       "      <td>FS2800000100</td>\n",
       "      <td>C280105</td>\n",
       "      <td>...</td>\n",
       "      <td>7,856195079</td>\n",
       "      <td>0</td>\n",
       "      <td>15,71</td>\n",
       "      <td>0</td>\n",
       "      <td>0</td>\n",
       "      <td>0</td>\n",
       "      <td>0</td>\n",
       "      <td>0</td>\n",
       "      <td>TPM</td>\n",
       "      <td>UP0901</td>\n",
       "    </tr>\n",
       "    <tr>\n",
       "      <th>131785</th>\n",
       "      <td>2021</td>\n",
       "      <td>PVM10951</td>\n",
       "      <td>10</td>\n",
       "      <td>2021-06-29 11:05:00</td>\n",
       "      <td>2021-06-29</td>\n",
       "      <td>AR012072</td>\n",
       "      <td>P</td>\n",
       "      <td>F001</td>\n",
       "      <td>FS001101</td>\n",
       "      <td>C012072</td>\n",
       "      <td>...</td>\n",
       "      <td>20,0232</td>\n",
       "      <td>0</td>\n",
       "      <td>400,46</td>\n",
       "      <td>418,41</td>\n",
       "      <td>418,41</td>\n",
       "      <td>418,41</td>\n",
       "      <td>41,841</td>\n",
       "      <td>460,251</td>\n",
       "      <td>TPM</td>\n",
       "      <td>U081501</td>\n",
       "    </tr>\n",
       "    <tr>\n",
       "      <th>485910</th>\n",
       "      <td>2022</td>\n",
       "      <td>PRGB188</td>\n",
       "      <td>0</td>\n",
       "      <td>2022-10-06 08:33:20</td>\n",
       "      <td>2022-10-06</td>\n",
       "      <td>AR100131</td>\n",
       "      <td>P22M3026F04</td>\n",
       "      <td>F069</td>\n",
       "      <td>FS069112</td>\n",
       "      <td>C100131</td>\n",
       "      <td>...</td>\n",
       "      <td>19,02</td>\n",
       "      <td>0</td>\n",
       "      <td>38,04</td>\n",
       "      <td>41,84</td>\n",
       "      <td>41,84</td>\n",
       "      <td>41,84</td>\n",
       "      <td>0</td>\n",
       "      <td>41,84</td>\n",
       "      <td>TPM</td>\n",
       "      <td>U04C04</td>\n",
       "    </tr>\n",
       "    <tr>\n",
       "      <th>357549</th>\n",
       "      <td>2022</td>\n",
       "      <td>PVMW38021</td>\n",
       "      <td>10</td>\n",
       "      <td>2022-12-19</td>\n",
       "      <td>2022-12-19</td>\n",
       "      <td>AR300121</td>\n",
       "      <td>P</td>\n",
       "      <td>F030</td>\n",
       "      <td>FS030101</td>\n",
       "      <td>C</td>\n",
       "      <td>...</td>\n",
       "      <td>8,75</td>\n",
       "      <td>0</td>\n",
       "      <td>8,75</td>\n",
       "      <td>10,39</td>\n",
       "      <td>10,39</td>\n",
       "      <td>10,39</td>\n",
       "      <td>1,039</td>\n",
       "      <td>11,429</td>\n",
       "      <td>TPM</td>\n",
       "      <td>U051403</td>\n",
       "    </tr>\n",
       "    <tr>\n",
       "      <th>370486</th>\n",
       "      <td>2021</td>\n",
       "      <td>PVR1949</td>\n",
       "      <td>0</td>\n",
       "      <td>2021-06-16 18:18:30</td>\n",
       "      <td>2021-06-17</td>\n",
       "      <td>AR784025</td>\n",
       "      <td>P</td>\n",
       "      <td>F078</td>\n",
       "      <td>FS07800300</td>\n",
       "      <td>C784025</td>\n",
       "      <td>...</td>\n",
       "      <td>3,931125828</td>\n",
       "      <td>8</td>\n",
       "      <td>3,93</td>\n",
       "      <td>6,5</td>\n",
       "      <td>5,98</td>\n",
       "      <td>5,9202</td>\n",
       "      <td>0,59202</td>\n",
       "      <td>6,51222</td>\n",
       "      <td>TPM</td>\n",
       "      <td>U0175052</td>\n",
       "    </tr>\n",
       "    <tr>\n",
       "      <th>396884</th>\n",
       "      <td>2021</td>\n",
       "      <td>PVR3470</td>\n",
       "      <td>0</td>\n",
       "      <td>2021-11-02 20:32:42</td>\n",
       "      <td>2021-11-03</td>\n",
       "      <td>AR380582</td>\n",
       "      <td>P</td>\n",
       "      <td>F038</td>\n",
       "      <td>FS03800710</td>\n",
       "      <td>C380582</td>\n",
       "      <td>...</td>\n",
       "      <td>42,24651779</td>\n",
       "      <td>12</td>\n",
       "      <td>42,25</td>\n",
       "      <td>58,2</td>\n",
       "      <td>45,02</td>\n",
       "      <td>44,5698</td>\n",
       "      <td>4,45698</td>\n",
       "      <td>49,02678</td>\n",
       "      <td>TPM</td>\n",
       "      <td>U0249002</td>\n",
       "    </tr>\n",
       "    <tr>\n",
       "      <th>327272</th>\n",
       "      <td>2020</td>\n",
       "      <td>PVRW4196</td>\n",
       "      <td>5</td>\n",
       "      <td>2020-06-06</td>\n",
       "      <td>2020-06-06</td>\n",
       "      <td>AR381052</td>\n",
       "      <td>P</td>\n",
       "      <td>F038</td>\n",
       "      <td>FS03800780</td>\n",
       "      <td>C</td>\n",
       "      <td>...</td>\n",
       "      <td>8,74</td>\n",
       "      <td>5</td>\n",
       "      <td>8,74</td>\n",
       "      <td>12</td>\n",
       "      <td>11,4</td>\n",
       "      <td>11,4</td>\n",
       "      <td>1,14</td>\n",
       "      <td>12,54</td>\n",
       "      <td>TPM</td>\n",
       "      <td>U0108002</td>\n",
       "    </tr>\n",
       "    <tr>\n",
       "      <th>414964</th>\n",
       "      <td>2022</td>\n",
       "      <td>PVR2763</td>\n",
       "      <td>0</td>\n",
       "      <td>2022-09-06 20:10:14</td>\n",
       "      <td>2022-09-07</td>\n",
       "      <td>AR380497</td>\n",
       "      <td>P</td>\n",
       "      <td>F038</td>\n",
       "      <td>FS03800201</td>\n",
       "      <td>C380497</td>\n",
       "      <td>...</td>\n",
       "      <td>8,916839245</td>\n",
       "      <td>12</td>\n",
       "      <td>8,92</td>\n",
       "      <td>12,34</td>\n",
       "      <td>9,55</td>\n",
       "      <td>9,4545</td>\n",
       "      <td>0,94545</td>\n",
       "      <td>10,39995</td>\n",
       "      <td>TPM</td>\n",
       "      <td>U03.10.002</td>\n",
       "    </tr>\n",
       "    <tr>\n",
       "      <th>214261</th>\n",
       "      <td>2022</td>\n",
       "      <td>PVMW5908</td>\n",
       "      <td>25</td>\n",
       "      <td>2022-03-02</td>\n",
       "      <td>2022-03-02</td>\n",
       "      <td>AR020281</td>\n",
       "      <td>P</td>\n",
       "      <td>F002</td>\n",
       "      <td>FS002113</td>\n",
       "      <td>C</td>\n",
       "      <td>...</td>\n",
       "      <td>4,7425</td>\n",
       "      <td>0</td>\n",
       "      <td>18,97</td>\n",
       "      <td>23,97</td>\n",
       "      <td>23,97</td>\n",
       "      <td>23,97</td>\n",
       "      <td>2,73258</td>\n",
       "      <td>26,70258</td>\n",
       "      <td>TPM</td>\n",
       "      <td>U051202</td>\n",
       "    </tr>\n",
       "    <tr>\n",
       "      <th>394401</th>\n",
       "      <td>2022</td>\n",
       "      <td>PVR1804</td>\n",
       "      <td>35</td>\n",
       "      <td>2022-06-02 17:00:28</td>\n",
       "      <td>2022-06-02</td>\n",
       "      <td>AR380212</td>\n",
       "      <td>P</td>\n",
       "      <td>F038</td>\n",
       "      <td>FS03800201</td>\n",
       "      <td>C380212</td>\n",
       "      <td>...</td>\n",
       "      <td>10,31</td>\n",
       "      <td>0</td>\n",
       "      <td>20,62</td>\n",
       "      <td>28,3</td>\n",
       "      <td>28,3</td>\n",
       "      <td>28,3</td>\n",
       "      <td>3,2262</td>\n",
       "      <td>31,5262</td>\n",
       "      <td>TPM</td>\n",
       "      <td>U03.08.002</td>\n",
       "    </tr>\n",
       "  </tbody>\n",
       "</table>\n",
       "<p>20 rows × 27 columns</p>\n",
       "</div>"
      ],
      "text/plain": [
       "        EjercicioPedido NumeroPedido  Orden        FechaRegistro FechaPedido  \\\n",
       "108971             2019     PVM21473     15  2019-12-04 11:31:04  2019-12-04   \n",
       "249467             2019      PVRW941     40           2019-02-25  2019-02-25   \n",
       "50388              2020       PMM456     40  2020-09-15 12:39:38  2020-09-15   \n",
       "4796               2021       PBR233     20  2021-02-03 12:05:16  2021-02-03   \n",
       "29183              2021      PBR1725      0  2021-09-15 21:19:30  2021-09-16   \n",
       "392828             2022      PVR1711      0  2022-05-26 20:44:03  2022-05-27   \n",
       "124090             2021      PVM9009     15  2021-05-31 11:08:30  2021-05-31   \n",
       "213175             2020    PVMW19152     40           2020-08-23  2020-08-23   \n",
       "226161             2021    PVMW10767     10           2021-04-19  2021-04-19   \n",
       "118913             2019     PVMW1924     20           2019-02-14  2019-02-14   \n",
       "389147             2021      PVR3030      0  2021-09-21 20:38:45  2021-09-22   \n",
       "131785             2021     PVM10951     10  2021-06-29 11:05:00  2021-06-29   \n",
       "485910             2022      PRGB188      0  2022-10-06 08:33:20  2022-10-06   \n",
       "357549             2022    PVMW38021     10           2022-12-19  2022-12-19   \n",
       "370486             2021      PVR1949      0  2021-06-16 18:18:30  2021-06-17   \n",
       "396884             2021      PVR3470      0  2021-11-02 20:32:42  2021-11-03   \n",
       "327272             2020     PVRW4196      5           2020-06-06  2020-06-06   \n",
       "414964             2022      PVR2763      0  2022-09-06 20:10:14  2022-09-07   \n",
       "214261             2022     PVMW5908     25           2022-03-02  2022-03-02   \n",
       "394401             2022      PVR1804     35  2022-06-02 17:00:28  2022-06-02   \n",
       "\n",
       "       CodigoArticulo       Partida CodigoFamilia CodigoSubfamilia  \\\n",
       "108971       AR320080             P          F013         FS013111   \n",
       "249467       AR381043             P          F038       FS03800390   \n",
       "50388        AR320086             P          F013         FS013122   \n",
       "4796         AR380544  P20265129RCA          F038       FS03800211   \n",
       "29183        AR380258  P21155004RCA          F038       FS03800620   \n",
       "392828       AR380067             P          F038       FS03800760   \n",
       "124090       AR045011             P          F004               FS   \n",
       "213175       AR031014             P          F003         FS003102   \n",
       "226161       AR812003             P          F081       FS08100201   \n",
       "118913       AR820009             P          F082       FS08200010   \n",
       "389147       AR280105             P          F028     FS2800000100   \n",
       "131785       AR012072             P          F001         FS001101   \n",
       "485910       AR100131   P22M3026F04          F069         FS069112   \n",
       "357549       AR300121             P          F030         FS030101   \n",
       "370486       AR784025             P          F078       FS07800300   \n",
       "396884       AR380582             P          F038       FS03800710   \n",
       "327272       AR381052             P          F038       FS03800780   \n",
       "414964       AR380497             P          F038       FS03800201   \n",
       "214261       AR020281             P          F002         FS002113   \n",
       "394401       AR380212             P          F038       FS03800201   \n",
       "\n",
       "       CodigodelCliente  ...  PrecioCoste %Descuento ImporteCoste  \\\n",
       "108971          C320080  ...        11,68          0        23,36   \n",
       "249467                C  ...         8,76         10        17,52   \n",
       "50388           C320086  ...        15,55          0         93,3   \n",
       "4796            C380544  ...        20,36        5,5        40,72   \n",
       "29183           C380258  ...  11,75262483         12        11,75   \n",
       "392828          C380067  ...  3,142759915         12         3,14   \n",
       "124090          C045011  ...          1,4          0         1400   \n",
       "213175                C  ...        1,527          0        15,27   \n",
       "226161                C  ...         5,95          7        29,75   \n",
       "118913                C  ...         18,3          9        13,27   \n",
       "389147          C280105  ...  7,856195079          0        15,71   \n",
       "131785          C012072  ...      20,0232          0       400,46   \n",
       "485910          C100131  ...        19,02          0        38,04   \n",
       "357549                C  ...         8,75          0         8,75   \n",
       "370486          C784025  ...  3,931125828          8         3,93   \n",
       "396884          C380582  ...  42,24651779         12        42,25   \n",
       "327272                C  ...         8,74          5         8,74   \n",
       "414964          C380497  ...  8,916839245         12         8,92   \n",
       "214261                C  ...       4,7425          0        18,97   \n",
       "394401          C380212  ...        10,31          0        20,62   \n",
       "\n",
       "       ImporteBruto  ImporteNeto  BaseImponible TotalIva ImporteLiquido  \\\n",
       "108971        26,86        26,86          26,86    2,686         29,546   \n",
       "249467           24         21,6           21,6     2,16          23,76   \n",
       "50388         87,83        87,83          87,83    8,783         96,613   \n",
       "4796           55,9        45,96        45,0408  4,50408       49,54488   \n",
       "29183          16,1        12,45        12,3255  1,23255       13,55805   \n",
       "392828          4,4          3,4          3,366   0,3366         3,7026   \n",
       "124090         1500         1500           1500      150           1650   \n",
       "213175        18,39        18,39          18,39    1,839         20,229   \n",
       "226161        46,86         41,4           41,4  10,8468        52,2468   \n",
       "118913         18,3        13,88          13,88    1,388         15,268   \n",
       "389147            0            0              0        0              0   \n",
       "131785       418,41       418,41         418,41   41,841        460,251   \n",
       "485910        41,84        41,84          41,84        0          41,84   \n",
       "357549        10,39        10,39          10,39    1,039         11,429   \n",
       "370486          6,5         5,98         5,9202  0,59202        6,51222   \n",
       "396884         58,2        45,02        44,5698  4,45698       49,02678   \n",
       "327272           12         11,4           11,4     1,14          12,54   \n",
       "414964        12,34         9,55         9,4545  0,94545       10,39995   \n",
       "214261        23,97        23,97          23,97  2,73258       26,70258   \n",
       "394401         28,3         28,3           28,3   3,2262        31,5262   \n",
       "\n",
       "       TipoArticulo (No column name)  \n",
       "108971          TPM          U081102  \n",
       "249467          TPM         U0128074  \n",
       "50388           TPM          U081102  \n",
       "4796            TPM        UBD/06/02  \n",
       "29183           TPM        UAD/05/01  \n",
       "392828          TPM         U0233051  \n",
       "124090          TPM                U  \n",
       "213175          TPM         U0117051  \n",
       "226161          TPM           UA3900  \n",
       "118913          TPM         U0900001  \n",
       "389147          TPM           UP0901  \n",
       "131785          TPM          U081501  \n",
       "485910          TPM           U04C04  \n",
       "357549          TPM          U051403  \n",
       "370486          TPM         U0175052  \n",
       "396884          TPM         U0249002  \n",
       "327272          TPM         U0108002  \n",
       "414964          TPM       U03.10.002  \n",
       "214261          TPM          U051202  \n",
       "394401          TPM       U03.08.002  \n",
       "\n",
       "[20 rows x 27 columns]"
      ]
     },
     "execution_count": 14,
     "metadata": {},
     "output_type": "execute_result"
    }
   ],
   "source": [
    "datos.sample(20)"
   ]
  },
  {
   "cell_type": "code",
   "execution_count": 15,
   "id": "bcce715f",
   "metadata": {},
   "outputs": [
    {
     "data": {
      "text/plain": [
       "Index(['EjercicioPedido', 'NumeroPedido', 'Orden', 'FechaRegistro',\n",
       "       'FechaPedido', 'CodigoArticulo', 'Partida', 'CodigoFamilia',\n",
       "       'CodigoSubfamilia', 'CodigodelCliente', 'CodigoProveedor',\n",
       "       'FechaCaduca', 'FechaEntrega', 'Ubicacion', 'Estado', '%Iva', 'Precio',\n",
       "       'PrecioCoste', '%Descuento', 'ImporteCoste', 'ImporteBruto',\n",
       "       'ImporteNeto', 'BaseImponible', 'TotalIva', 'ImporteLiquido',\n",
       "       'TipoArticulo', '(No column name)'],\n",
       "      dtype='object')"
      ]
     },
     "execution_count": 15,
     "metadata": {},
     "output_type": "execute_result"
    }
   ],
   "source": [
    "datos.columns"
   ]
  },
  {
   "cell_type": "code",
   "execution_count": 16,
   "id": "b3fa792d",
   "metadata": {},
   "outputs": [
    {
     "data": {
      "text/plain": [
       "90"
      ]
     },
     "execution_count": 16,
     "metadata": {},
     "output_type": "execute_result"
    }
   ],
   "source": [
    "len(datos.CodigoFamilia.unique())"
   ]
  },
  {
   "cell_type": "code",
   "execution_count": 17,
   "id": "8fef5e08",
   "metadata": {},
   "outputs": [
    {
     "data": {
      "text/plain": [
       "854"
      ]
     },
     "execution_count": 17,
     "metadata": {},
     "output_type": "execute_result"
    }
   ],
   "source": [
    "len(datos.CodigoSubfamilia.unique())"
   ]
  },
  {
   "cell_type": "code",
   "execution_count": 18,
   "id": "61e6238b",
   "metadata": {},
   "outputs": [
    {
     "data": {
      "text/plain": [
       "159"
      ]
     },
     "execution_count": 18,
     "metadata": {},
     "output_type": "execute_result"
    }
   ],
   "source": [
    "len(datos.CodigoProveedor.unique())"
   ]
  },
  {
   "cell_type": "code",
   "execution_count": 19,
   "id": "9c97cfa1",
   "metadata": {},
   "outputs": [
    {
     "data": {
      "text/plain": [
       "7101"
      ]
     },
     "execution_count": 19,
     "metadata": {},
     "output_type": "execute_result"
    }
   ],
   "source": [
    "len(datos.CodigoArticulo.unique())"
   ]
  },
  {
   "cell_type": "code",
   "execution_count": 20,
   "id": "71c0fffe",
   "metadata": {},
   "outputs": [
    {
     "data": {
      "text/plain": [
       "6193"
      ]
     },
     "execution_count": 20,
     "metadata": {},
     "output_type": "execute_result"
    }
   ],
   "source": [
    "len(datos.CodigodelCliente.unique())"
   ]
  },
  {
   "cell_type": "code",
   "execution_count": 21,
   "id": "deeff59b",
   "metadata": {},
   "outputs": [
    {
     "data": {
      "text/plain": [
       "160361    2021-10-22\n",
       "219515    2022-03-14\n",
       "223121    2021-04-13\n",
       "238057    2021-05-14\n",
       "188783    2021-01-27\n",
       "Name: FechaPedido, dtype: object"
      ]
     },
     "execution_count": 21,
     "metadata": {},
     "output_type": "execute_result"
    }
   ],
   "source": [
    "datos.FechaPedido.sample(5)"
   ]
  },
  {
   "cell_type": "code",
   "execution_count": 22,
   "id": "7f3b0868",
   "metadata": {},
   "outputs": [],
   "source": [
    "datos.FechaPedido = pd.to_datetime(datos.FechaPedido)"
   ]
  },
  {
   "cell_type": "code",
   "execution_count": 23,
   "id": "590ff25e",
   "metadata": {},
   "outputs": [],
   "source": [
    "datos.FechaEntrega = pd.to_datetime(datos.FechaEntrega)"
   ]
  },
  {
   "cell_type": "code",
   "execution_count": 24,
   "id": "111c8de7",
   "metadata": {},
   "outputs": [
    {
     "data": {
      "text/plain": [
       "dtype('<M8[ns]')"
      ]
     },
     "execution_count": 24,
     "metadata": {},
     "output_type": "execute_result"
    }
   ],
   "source": [
    "datos.FechaPedido.dtype"
   ]
  },
  {
   "cell_type": "code",
   "execution_count": 25,
   "id": "03f27529",
   "metadata": {},
   "outputs": [],
   "source": [
    "datos['DiferenciaDias'] = (datos.FechaEntrega - datos.FechaPedido).dt.days"
   ]
  },
  {
   "cell_type": "code",
   "execution_count": 26,
   "id": "b61c48b9",
   "metadata": {},
   "outputs": [
    {
     "data": {
      "text/plain": [
       "dtype('float64')"
      ]
     },
     "execution_count": 26,
     "metadata": {},
     "output_type": "execute_result"
    }
   ],
   "source": [
    "datos['DiferenciaDias'].dtype"
   ]
  },
  {
   "cell_type": "code",
   "execution_count": 27,
   "id": "d6722ae5",
   "metadata": {},
   "outputs": [
    {
     "data": {
      "text/html": [
       "<div>\n",
       "<style scoped>\n",
       "    .dataframe tbody tr th:only-of-type {\n",
       "        vertical-align: middle;\n",
       "    }\n",
       "\n",
       "    .dataframe tbody tr th {\n",
       "        vertical-align: top;\n",
       "    }\n",
       "\n",
       "    .dataframe thead th {\n",
       "        text-align: right;\n",
       "    }\n",
       "</style>\n",
       "<table border=\"1\" class=\"dataframe\">\n",
       "  <thead>\n",
       "    <tr style=\"text-align: right;\">\n",
       "      <th></th>\n",
       "      <th>EjercicioPedido</th>\n",
       "      <th>NumeroPedido</th>\n",
       "      <th>Orden</th>\n",
       "      <th>FechaRegistro</th>\n",
       "      <th>FechaPedido</th>\n",
       "      <th>CodigoArticulo</th>\n",
       "      <th>Partida</th>\n",
       "      <th>CodigoFamilia</th>\n",
       "      <th>CodigoSubfamilia</th>\n",
       "      <th>CodigodelCliente</th>\n",
       "      <th>...</th>\n",
       "      <th>%Descuento</th>\n",
       "      <th>ImporteCoste</th>\n",
       "      <th>ImporteBruto</th>\n",
       "      <th>ImporteNeto</th>\n",
       "      <th>BaseImponible</th>\n",
       "      <th>TotalIva</th>\n",
       "      <th>ImporteLiquido</th>\n",
       "      <th>TipoArticulo</th>\n",
       "      <th>(No column name)</th>\n",
       "      <th>DiferenciaDias</th>\n",
       "    </tr>\n",
       "  </thead>\n",
       "  <tbody>\n",
       "    <tr>\n",
       "      <th>0</th>\n",
       "      <td>2019</td>\n",
       "      <td>PBM1</td>\n",
       "      <td>5</td>\n",
       "      <td>2019-01-02 09:14:45</td>\n",
       "      <td>2019-01-02</td>\n",
       "      <td>AR020221</td>\n",
       "      <td>P0P529A</td>\n",
       "      <td>F002</td>\n",
       "      <td>FS002106</td>\n",
       "      <td>C020221</td>\n",
       "      <td>...</td>\n",
       "      <td>9</td>\n",
       "      <td>204,88</td>\n",
       "      <td>355,82</td>\n",
       "      <td>259,04</td>\n",
       "      <td>259,04</td>\n",
       "      <td>29,53056</td>\n",
       "      <td>288,57056</td>\n",
       "      <td>TPM</td>\n",
       "      <td>U09C11</td>\n",
       "      <td>0.0</td>\n",
       "    </tr>\n",
       "    <tr>\n",
       "      <th>1</th>\n",
       "      <td>2019</td>\n",
       "      <td>PBM2</td>\n",
       "      <td>5</td>\n",
       "      <td>2019-01-02 11:45:17</td>\n",
       "      <td>2019-01-02</td>\n",
       "      <td>AR320045</td>\n",
       "      <td>PPRS1061AA</td>\n",
       "      <td>F013</td>\n",
       "      <td>FS013117</td>\n",
       "      <td>C320045</td>\n",
       "      <td>...</td>\n",
       "      <td>5</td>\n",
       "      <td>45,48</td>\n",
       "      <td>59,8</td>\n",
       "      <td>56,81</td>\n",
       "      <td>56,81</td>\n",
       "      <td>5,681</td>\n",
       "      <td>62,491</td>\n",
       "      <td>TPM</td>\n",
       "      <td>U11D08</td>\n",
       "      <td>0.0</td>\n",
       "    </tr>\n",
       "    <tr>\n",
       "      <th>2</th>\n",
       "      <td>2019</td>\n",
       "      <td>PBM2</td>\n",
       "      <td>10</td>\n",
       "      <td>2019-01-02 11:45:41</td>\n",
       "      <td>2019-01-02</td>\n",
       "      <td>AR550036</td>\n",
       "      <td>P54282</td>\n",
       "      <td>F055</td>\n",
       "      <td>FS055109</td>\n",
       "      <td>C550036</td>\n",
       "      <td>...</td>\n",
       "      <td>9</td>\n",
       "      <td>92,8</td>\n",
       "      <td>116</td>\n",
       "      <td>105,56</td>\n",
       "      <td>105,56</td>\n",
       "      <td>10,556</td>\n",
       "      <td>116,116</td>\n",
       "      <td>TPM</td>\n",
       "      <td>U09F01</td>\n",
       "      <td>0.0</td>\n",
       "    </tr>\n",
       "    <tr>\n",
       "      <th>3</th>\n",
       "      <td>2019</td>\n",
       "      <td>PBM2</td>\n",
       "      <td>15</td>\n",
       "      <td>2019-01-02 11:46:15</td>\n",
       "      <td>2019-01-02</td>\n",
       "      <td>AR540066</td>\n",
       "      <td>PM-08</td>\n",
       "      <td>F054</td>\n",
       "      <td>FS054104</td>\n",
       "      <td>C540066</td>\n",
       "      <td>...</td>\n",
       "      <td>9</td>\n",
       "      <td>15,1</td>\n",
       "      <td>20,72</td>\n",
       "      <td>18,86</td>\n",
       "      <td>18,86</td>\n",
       "      <td>1,886</td>\n",
       "      <td>20,746</td>\n",
       "      <td>TPM</td>\n",
       "      <td>U01B03</td>\n",
       "      <td>0.0</td>\n",
       "    </tr>\n",
       "    <tr>\n",
       "      <th>4</th>\n",
       "      <td>2019</td>\n",
       "      <td>PBM3</td>\n",
       "      <td>5</td>\n",
       "      <td>2019-01-02 12:09:31</td>\n",
       "      <td>2019-01-02</td>\n",
       "      <td>AR033023</td>\n",
       "      <td>P0</td>\n",
       "      <td>F003</td>\n",
       "      <td>FS003129</td>\n",
       "      <td>C033023</td>\n",
       "      <td>...</td>\n",
       "      <td>14</td>\n",
       "      <td>27</td>\n",
       "      <td>32,9</td>\n",
       "      <td>28,29</td>\n",
       "      <td>28,29</td>\n",
       "      <td>5,9409</td>\n",
       "      <td>34,2309</td>\n",
       "      <td>TPM</td>\n",
       "      <td>U02A03</td>\n",
       "      <td>0.0</td>\n",
       "    </tr>\n",
       "    <tr>\n",
       "      <th>5</th>\n",
       "      <td>2019</td>\n",
       "      <td>PBM3</td>\n",
       "      <td>10</td>\n",
       "      <td>2019-01-02 12:10:03</td>\n",
       "      <td>2019-01-02</td>\n",
       "      <td>AR033021</td>\n",
       "      <td>P0</td>\n",
       "      <td>F003</td>\n",
       "      <td>FS003129</td>\n",
       "      <td>C033021</td>\n",
       "      <td>...</td>\n",
       "      <td>14</td>\n",
       "      <td>21,44</td>\n",
       "      <td>26,8</td>\n",
       "      <td>23,05</td>\n",
       "      <td>23,05</td>\n",
       "      <td>4,8405</td>\n",
       "      <td>27,8905</td>\n",
       "      <td>TPM</td>\n",
       "      <td>U04D01</td>\n",
       "      <td>0.0</td>\n",
       "    </tr>\n",
       "    <tr>\n",
       "      <th>6</th>\n",
       "      <td>2019</td>\n",
       "      <td>PBM3</td>\n",
       "      <td>15</td>\n",
       "      <td>2019-01-02 12:10:21</td>\n",
       "      <td>2019-01-02</td>\n",
       "      <td>AR033043</td>\n",
       "      <td>P0</td>\n",
       "      <td>F003</td>\n",
       "      <td>FS003129</td>\n",
       "      <td>C033043</td>\n",
       "      <td>...</td>\n",
       "      <td>14</td>\n",
       "      <td>57,5</td>\n",
       "      <td>71,85</td>\n",
       "      <td>61,79</td>\n",
       "      <td>61,79</td>\n",
       "      <td>6,179</td>\n",
       "      <td>67,969</td>\n",
       "      <td>TPM</td>\n",
       "      <td>U02B01</td>\n",
       "      <td>0.0</td>\n",
       "    </tr>\n",
       "    <tr>\n",
       "      <th>7</th>\n",
       "      <td>2019</td>\n",
       "      <td>PBM3</td>\n",
       "      <td>20</td>\n",
       "      <td>2019-01-02 12:11:02</td>\n",
       "      <td>2019-01-02</td>\n",
       "      <td>AR750606</td>\n",
       "      <td>P0</td>\n",
       "      <td>F000</td>\n",
       "      <td>FS</td>\n",
       "      <td>C750606</td>\n",
       "      <td>...</td>\n",
       "      <td>5</td>\n",
       "      <td>19,5</td>\n",
       "      <td>24,38</td>\n",
       "      <td>23,16</td>\n",
       "      <td>23,16</td>\n",
       "      <td>4,8636</td>\n",
       "      <td>28,0236</td>\n",
       "      <td>TPM</td>\n",
       "      <td>U21A01</td>\n",
       "      <td>0.0</td>\n",
       "    </tr>\n",
       "    <tr>\n",
       "      <th>8</th>\n",
       "      <td>2019</td>\n",
       "      <td>PBM3</td>\n",
       "      <td>25</td>\n",
       "      <td>2019-01-02 12:11:28</td>\n",
       "      <td>2019-01-02</td>\n",
       "      <td>AR750606</td>\n",
       "      <td>PL17F0177</td>\n",
       "      <td>F000</td>\n",
       "      <td>FS</td>\n",
       "      <td>C750606</td>\n",
       "      <td>...</td>\n",
       "      <td>5</td>\n",
       "      <td>3,9</td>\n",
       "      <td>4,88</td>\n",
       "      <td>4,64</td>\n",
       "      <td>4,64</td>\n",
       "      <td>0,9744</td>\n",
       "      <td>5,6144</td>\n",
       "      <td>TPM</td>\n",
       "      <td>U21A01</td>\n",
       "      <td>0.0</td>\n",
       "    </tr>\n",
       "    <tr>\n",
       "      <th>9</th>\n",
       "      <td>2019</td>\n",
       "      <td>PBM3</td>\n",
       "      <td>30</td>\n",
       "      <td>2019-01-03 07:41:12</td>\n",
       "      <td>2019-01-02</td>\n",
       "      <td>AR550058</td>\n",
       "      <td>P54314</td>\n",
       "      <td>F055</td>\n",
       "      <td>FS055108</td>\n",
       "      <td>C550058</td>\n",
       "      <td>...</td>\n",
       "      <td>9</td>\n",
       "      <td>80</td>\n",
       "      <td>100</td>\n",
       "      <td>68,25</td>\n",
       "      <td>68,25</td>\n",
       "      <td>6,825</td>\n",
       "      <td>75,075</td>\n",
       "      <td>TPM</td>\n",
       "      <td>U11E04</td>\n",
       "      <td>0.0</td>\n",
       "    </tr>\n",
       "  </tbody>\n",
       "</table>\n",
       "<p>10 rows × 28 columns</p>\n",
       "</div>"
      ],
      "text/plain": [
       "   EjercicioPedido NumeroPedido  Orden        FechaRegistro FechaPedido  \\\n",
       "0             2019         PBM1      5  2019-01-02 09:14:45  2019-01-02   \n",
       "1             2019         PBM2      5  2019-01-02 11:45:17  2019-01-02   \n",
       "2             2019         PBM2     10  2019-01-02 11:45:41  2019-01-02   \n",
       "3             2019         PBM2     15  2019-01-02 11:46:15  2019-01-02   \n",
       "4             2019         PBM3      5  2019-01-02 12:09:31  2019-01-02   \n",
       "5             2019         PBM3     10  2019-01-02 12:10:03  2019-01-02   \n",
       "6             2019         PBM3     15  2019-01-02 12:10:21  2019-01-02   \n",
       "7             2019         PBM3     20  2019-01-02 12:11:02  2019-01-02   \n",
       "8             2019         PBM3     25  2019-01-02 12:11:28  2019-01-02   \n",
       "9             2019         PBM3     30  2019-01-03 07:41:12  2019-01-02   \n",
       "\n",
       "  CodigoArticulo     Partida CodigoFamilia CodigoSubfamilia CodigodelCliente  \\\n",
       "0       AR020221     P0P529A          F002         FS002106          C020221   \n",
       "1       AR320045  PPRS1061AA          F013         FS013117          C320045   \n",
       "2       AR550036      P54282          F055         FS055109          C550036   \n",
       "3       AR540066       PM-08          F054         FS054104          C540066   \n",
       "4       AR033023          P0          F003         FS003129          C033023   \n",
       "5       AR033021          P0          F003         FS003129          C033021   \n",
       "6       AR033043          P0          F003         FS003129          C033043   \n",
       "7       AR750606          P0          F000               FS          C750606   \n",
       "8       AR750606   PL17F0177          F000               FS          C750606   \n",
       "9       AR550058      P54314          F055         FS055108          C550058   \n",
       "\n",
       "   ... %Descuento ImporteCoste ImporteBruto ImporteNeto  BaseImponible  \\\n",
       "0  ...          9       204,88       355,82      259,04         259,04   \n",
       "1  ...          5        45,48         59,8       56,81          56,81   \n",
       "2  ...          9         92,8          116      105,56         105,56   \n",
       "3  ...          9         15,1        20,72       18,86          18,86   \n",
       "4  ...         14           27         32,9       28,29          28,29   \n",
       "5  ...         14        21,44         26,8       23,05          23,05   \n",
       "6  ...         14         57,5        71,85       61,79          61,79   \n",
       "7  ...          5         19,5        24,38       23,16          23,16   \n",
       "8  ...          5          3,9         4,88        4,64           4,64   \n",
       "9  ...          9           80          100       68,25          68,25   \n",
       "\n",
       "   TotalIva ImporteLiquido TipoArticulo (No column name) DiferenciaDias  \n",
       "0  29,53056      288,57056          TPM           U09C11            0.0  \n",
       "1     5,681         62,491          TPM           U11D08            0.0  \n",
       "2    10,556        116,116          TPM           U09F01            0.0  \n",
       "3     1,886         20,746          TPM           U01B03            0.0  \n",
       "4    5,9409        34,2309          TPM           U02A03            0.0  \n",
       "5    4,8405        27,8905          TPM           U04D01            0.0  \n",
       "6     6,179         67,969          TPM           U02B01            0.0  \n",
       "7    4,8636        28,0236          TPM           U21A01            0.0  \n",
       "8    0,9744         5,6144          TPM           U21A01            0.0  \n",
       "9     6,825         75,075          TPM           U11E04            0.0  \n",
       "\n",
       "[10 rows x 28 columns]"
      ]
     },
     "execution_count": 27,
     "metadata": {},
     "output_type": "execute_result"
    }
   ],
   "source": [
    "datos.head(10)"
   ]
  },
  {
   "cell_type": "code",
   "execution_count": 28,
   "id": "8e263f9f",
   "metadata": {},
   "outputs": [
    {
     "data": {
      "text/plain": [
       "323.0"
      ]
     },
     "execution_count": 28,
     "metadata": {},
     "output_type": "execute_result"
    }
   ],
   "source": [
    "datos.DiferenciaDias.max()"
   ]
  },
  {
   "cell_type": "code",
   "execution_count": 29,
   "id": "a421931f",
   "metadata": {},
   "outputs": [
    {
     "data": {
      "text/plain": [
       "-0.019213262892567345"
      ]
     },
     "execution_count": 29,
     "metadata": {},
     "output_type": "execute_result"
    }
   ],
   "source": [
    "datos.DiferenciaDias.mean()"
   ]
  },
  {
   "cell_type": "code",
   "execution_count": 30,
   "id": "50a552ac",
   "metadata": {},
   "outputs": [
    {
     "data": {
      "text/plain": [
       "-324.0"
      ]
     },
     "execution_count": 30,
     "metadata": {},
     "output_type": "execute_result"
    }
   ],
   "source": [
    "datos.DiferenciaDias.min()"
   ]
  },
  {
   "cell_type": "code",
   "execution_count": 31,
   "id": "e32356c7",
   "metadata": {},
   "outputs": [
    {
     "data": {
      "text/html": [
       "<div>\n",
       "<style scoped>\n",
       "    .dataframe tbody tr th:only-of-type {\n",
       "        vertical-align: middle;\n",
       "    }\n",
       "\n",
       "    .dataframe tbody tr th {\n",
       "        vertical-align: top;\n",
       "    }\n",
       "\n",
       "    .dataframe thead th {\n",
       "        text-align: right;\n",
       "    }\n",
       "</style>\n",
       "<table border=\"1\" class=\"dataframe\">\n",
       "  <thead>\n",
       "    <tr style=\"text-align: right;\">\n",
       "      <th></th>\n",
       "      <th>FechaPedido</th>\n",
       "      <th>FechaEntrega</th>\n",
       "    </tr>\n",
       "  </thead>\n",
       "  <tbody>\n",
       "    <tr>\n",
       "      <th>45054</th>\n",
       "      <td>2019-03-18</td>\n",
       "      <td>2019-03-07</td>\n",
       "    </tr>\n",
       "    <tr>\n",
       "      <th>45055</th>\n",
       "      <td>2019-03-18</td>\n",
       "      <td>2019-03-07</td>\n",
       "    </tr>\n",
       "    <tr>\n",
       "      <th>56418</th>\n",
       "      <td>2019-01-31</td>\n",
       "      <td>2019-01-21</td>\n",
       "    </tr>\n",
       "    <tr>\n",
       "      <th>60018</th>\n",
       "      <td>2019-02-15</td>\n",
       "      <td>2019-02-14</td>\n",
       "    </tr>\n",
       "    <tr>\n",
       "      <th>60019</th>\n",
       "      <td>2019-02-15</td>\n",
       "      <td>2019-02-14</td>\n",
       "    </tr>\n",
       "    <tr>\n",
       "      <th>...</th>\n",
       "      <td>...</td>\n",
       "      <td>...</td>\n",
       "    </tr>\n",
       "    <tr>\n",
       "      <th>495029</th>\n",
       "      <td>2022-12-20</td>\n",
       "      <td>2022-12-19</td>\n",
       "    </tr>\n",
       "    <tr>\n",
       "      <th>495030</th>\n",
       "      <td>2022-12-20</td>\n",
       "      <td>2022-12-19</td>\n",
       "    </tr>\n",
       "    <tr>\n",
       "      <th>495031</th>\n",
       "      <td>2022-12-20</td>\n",
       "      <td>2022-12-19</td>\n",
       "    </tr>\n",
       "    <tr>\n",
       "      <th>495032</th>\n",
       "      <td>2022-12-20</td>\n",
       "      <td>2022-12-19</td>\n",
       "    </tr>\n",
       "    <tr>\n",
       "      <th>495033</th>\n",
       "      <td>2022-12-20</td>\n",
       "      <td>2022-12-19</td>\n",
       "    </tr>\n",
       "  </tbody>\n",
       "</table>\n",
       "<p>917 rows × 2 columns</p>\n",
       "</div>"
      ],
      "text/plain": [
       "       FechaPedido FechaEntrega\n",
       "45054   2019-03-18   2019-03-07\n",
       "45055   2019-03-18   2019-03-07\n",
       "56418   2019-01-31   2019-01-21\n",
       "60018   2019-02-15   2019-02-14\n",
       "60019   2019-02-15   2019-02-14\n",
       "...            ...          ...\n",
       "495029  2022-12-20   2022-12-19\n",
       "495030  2022-12-20   2022-12-19\n",
       "495031  2022-12-20   2022-12-19\n",
       "495032  2022-12-20   2022-12-19\n",
       "495033  2022-12-20   2022-12-19\n",
       "\n",
       "[917 rows x 2 columns]"
      ]
     },
     "execution_count": 31,
     "metadata": {},
     "output_type": "execute_result"
    }
   ],
   "source": [
    "datos[datos.FechaEntrega < datos.FechaPedido][['FechaPedido', 'FechaEntrega']]"
   ]
  },
  {
   "cell_type": "code",
   "execution_count": 32,
   "id": "cf329c69",
   "metadata": {},
   "outputs": [
    {
     "data": {
      "text/plain": [
       "(1613247, 28)"
      ]
     },
     "execution_count": 32,
     "metadata": {},
     "output_type": "execute_result"
    }
   ],
   "source": [
    "datos.shape"
   ]
  },
  {
   "cell_type": "code",
   "execution_count": 33,
   "id": "22c2b9d9",
   "metadata": {},
   "outputs": [
    {
     "data": {
      "text/plain": [
       "(917, 28)"
      ]
     },
     "execution_count": 33,
     "metadata": {},
     "output_type": "execute_result"
    }
   ],
   "source": [
    "datos[datos.FechaEntrega < datos.FechaPedido].shape"
   ]
  },
  {
   "cell_type": "code",
   "execution_count": 34,
   "id": "5b06eb15",
   "metadata": {},
   "outputs": [],
   "source": [
    "datos_one = datos"
   ]
  },
  {
   "cell_type": "code",
   "execution_count": 35,
   "id": "b75ac9b6",
   "metadata": {},
   "outputs": [],
   "source": [
    "datos = datos[datos.FechaEntrega >= datos.FechaPedido]"
   ]
  },
  {
   "cell_type": "code",
   "execution_count": 36,
   "id": "33ba3851",
   "metadata": {},
   "outputs": [
    {
     "data": {
      "text/plain": [
       "(1524904, 28)"
      ]
     },
     "execution_count": 36,
     "metadata": {},
     "output_type": "execute_result"
    }
   ],
   "source": [
    "datos.shape"
   ]
  },
  {
   "cell_type": "code",
   "execution_count": 37,
   "id": "1fa5a35f",
   "metadata": {},
   "outputs": [
    {
     "data": {
      "text/plain": [
       "1612330"
      ]
     },
     "execution_count": 37,
     "metadata": {},
     "output_type": "execute_result"
    }
   ],
   "source": [
    "1613247-917"
   ]
  },
  {
   "cell_type": "code",
   "execution_count": 38,
   "id": "581357a7",
   "metadata": {},
   "outputs": [
    {
     "data": {
      "text/plain": [
       "87426"
      ]
     },
     "execution_count": 38,
     "metadata": {},
     "output_type": "execute_result"
    }
   ],
   "source": [
    "datos_one.FechaEntrega.isna().sum()"
   ]
  },
  {
   "cell_type": "code",
   "execution_count": 39,
   "id": "9d4beb1a",
   "metadata": {},
   "outputs": [
    {
     "data": {
      "text/plain": [
       "0"
      ]
     },
     "execution_count": 39,
     "metadata": {},
     "output_type": "execute_result"
    }
   ],
   "source": [
    "datos_one.FechaPedido.isna().sum()"
   ]
  },
  {
   "cell_type": "code",
   "execution_count": 40,
   "id": "7b77d733",
   "metadata": {},
   "outputs": [
    {
     "data": {
      "text/plain": [
       "1524904"
      ]
     },
     "execution_count": 40,
     "metadata": {},
     "output_type": "execute_result"
    }
   ],
   "source": [
    "1612330-87426"
   ]
  },
  {
   "cell_type": "code",
   "execution_count": 41,
   "id": "67408b7b",
   "metadata": {},
   "outputs": [
    {
     "data": {
      "text/plain": [
       "(1524904, 28)"
      ]
     },
     "execution_count": 41,
     "metadata": {},
     "output_type": "execute_result"
    }
   ],
   "source": [
    "datos.shape"
   ]
  },
  {
   "cell_type": "code",
   "execution_count": 42,
   "id": "90fd4e1c",
   "metadata": {},
   "outputs": [
    {
     "data": {
      "text/plain": [
       "0"
      ]
     },
     "execution_count": 42,
     "metadata": {},
     "output_type": "execute_result"
    }
   ],
   "source": [
    "datos.FechaEntrega.isna().sum()"
   ]
  },
  {
   "cell_type": "code",
   "execution_count": 43,
   "id": "912bea9d",
   "metadata": {},
   "outputs": [
    {
     "data": {
      "text/plain": [
       "0"
      ]
     },
     "execution_count": 43,
     "metadata": {},
     "output_type": "execute_result"
    }
   ],
   "source": [
    "datos.FechaPedido.isna().sum()"
   ]
  },
  {
   "cell_type": "code",
   "execution_count": 44,
   "id": "1bde6136",
   "metadata": {},
   "outputs": [
    {
     "data": {
      "text/plain": [
       "323.0"
      ]
     },
     "execution_count": 44,
     "metadata": {},
     "output_type": "execute_result"
    }
   ],
   "source": [
    "datos.DiferenciaDias.max()"
   ]
  },
  {
   "cell_type": "code",
   "execution_count": 45,
   "id": "3af9e1cc",
   "metadata": {},
   "outputs": [
    {
     "data": {
      "text/plain": [
       "0.0"
      ]
     },
     "execution_count": 45,
     "metadata": {},
     "output_type": "execute_result"
    }
   ],
   "source": [
    "datos.DiferenciaDias.min()"
   ]
  },
  {
   "cell_type": "code",
   "execution_count": 46,
   "id": "7e82aeee",
   "metadata": {},
   "outputs": [
    {
     "data": {
      "text/plain": [
       "0.02348410129424541"
      ]
     },
     "execution_count": 46,
     "metadata": {},
     "output_type": "execute_result"
    }
   ],
   "source": [
    "datos.DiferenciaDias.mean()"
   ]
  },
  {
   "cell_type": "code",
   "execution_count": 47,
   "id": "9c5609ed",
   "metadata": {},
   "outputs": [
    {
     "data": {
      "text/plain": [
       "0    0.0\n",
       "dtype: float64"
      ]
     },
     "execution_count": 47,
     "metadata": {},
     "output_type": "execute_result"
    }
   ],
   "source": [
    "datos.DiferenciaDias.mode()"
   ]
  },
  {
   "cell_type": "code",
   "execution_count": 48,
   "id": "36790375",
   "metadata": {},
   "outputs": [
    {
     "data": {
      "text/plain": [
       "<matplotlib.axes._subplots.AxesSubplot at 0x7fb8c5068310>"
      ]
     },
     "execution_count": 48,
     "metadata": {},
     "output_type": "execute_result"
    },
    {
     "data": {
      "image/png": "[encoded data removed]",
      "text/plain": [
       "<Figure size 432x288 with 1 Axes>"
      ]
     },
     "metadata": {
      "needs_background": "light"
     },
     "output_type": "display_data"
    }
   ],
   "source": [
    "sns.histplot(data=datos, x=\"DiferenciaDias\")"
   ]
  },
  {
   "cell_type": "code",
   "execution_count": 49,
   "id": "959b8214",
   "metadata": {},
   "outputs": [
    {
     "data": {
      "text/html": [
       "<div>\n",
       "<style scoped>\n",
       "    .dataframe tbody tr th:only-of-type {\n",
       "        vertical-align: middle;\n",
       "    }\n",
       "\n",
       "    .dataframe tbody tr th {\n",
       "        vertical-align: top;\n",
       "    }\n",
       "\n",
       "    .dataframe thead th {\n",
       "        text-align: right;\n",
       "    }\n",
       "</style>\n",
       "<table border=\"1\" class=\"dataframe\">\n",
       "  <thead>\n",
       "    <tr style=\"text-align: right;\">\n",
       "      <th></th>\n",
       "      <th>EjercicioPedido</th>\n",
       "      <th>Orden</th>\n",
       "      <th>Estado</th>\n",
       "      <th>%Iva</th>\n",
       "      <th>DiferenciaDias</th>\n",
       "    </tr>\n",
       "  </thead>\n",
       "  <tbody>\n",
       "    <tr>\n",
       "      <th>count</th>\n",
       "      <td>1524904.00</td>\n",
       "      <td>1524904.00</td>\n",
       "      <td>1524904.00</td>\n",
       "      <td>1524904.00</td>\n",
       "      <td>1524904.00</td>\n",
       "    </tr>\n",
       "    <tr>\n",
       "      <th>mean</th>\n",
       "      <td>2020.71</td>\n",
       "      <td>39.59</td>\n",
       "      <td>2.00</td>\n",
       "      <td>10.25</td>\n",
       "      <td>0.02</td>\n",
       "    </tr>\n",
       "    <tr>\n",
       "      <th>std</th>\n",
       "      <td>1.09</td>\n",
       "      <td>528.20</td>\n",
       "      <td>0.05</td>\n",
       "      <td>4.43</td>\n",
       "      <td>1.79</td>\n",
       "    </tr>\n",
       "    <tr>\n",
       "      <th>min</th>\n",
       "      <td>2019.00</td>\n",
       "      <td>0.00</td>\n",
       "      <td>0.00</td>\n",
       "      <td>0.00</td>\n",
       "      <td>0.00</td>\n",
       "    </tr>\n",
       "    <tr>\n",
       "      <th>25%</th>\n",
       "      <td>2020.00</td>\n",
       "      <td>0.00</td>\n",
       "      <td>2.00</td>\n",
       "      <td>10.00</td>\n",
       "      <td>0.00</td>\n",
       "    </tr>\n",
       "    <tr>\n",
       "      <th>50%</th>\n",
       "      <td>2021.00</td>\n",
       "      <td>10.00</td>\n",
       "      <td>2.00</td>\n",
       "      <td>10.00</td>\n",
       "      <td>0.00</td>\n",
       "    </tr>\n",
       "    <tr>\n",
       "      <th>75%</th>\n",
       "      <td>2022.00</td>\n",
       "      <td>25.00</td>\n",
       "      <td>2.00</td>\n",
       "      <td>10.00</td>\n",
       "      <td>0.00</td>\n",
       "    </tr>\n",
       "    <tr>\n",
       "      <th>max</th>\n",
       "      <td>2022.00</td>\n",
       "      <td>32238.00</td>\n",
       "      <td>2.00</td>\n",
       "      <td>21.00</td>\n",
       "      <td>323.00</td>\n",
       "    </tr>\n",
       "  </tbody>\n",
       "</table>\n",
       "</div>"
      ],
      "text/plain": [
       "       EjercicioPedido       Orden      Estado        %Iva  DiferenciaDias\n",
       "count       1524904.00  1524904.00  1524904.00  1524904.00      1524904.00\n",
       "mean           2020.71       39.59        2.00       10.25            0.02\n",
       "std               1.09      528.20        0.05        4.43            1.79\n",
       "min            2019.00        0.00        0.00        0.00            0.00\n",
       "25%            2020.00        0.00        2.00       10.00            0.00\n",
       "50%            2021.00       10.00        2.00       10.00            0.00\n",
       "75%            2022.00       25.00        2.00       10.00            0.00\n",
       "max            2022.00    32238.00        2.00       21.00          323.00"
      ]
     },
     "execution_count": 49,
     "metadata": {},
     "output_type": "execute_result"
    }
   ],
   "source": [
    "datos.describe().round(2)"
   ]
  },
  {
   "cell_type": "code",
   "execution_count": 50,
   "id": "6d3acbff",
   "metadata": {},
   "outputs": [
    {
     "data": {
      "image/png": "[encoded data removed]",
      "text/plain": [
       "<Figure size 432x288 with 1 Axes>"
      ]
     },
     "metadata": {
      "needs_background": "light"
     },
     "output_type": "display_data"
    }
   ],
   "source": [
    "sns.histplot(datos[\"Orden\"], bins=50)\n",
    "plt.xlim(0, 1000)\n",
    "plt.show()"
   ]
  },
  {
   "cell_type": "code",
   "execution_count": 51,
   "id": "c4e0a4d1",
   "metadata": {},
   "outputs": [
    {
     "data": {
      "image/png": "[encoded data removed]",
      "text/plain": [
       "<Figure size 432x288 with 1 Axes>"
      ]
     },
     "metadata": {
      "needs_background": "light"
     },
     "output_type": "display_data"
    }
   ],
   "source": [
    "plt.boxplot(datos['DiferenciaDias'])\n",
    "plt.show()"
   ]
  }
 ],
 "metadata": {
  "kernelspec": {
   "display_name": "Python 3",
   "language": "python",
   "name": "python3"
  },
  "language_info": {
   "codemirror_mode": {
    "name": "ipython",
    "version": 3
   },
   "file_extension": ".py",
   "mimetype": "text/x-python",
   "name": "python",
   "nbconvert_exporter": "python",
   "pygments_lexer": "ipython3",
   "version": "3.7.4"
  }
 },
 "nbformat": 4,
 "nbformat_minor": 5
}
