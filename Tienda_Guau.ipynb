{
 "cells": [
  {
   "cell_type": "code",
   "execution_count": 1,
   "id": "c42cb42a",
   "metadata": {},
   "outputs": [],
   "source": [
    "import pandas as pd\n"
   ]
  },
  {
   "cell_type": "code",
   "execution_count": 4,
   "id": "7992d760",
   "metadata": {},
   "outputs": [
    {
     "data": {
      "text/plain": [
       "'C:\\\\Users\\\\uic'"
      ]
     },
     "execution_count": 4,
     "metadata": {},
     "output_type": "execute_result"
    }
   ],
   "source": [
    "pwd"
   ]
  },
  {
   "cell_type": "code",
   "execution_count": 6,
   "id": "b728ba0d",
   "metadata": {},
   "outputs": [
    {
     "name": "stdout",
     "output_type": "stream",
     "text": [
      "D:\\\n"
     ]
    }
   ],
   "source": [
    "!cd D:"
   ]
  },
  {
   "cell_type": "code",
   "execution_count": 13,
   "id": "cd7750bb",
   "metadata": {},
   "outputs": [],
   "source": [
    "_2019 = pd.read_csv(\"d:/TIENDA/Data/2019.csv\", sep =\";\")"
   ]
  },
  {
   "cell_type": "code",
   "execution_count": 14,
   "id": "93b03b21",
   "metadata": {},
   "outputs": [
    {
     "name": "stderr",
     "output_type": "stream",
     "text": [
      "C:\\Users\\uic\\AppData\\Local\\Temp\\ipykernel_19348\\500786883.py:1: DtypeWarning: Columns (13) have mixed types. Specify dtype option on import or set low_memory=False.\n",
      "  _2020 = pd.read_csv(\"d:/TIENDA/Data/2020.csv\", sep =\";\")\n"
     ]
    }
   ],
   "source": [
    "_2020 = pd.read_csv(\"d:/TIENDA/Data/2020.csv\", sep =\";\")"
   ]
  },
  {
   "cell_type": "code",
   "execution_count": 15,
   "id": "52c82668",
   "metadata": {},
   "outputs": [
    {
     "name": "stderr",
     "output_type": "stream",
     "text": [
      "C:\\Users\\uic\\AppData\\Local\\Temp\\ipykernel_19348\\3893465592.py:1: DtypeWarning: Columns (13) have mixed types. Specify dtype option on import or set low_memory=False.\n",
      "  _2021 = pd.read_csv(\"d:/TIENDA/Data/2021.csv\", sep =\";\")\n"
     ]
    }
   ],
   "source": [
    "_2021 = pd.read_csv(\"d:/TIENDA/Data/2021.csv\", sep =\";\")"
   ]
  },
  {
   "cell_type": "code",
   "execution_count": 16,
   "id": "9e394620",
   "metadata": {},
   "outputs": [
    {
     "name": "stderr",
     "output_type": "stream",
     "text": [
      "C:\\Users\\uic\\AppData\\Local\\Temp\\ipykernel_19348\\1358670156.py:1: DtypeWarning: Columns (13) have mixed types. Specify dtype option on import or set low_memory=False.\n",
      "  _2022 = pd.read_csv(\"d:/TIENDA/Data/2022.csv\", sep =\";\")\n"
     ]
    }
   ],
   "source": [
    "_2022 = pd.read_csv(\"d:/TIENDA/Data/2022.csv\", sep =\";\")"
   ]
  },
  {
   "cell_type": "code",
   "execution_count": 17,
   "id": "f5fe0d5b",
   "metadata": {},
   "outputs": [],
   "source": [
    "frames = [_2019,_2020,_2021,_2022]"
   ]
  },
  {
   "cell_type": "code",
   "execution_count": 18,
   "id": "465e8aef",
   "metadata": {},
   "outputs": [],
   "source": [
    "datos = pd.concat(frames)"
   ]
  },
  {
   "cell_type": "code",
   "execution_count": 22,
   "id": "9c6d1b64",
   "metadata": {},
   "outputs": [
    {
     "data": {
      "text/html": [
       "<div>\n",
       "<style scoped>\n",
       "    .dataframe tbody tr th:only-of-type {\n",
       "        vertical-align: middle;\n",
       "    }\n",
       "\n",
       "    .dataframe tbody tr th {\n",
       "        vertical-align: top;\n",
       "    }\n",
       "\n",
       "    .dataframe thead th {\n",
       "        text-align: right;\n",
       "    }\n",
       "</style>\n",
       "<table border=\"1\" class=\"dataframe\">\n",
       "  <thead>\n",
       "    <tr style=\"text-align: right;\">\n",
       "      <th></th>\n",
       "      <th>EjercicioPedido</th>\n",
       "      <th>NumeroPedido</th>\n",
       "      <th>Orden</th>\n",
       "      <th>FechaRegistro</th>\n",
       "      <th>FechaPedido</th>\n",
       "      <th>CodigoArticulo</th>\n",
       "      <th>Partida</th>\n",
       "      <th>CodigoFamilia</th>\n",
       "      <th>CodigoSubfamilia</th>\n",
       "      <th>CodigodelCliente</th>\n",
       "      <th>...</th>\n",
       "      <th>PrecioCoste</th>\n",
       "      <th>%Descuento</th>\n",
       "      <th>ImporteCoste</th>\n",
       "      <th>ImporteBruto</th>\n",
       "      <th>ImporteNeto</th>\n",
       "      <th>BaseImponible</th>\n",
       "      <th>TotalIva</th>\n",
       "      <th>ImporteLiquido</th>\n",
       "      <th>TipoArticulo</th>\n",
       "      <th>(No column name)</th>\n",
       "    </tr>\n",
       "  </thead>\n",
       "  <tbody>\n",
       "    <tr>\n",
       "      <th>356299</th>\n",
       "      <td>2021</td>\n",
       "      <td>PVR1076</td>\n",
       "      <td>0</td>\n",
       "      <td>2021-04-01 14:09:21</td>\n",
       "      <td>2021-04-01</td>\n",
       "      <td>AR380225</td>\n",
       "      <td>P</td>\n",
       "      <td>F038</td>\n",
       "      <td>FS03800211</td>\n",
       "      <td>C380225</td>\n",
       "      <td>...</td>\n",
       "      <td>13,18</td>\n",
       "      <td>12</td>\n",
       "      <td>13,18</td>\n",
       "      <td>18,09</td>\n",
       "      <td>13,99</td>\n",
       "      <td>13,8501</td>\n",
       "      <td>1,38501</td>\n",
       "      <td>15,23511</td>\n",
       "      <td>TPM</td>\n",
       "      <td>U0308052</td>\n",
       "    </tr>\n",
       "    <tr>\n",
       "      <th>99054</th>\n",
       "      <td>2022</td>\n",
       "      <td>PVM274</td>\n",
       "      <td>50</td>\n",
       "      <td>2022-01-08 17:56:24</td>\n",
       "      <td>2022-01-08 17:56:24</td>\n",
       "      <td>AR931202</td>\n",
       "      <td>P</td>\n",
       "      <td>F093</td>\n",
       "      <td>FS0930001015</td>\n",
       "      <td>C</td>\n",
       "      <td>...</td>\n",
       "      <td>3,432356251</td>\n",
       "      <td>0</td>\n",
       "      <td>3,43</td>\n",
       "      <td>5,18</td>\n",
       "      <td>5,18</td>\n",
       "      <td>5,18</td>\n",
       "      <td>0,518</td>\n",
       "      <td>5,698</td>\n",
       "      <td>TPM</td>\n",
       "      <td>UA5903</td>\n",
       "    </tr>\n",
       "    <tr>\n",
       "      <th>181232</th>\n",
       "      <td>2022</td>\n",
       "      <td>PVM18709</td>\n",
       "      <td>10</td>\n",
       "      <td>2022-12-02 20:21:07</td>\n",
       "      <td>2022-12-02 20:21:07</td>\n",
       "      <td>AR750802</td>\n",
       "      <td>P</td>\n",
       "      <td>F075</td>\n",
       "      <td>FS075009</td>\n",
       "      <td>C</td>\n",
       "      <td>...</td>\n",
       "      <td>6,220233018</td>\n",
       "      <td>0</td>\n",
       "      <td>12,44</td>\n",
       "      <td>18,29</td>\n",
       "      <td>18,29</td>\n",
       "      <td>18,29</td>\n",
       "      <td>1,829</td>\n",
       "      <td>20,119</td>\n",
       "      <td>TPM</td>\n",
       "      <td>U070803</td>\n",
       "    </tr>\n",
       "    <tr>\n",
       "      <th>83745</th>\n",
       "      <td>2022</td>\n",
       "      <td>POBQ147</td>\n",
       "      <td>20</td>\n",
       "      <td>2022-05-16 18:54:53</td>\n",
       "      <td>2022-05-16</td>\n",
       "      <td>AR590064</td>\n",
       "      <td>P</td>\n",
       "      <td>F059</td>\n",
       "      <td>FS059123</td>\n",
       "      <td>C590064</td>\n",
       "      <td>...</td>\n",
       "      <td>36,94</td>\n",
       "      <td>100</td>\n",
       "      <td>36,94</td>\n",
       "      <td>41,23</td>\n",
       "      <td>0</td>\n",
       "      <td>0</td>\n",
       "      <td>0</td>\n",
       "      <td>0</td>\n",
       "      <td>TPM</td>\n",
       "      <td>U051401</td>\n",
       "    </tr>\n",
       "    <tr>\n",
       "      <th>408457</th>\n",
       "      <td>2022</td>\n",
       "      <td>PVR2489</td>\n",
       "      <td>0</td>\n",
       "      <td>2022-08-06 20:41:47</td>\n",
       "      <td>2022-08-08</td>\n",
       "      <td>AR280202</td>\n",
       "      <td>P</td>\n",
       "      <td>F028</td>\n",
       "      <td>FS2800000100</td>\n",
       "      <td>C280202</td>\n",
       "      <td>...</td>\n",
       "      <td>2,285275271</td>\n",
       "      <td>0</td>\n",
       "      <td>4,57</td>\n",
       "      <td>0</td>\n",
       "      <td>0</td>\n",
       "      <td>0</td>\n",
       "      <td>0</td>\n",
       "      <td>0</td>\n",
       "      <td>TPM</td>\n",
       "      <td>UP0803</td>\n",
       "    </tr>\n",
       "    <tr>\n",
       "      <th>420085</th>\n",
       "      <td>2021</td>\n",
       "      <td>PVRW2851</td>\n",
       "      <td>55</td>\n",
       "      <td>2021-03-29</td>\n",
       "      <td>2021-03-29</td>\n",
       "      <td>AR380451</td>\n",
       "      <td>P</td>\n",
       "      <td>F038</td>\n",
       "      <td>FS03800710</td>\n",
       "      <td>C</td>\n",
       "      <td>...</td>\n",
       "      <td>19,31</td>\n",
       "      <td>19</td>\n",
       "      <td>19,31</td>\n",
       "      <td>26,5</td>\n",
       "      <td>21,46</td>\n",
       "      <td>21,46</td>\n",
       "      <td>2,146</td>\n",
       "      <td>23,606</td>\n",
       "      <td>TPM</td>\n",
       "      <td>U0323003</td>\n",
       "    </tr>\n",
       "    <tr>\n",
       "      <th>213289</th>\n",
       "      <td>2021</td>\n",
       "      <td>PVMW7863</td>\n",
       "      <td>45</td>\n",
       "      <td>2021-03-23</td>\n",
       "      <td>2021-03-23</td>\n",
       "      <td>AR070250</td>\n",
       "      <td>P</td>\n",
       "      <td>F007</td>\n",
       "      <td>FS007102</td>\n",
       "      <td>C</td>\n",
       "      <td>...</td>\n",
       "      <td>8</td>\n",
       "      <td>0</td>\n",
       "      <td>8</td>\n",
       "      <td>8,93</td>\n",
       "      <td>8,93</td>\n",
       "      <td>8,93</td>\n",
       "      <td>0,893</td>\n",
       "      <td>9,823</td>\n",
       "      <td>TPM</td>\n",
       "      <td>U081600</td>\n",
       "    </tr>\n",
       "    <tr>\n",
       "      <th>93368</th>\n",
       "      <td>2022</td>\n",
       "      <td>PVC2620</td>\n",
       "      <td>45</td>\n",
       "      <td>2022-07-25 11:38:21</td>\n",
       "      <td>2022-07-25</td>\n",
       "      <td>AR070097</td>\n",
       "      <td>P</td>\n",
       "      <td>F007</td>\n",
       "      <td>FS007000</td>\n",
       "      <td>C070097</td>\n",
       "      <td>...</td>\n",
       "      <td>5,48</td>\n",
       "      <td>0</td>\n",
       "      <td>10,96</td>\n",
       "      <td>11,52</td>\n",
       "      <td>11,52</td>\n",
       "      <td>11,52</td>\n",
       "      <td>1,152</td>\n",
       "      <td>12,672</td>\n",
       "      <td>TPM</td>\n",
       "      <td>UECM0100</td>\n",
       "    </tr>\n",
       "    <tr>\n",
       "      <th>172151</th>\n",
       "      <td>2022</td>\n",
       "      <td>PVM16736</td>\n",
       "      <td>65</td>\n",
       "      <td>2022-10-28 19:26:05</td>\n",
       "      <td>2022-10-28 19:26:05</td>\n",
       "      <td>AR940007</td>\n",
       "      <td>P</td>\n",
       "      <td>F094</td>\n",
       "      <td>FS094001</td>\n",
       "      <td>C</td>\n",
       "      <td>...</td>\n",
       "      <td>13,76329787</td>\n",
       "      <td>12,5</td>\n",
       "      <td>13,76</td>\n",
       "      <td>20,76</td>\n",
       "      <td>18,16</td>\n",
       "      <td>18,16</td>\n",
       "      <td>1,816</td>\n",
       "      <td>19,976</td>\n",
       "      <td>TPM</td>\n",
       "      <td>U01.62.051</td>\n",
       "    </tr>\n",
       "    <tr>\n",
       "      <th>151636</th>\n",
       "      <td>2022</td>\n",
       "      <td>PVM12525</td>\n",
       "      <td>5</td>\n",
       "      <td>2022-08-06 12:54:00</td>\n",
       "      <td>2022-08-06</td>\n",
       "      <td>AR880149</td>\n",
       "      <td>P</td>\n",
       "      <td>F088</td>\n",
       "      <td>FS088001</td>\n",
       "      <td>C880149</td>\n",
       "      <td>...</td>\n",
       "      <td>7,18272</td>\n",
       "      <td>5</td>\n",
       "      <td>7,18</td>\n",
       "      <td>9,28</td>\n",
       "      <td>8,82</td>\n",
       "      <td>8,82</td>\n",
       "      <td>0,882</td>\n",
       "      <td>9,702</td>\n",
       "      <td>TPM</td>\n",
       "      <td>UC21051</td>\n",
       "    </tr>\n",
       "    <tr>\n",
       "      <th>11532</th>\n",
       "      <td>2022</td>\n",
       "      <td>PBR514</td>\n",
       "      <td>0</td>\n",
       "      <td>2022-03-21 21:11:27</td>\n",
       "      <td>2022-03-22</td>\n",
       "      <td>AR830206</td>\n",
       "      <td>P21158</td>\n",
       "      <td>F083</td>\n",
       "      <td>FS08300030</td>\n",
       "      <td>C830206</td>\n",
       "      <td>...</td>\n",
       "      <td>6,11258141</td>\n",
       "      <td>14</td>\n",
       "      <td>6,11</td>\n",
       "      <td>10,18</td>\n",
       "      <td>7,09</td>\n",
       "      <td>7,0191</td>\n",
       "      <td>0,70191</td>\n",
       "      <td>7,72101</td>\n",
       "      <td>TPM</td>\n",
       "      <td>UG/07/02</td>\n",
       "    </tr>\n",
       "    <tr>\n",
       "      <th>491565</th>\n",
       "      <td>2022</td>\n",
       "      <td>PRGV904</td>\n",
       "      <td>0</td>\n",
       "      <td>2022-07-07 16:54:31</td>\n",
       "      <td>2022-07-07</td>\n",
       "      <td>AR540050</td>\n",
       "      <td>P</td>\n",
       "      <td>F054</td>\n",
       "      <td>FS054100</td>\n",
       "      <td>C540050</td>\n",
       "      <td>...</td>\n",
       "      <td>8,89</td>\n",
       "      <td>14</td>\n",
       "      <td>8,89</td>\n",
       "      <td>9,94</td>\n",
       "      <td>8,55</td>\n",
       "      <td>8,55</td>\n",
       "      <td>0</td>\n",
       "      <td>8,55</td>\n",
       "      <td>TPM</td>\n",
       "      <td>U080501</td>\n",
       "    </tr>\n",
       "    <tr>\n",
       "      <th>162420</th>\n",
       "      <td>2020</td>\n",
       "      <td>PVMW5821</td>\n",
       "      <td>25</td>\n",
       "      <td>2020-03-25</td>\n",
       "      <td>2020-03-25</td>\n",
       "      <td>AR090037</td>\n",
       "      <td>P</td>\n",
       "      <td>F069</td>\n",
       "      <td>FS069110</td>\n",
       "      <td>C</td>\n",
       "      <td>...</td>\n",
       "      <td>16,2344</td>\n",
       "      <td>0</td>\n",
       "      <td>27,6</td>\n",
       "      <td>32,82</td>\n",
       "      <td>32,82</td>\n",
       "      <td>32,82</td>\n",
       "      <td>3,282</td>\n",
       "      <td>36,102</td>\n",
       "      <td>TPM</td>\n",
       "      <td>U010500</td>\n",
       "    </tr>\n",
       "    <tr>\n",
       "      <th>63940</th>\n",
       "      <td>2020</td>\n",
       "      <td>PVC3192</td>\n",
       "      <td>15</td>\n",
       "      <td>2020-11-09 09:19:06</td>\n",
       "      <td>2020-11-09</td>\n",
       "      <td>AR070109</td>\n",
       "      <td>P</td>\n",
       "      <td>F007</td>\n",
       "      <td>FS007000</td>\n",
       "      <td>C070109</td>\n",
       "      <td>...</td>\n",
       "      <td>2,309</td>\n",
       "      <td>0</td>\n",
       "      <td>2,31</td>\n",
       "      <td>4,62</td>\n",
       "      <td>4,62</td>\n",
       "      <td>4,62</td>\n",
       "      <td>0,9702</td>\n",
       "      <td>5,5902</td>\n",
       "      <td>TPM</td>\n",
       "      <td>U091800</td>\n",
       "    </tr>\n",
       "    <tr>\n",
       "      <th>79052</th>\n",
       "      <td>2022</td>\n",
       "      <td>PMM571</td>\n",
       "      <td>195</td>\n",
       "      <td>2022-09-26 21:25:43</td>\n",
       "      <td>2022-09-26</td>\n",
       "      <td>AR780101</td>\n",
       "      <td>P</td>\n",
       "      <td>F078</td>\n",
       "      <td>FS07800010</td>\n",
       "      <td>C780101</td>\n",
       "      <td>...</td>\n",
       "      <td>27,80279007</td>\n",
       "      <td>0</td>\n",
       "      <td>27,8</td>\n",
       "      <td>22,58</td>\n",
       "      <td>22,58</td>\n",
       "      <td>22,58</td>\n",
       "      <td>2,258</td>\n",
       "      <td>24,838</td>\n",
       "      <td>TPM</td>\n",
       "      <td>U01.50.003</td>\n",
       "    </tr>\n",
       "    <tr>\n",
       "      <th>170772</th>\n",
       "      <td>2019</td>\n",
       "      <td>PVMW15424</td>\n",
       "      <td>5</td>\n",
       "      <td>2019-10-28</td>\n",
       "      <td>2019-10-28</td>\n",
       "      <td>AR320092</td>\n",
       "      <td>P</td>\n",
       "      <td>F013</td>\n",
       "      <td>FS013122</td>\n",
       "      <td>C</td>\n",
       "      <td>...</td>\n",
       "      <td>24,11</td>\n",
       "      <td>0</td>\n",
       "      <td>24,11</td>\n",
       "      <td>26,91</td>\n",
       "      <td>26,91</td>\n",
       "      <td>26,91</td>\n",
       "      <td>2,691</td>\n",
       "      <td>29,601</td>\n",
       "      <td>TPM</td>\n",
       "      <td>U081100</td>\n",
       "    </tr>\n",
       "    <tr>\n",
       "      <th>80460</th>\n",
       "      <td>2020</td>\n",
       "      <td>PVM8069</td>\n",
       "      <td>5</td>\n",
       "      <td>2020-04-01 08:00:25</td>\n",
       "      <td>2020-04-01 08:00:25</td>\n",
       "      <td>AR012214</td>\n",
       "      <td>P</td>\n",
       "      <td>F001</td>\n",
       "      <td>FS001110</td>\n",
       "      <td>C</td>\n",
       "      <td>...</td>\n",
       "      <td>0</td>\n",
       "      <td>5</td>\n",
       "      <td>0</td>\n",
       "      <td>24,67</td>\n",
       "      <td>23,44</td>\n",
       "      <td>23,44</td>\n",
       "      <td>2,344</td>\n",
       "      <td>25,784</td>\n",
       "      <td>TPM</td>\n",
       "      <td>U010700</td>\n",
       "    </tr>\n",
       "    <tr>\n",
       "      <th>297135</th>\n",
       "      <td>2021</td>\n",
       "      <td>PVMW26558</td>\n",
       "      <td>10</td>\n",
       "      <td>2021-09-21</td>\n",
       "      <td>2021-09-21</td>\n",
       "      <td>AR013026</td>\n",
       "      <td>P</td>\n",
       "      <td>F076</td>\n",
       "      <td>FS</td>\n",
       "      <td>C</td>\n",
       "      <td>...</td>\n",
       "      <td>3,594</td>\n",
       "      <td>0</td>\n",
       "      <td>17,97</td>\n",
       "      <td>23,36</td>\n",
       "      <td>23,36</td>\n",
       "      <td>23,36</td>\n",
       "      <td>4,9056</td>\n",
       "      <td>28,2656</td>\n",
       "      <td>TPM</td>\n",
       "      <td>U070900</td>\n",
       "    </tr>\n",
       "    <tr>\n",
       "      <th>196746</th>\n",
       "      <td>2021</td>\n",
       "      <td>PVMW4160</td>\n",
       "      <td>10</td>\n",
       "      <td>2021-02-15</td>\n",
       "      <td>2021-02-15</td>\n",
       "      <td>AR300109</td>\n",
       "      <td>P</td>\n",
       "      <td>F030</td>\n",
       "      <td>FS030104</td>\n",
       "      <td>C</td>\n",
       "      <td>...</td>\n",
       "      <td>3,5</td>\n",
       "      <td>0</td>\n",
       "      <td>17,5</td>\n",
       "      <td>21,22</td>\n",
       "      <td>21,22</td>\n",
       "      <td>21,22</td>\n",
       "      <td>2,41908</td>\n",
       "      <td>23,63908</td>\n",
       "      <td>TPM</td>\n",
       "      <td>U051003</td>\n",
       "    </tr>\n",
       "    <tr>\n",
       "      <th>3001</th>\n",
       "      <td>2020</td>\n",
       "      <td>PBR31</td>\n",
       "      <td>85</td>\n",
       "      <td>2020-01-07 10:56:37</td>\n",
       "      <td>2020-01-07</td>\n",
       "      <td>AR380308</td>\n",
       "      <td>P19326025RCA</td>\n",
       "      <td>F038</td>\n",
       "      <td>FS03800211</td>\n",
       "      <td>C380308</td>\n",
       "      <td>...</td>\n",
       "      <td>21,54</td>\n",
       "      <td>20</td>\n",
       "      <td>21,54</td>\n",
       "      <td>29,56</td>\n",
       "      <td>23,65</td>\n",
       "      <td>23,65</td>\n",
       "      <td>2,365</td>\n",
       "      <td>26,015</td>\n",
       "      <td>TPM</td>\n",
       "      <td>UBD/09/01</td>\n",
       "    </tr>\n",
       "  </tbody>\n",
       "</table>\n",
       "<p>20 rows × 27 columns</p>\n",
       "</div>"
      ],
      "text/plain": [
       "        EjercicioPedido NumeroPedido  Orden        FechaRegistro  \\\n",
       "356299             2021      PVR1076      0  2021-04-01 14:09:21   \n",
       "99054              2022       PVM274     50  2022-01-08 17:56:24   \n",
       "181232             2022     PVM18709     10  2022-12-02 20:21:07   \n",
       "83745              2022      POBQ147     20  2022-05-16 18:54:53   \n",
       "408457             2022      PVR2489      0  2022-08-06 20:41:47   \n",
       "420085             2021     PVRW2851     55           2021-03-29   \n",
       "213289             2021     PVMW7863     45           2021-03-23   \n",
       "93368              2022      PVC2620     45  2022-07-25 11:38:21   \n",
       "172151             2022     PVM16736     65  2022-10-28 19:26:05   \n",
       "151636             2022     PVM12525      5  2022-08-06 12:54:00   \n",
       "11532              2022       PBR514      0  2022-03-21 21:11:27   \n",
       "491565             2022      PRGV904      0  2022-07-07 16:54:31   \n",
       "162420             2020     PVMW5821     25           2020-03-25   \n",
       "63940              2020      PVC3192     15  2020-11-09 09:19:06   \n",
       "79052              2022       PMM571    195  2022-09-26 21:25:43   \n",
       "170772             2019    PVMW15424      5           2019-10-28   \n",
       "80460              2020      PVM8069      5  2020-04-01 08:00:25   \n",
       "297135             2021    PVMW26558     10           2021-09-21   \n",
       "196746             2021     PVMW4160     10           2021-02-15   \n",
       "3001               2020        PBR31     85  2020-01-07 10:56:37   \n",
       "\n",
       "                FechaPedido CodigoArticulo       Partida CodigoFamilia  \\\n",
       "356299           2021-04-01       AR380225             P          F038   \n",
       "99054   2022-01-08 17:56:24       AR931202             P          F093   \n",
       "181232  2022-12-02 20:21:07       AR750802             P          F075   \n",
       "83745            2022-05-16       AR590064             P          F059   \n",
       "408457           2022-08-08       AR280202             P          F028   \n",
       "420085           2021-03-29       AR380451             P          F038   \n",
       "213289           2021-03-23       AR070250             P          F007   \n",
       "93368            2022-07-25       AR070097             P          F007   \n",
       "172151  2022-10-28 19:26:05       AR940007             P          F094   \n",
       "151636           2022-08-06       AR880149             P          F088   \n",
       "11532            2022-03-22       AR830206        P21158          F083   \n",
       "491565           2022-07-07       AR540050             P          F054   \n",
       "162420           2020-03-25       AR090037             P          F069   \n",
       "63940            2020-11-09       AR070109             P          F007   \n",
       "79052            2022-09-26       AR780101             P          F078   \n",
       "170772           2019-10-28       AR320092             P          F013   \n",
       "80460   2020-04-01 08:00:25       AR012214             P          F001   \n",
       "297135           2021-09-21       AR013026             P          F076   \n",
       "196746           2021-02-15       AR300109             P          F030   \n",
       "3001             2020-01-07       AR380308  P19326025RCA          F038   \n",
       "\n",
       "       CodigoSubfamilia CodigodelCliente  ...  PrecioCoste %Descuento  \\\n",
       "356299       FS03800211          C380225  ...        13,18         12   \n",
       "99054      FS0930001015                C  ...  3,432356251          0   \n",
       "181232         FS075009                C  ...  6,220233018          0   \n",
       "83745          FS059123          C590064  ...        36,94        100   \n",
       "408457     FS2800000100          C280202  ...  2,285275271          0   \n",
       "420085       FS03800710                C  ...        19,31         19   \n",
       "213289         FS007102                C  ...            8          0   \n",
       "93368          FS007000          C070097  ...         5,48          0   \n",
       "172151         FS094001                C  ...  13,76329787       12,5   \n",
       "151636         FS088001          C880149  ...      7,18272          5   \n",
       "11532        FS08300030          C830206  ...   6,11258141         14   \n",
       "491565         FS054100          C540050  ...         8,89         14   \n",
       "162420         FS069110                C  ...      16,2344          0   \n",
       "63940          FS007000          C070109  ...        2,309          0   \n",
       "79052        FS07800010          C780101  ...  27,80279007          0   \n",
       "170772         FS013122                C  ...        24,11          0   \n",
       "80460          FS001110                C  ...            0          5   \n",
       "297135               FS                C  ...        3,594          0   \n",
       "196746         FS030104                C  ...          3,5          0   \n",
       "3001         FS03800211          C380308  ...        21,54         20   \n",
       "\n",
       "       ImporteCoste ImporteBruto  ImporteNeto  BaseImponible TotalIva  \\\n",
       "356299        13,18        18,09        13,99        13,8501  1,38501   \n",
       "99054          3,43         5,18         5,18           5,18    0,518   \n",
       "181232        12,44        18,29        18,29          18,29    1,829   \n",
       "83745         36,94        41,23            0              0        0   \n",
       "408457         4,57            0            0              0        0   \n",
       "420085        19,31         26,5        21,46          21,46    2,146   \n",
       "213289            8         8,93         8,93           8,93    0,893   \n",
       "93368         10,96        11,52        11,52          11,52    1,152   \n",
       "172151        13,76        20,76        18,16          18,16    1,816   \n",
       "151636         7,18         9,28         8,82           8,82    0,882   \n",
       "11532          6,11        10,18         7,09         7,0191  0,70191   \n",
       "491565         8,89         9,94         8,55           8,55        0   \n",
       "162420         27,6        32,82        32,82          32,82    3,282   \n",
       "63940          2,31         4,62         4,62           4,62   0,9702   \n",
       "79052          27,8        22,58        22,58          22,58    2,258   \n",
       "170772        24,11        26,91        26,91          26,91    2,691   \n",
       "80460             0        24,67        23,44          23,44    2,344   \n",
       "297135        17,97        23,36        23,36          23,36   4,9056   \n",
       "196746         17,5        21,22        21,22          21,22  2,41908   \n",
       "3001          21,54        29,56        23,65          23,65    2,365   \n",
       "\n",
       "       ImporteLiquido TipoArticulo (No column name)  \n",
       "356299       15,23511          TPM         U0308052  \n",
       "99054           5,698          TPM           UA5903  \n",
       "181232         20,119          TPM          U070803  \n",
       "83745               0          TPM          U051401  \n",
       "408457              0          TPM           UP0803  \n",
       "420085         23,606          TPM         U0323003  \n",
       "213289          9,823          TPM          U081600  \n",
       "93368          12,672          TPM         UECM0100  \n",
       "172151         19,976          TPM       U01.62.051  \n",
       "151636          9,702          TPM          UC21051  \n",
       "11532         7,72101          TPM         UG/07/02  \n",
       "491565           8,55          TPM          U080501  \n",
       "162420         36,102          TPM          U010500  \n",
       "63940          5,5902          TPM          U091800  \n",
       "79052          24,838          TPM       U01.50.003  \n",
       "170772         29,601          TPM          U081100  \n",
       "80460          25,784          TPM          U010700  \n",
       "297135        28,2656          TPM          U070900  \n",
       "196746       23,63908          TPM          U051003  \n",
       "3001           26,015          TPM        UBD/09/01  \n",
       "\n",
       "[20 rows x 27 columns]"
      ]
     },
     "execution_count": 22,
     "metadata": {},
     "output_type": "execute_result"
    }
   ],
   "source": [
    "datos.sample(20)"
   ]
  },
  {
   "cell_type": "code",
   "execution_count": 20,
   "id": "008a1cc5",
   "metadata": {},
   "outputs": [
    {
     "data": {
      "text/plain": [
       "Index(['EjercicioPedido', 'NumeroPedido', 'Orden', 'FechaRegistro',\n",
       "       'FechaPedido', 'CodigoArticulo', 'Partida', 'CodigoFamilia',\n",
       "       'CodigoSubfamilia', 'CodigodelCliente', 'CodigoProveedor',\n",
       "       'FechaCaduca', 'FechaEntrega', 'Ubicacion', 'Estado', '%Iva', 'Precio',\n",
       "       'PrecioCoste', '%Descuento', 'ImporteCoste', 'ImporteBruto',\n",
       "       'ImporteNeto', 'BaseImponible', 'TotalIva', 'ImporteLiquido',\n",
       "       'TipoArticulo', '(No column name)'],\n",
       "      dtype='object')"
      ]
     },
     "execution_count": 20,
     "metadata": {},
     "output_type": "execute_result"
    }
   ],
   "source": [
    "datos.columns"
   ]
  },
  {
   "cell_type": "code",
   "execution_count": 32,
   "id": "842bada2",
   "metadata": {},
   "outputs": [
    {
     "data": {
      "text/plain": [
       "90"
      ]
     },
     "execution_count": 32,
     "metadata": {},
     "output_type": "execute_result"
    }
   ],
   "source": [
    "len(datos.CodigoFamilia.unique())"
   ]
  },
  {
   "cell_type": "code",
   "execution_count": 34,
   "id": "e1cdea99",
   "metadata": {},
   "outputs": [
    {
     "data": {
      "text/plain": [
       "854"
      ]
     },
     "execution_count": 34,
     "metadata": {},
     "output_type": "execute_result"
    }
   ],
   "source": [
    "len(datos.CodigoSubfamilia.unique())"
   ]
  },
  {
   "cell_type": "code",
   "execution_count": 35,
   "id": "383589a6",
   "metadata": {},
   "outputs": [
    {
     "data": {
      "text/plain": [
       "159"
      ]
     },
     "execution_count": 35,
     "metadata": {},
     "output_type": "execute_result"
    }
   ],
   "source": [
    "len(datos.CodigoProveedor.unique())"
   ]
  },
  {
   "cell_type": "code",
   "execution_count": 36,
   "id": "b3930fcd",
   "metadata": {},
   "outputs": [
    {
     "data": {
      "text/plain": [
       "7101"
      ]
     },
     "execution_count": 36,
     "metadata": {},
     "output_type": "execute_result"
    }
   ],
   "source": [
    "len(datos.CodigoArticulo.unique())"
   ]
  },
  {
   "cell_type": "code",
   "execution_count": 38,
   "id": "16be8d65",
   "metadata": {},
   "outputs": [
    {
     "data": {
      "text/plain": [
       "6193"
      ]
     },
     "execution_count": 38,
     "metadata": {},
     "output_type": "execute_result"
    }
   ],
   "source": [
    "len(datos.CodigodelCliente.unique())"
   ]
  },
  {
   "cell_type": "code",
   "execution_count": 41,
   "id": "efa58965",
   "metadata": {},
   "outputs": [
    {
     "data": {
      "text/plain": [
       "350049    2021-03-03\n",
       "280186    2019-02-22\n",
       "173262    2022-11-02\n",
       "163765    2019-09-24\n",
       "288992    2019-01-02\n",
       "Name: FechaPedido, dtype: object"
      ]
     },
     "execution_count": 41,
     "metadata": {},
     "output_type": "execute_result"
    }
   ],
   "source": [
    "datos.FechaPedido.sample(5)"
   ]
  },
  {
   "cell_type": "code",
   "execution_count": 42,
   "id": "c230b336",
   "metadata": {},
   "outputs": [],
   "source": [
    "datos.FechaPedido = pd.to_datetime(datos.FechaPedido)"
   ]
  },
  {
   "cell_type": "code",
   "execution_count": 43,
   "id": "8eed203f",
   "metadata": {},
   "outputs": [],
   "source": [
    "datos.FechaEntrega = pd.to_datetime(datos.FechaEntrega)"
   ]
  },
  {
   "cell_type": "code",
   "execution_count": 70,
   "id": "8e0993f6",
   "metadata": {},
   "outputs": [],
   "source": [
    "from datetime import datetime, timedelta"
   ]
  },
  {
   "cell_type": "code",
   "execution_count": 71,
   "id": "289ea371",
   "metadata": {},
   "outputs": [],
   "source": [
    "datos['tiempo'] = (datos.FechaEntrega - datos.FechaPedido) / timedelta(days=1)"
   ]
  },
  {
   "cell_type": "code",
   "execution_count": 72,
   "id": "2d4782d3",
   "metadata": {},
   "outputs": [
    {
     "data": {
      "text/plain": [
       "dtype('float64')"
      ]
     },
     "execution_count": 72,
     "metadata": {},
     "output_type": "execute_result"
    }
   ],
   "source": [
    "datos['tiempo'].dtypes"
   ]
  },
  {
   "cell_type": "code",
   "execution_count": 73,
   "id": "bafd1684",
   "metadata": {},
   "outputs": [
    {
     "data": {
      "text/html": [
       "<div>\n",
       "<style scoped>\n",
       "    .dataframe tbody tr th:only-of-type {\n",
       "        vertical-align: middle;\n",
       "    }\n",
       "\n",
       "    .dataframe tbody tr th {\n",
       "        vertical-align: top;\n",
       "    }\n",
       "\n",
       "    .dataframe thead th {\n",
       "        text-align: right;\n",
       "    }\n",
       "</style>\n",
       "<table border=\"1\" class=\"dataframe\">\n",
       "  <thead>\n",
       "    <tr style=\"text-align: right;\">\n",
       "      <th></th>\n",
       "      <th>EjercicioPedido</th>\n",
       "      <th>NumeroPedido</th>\n",
       "      <th>Orden</th>\n",
       "      <th>FechaRegistro</th>\n",
       "      <th>FechaPedido</th>\n",
       "      <th>CodigoArticulo</th>\n",
       "      <th>Partida</th>\n",
       "      <th>CodigoFamilia</th>\n",
       "      <th>CodigoSubfamilia</th>\n",
       "      <th>CodigodelCliente</th>\n",
       "      <th>...</th>\n",
       "      <th>%Descuento</th>\n",
       "      <th>ImporteCoste</th>\n",
       "      <th>ImporteBruto</th>\n",
       "      <th>ImporteNeto</th>\n",
       "      <th>BaseImponible</th>\n",
       "      <th>TotalIva</th>\n",
       "      <th>ImporteLiquido</th>\n",
       "      <th>TipoArticulo</th>\n",
       "      <th>(No column name)</th>\n",
       "      <th>tiempo</th>\n",
       "    </tr>\n",
       "  </thead>\n",
       "  <tbody>\n",
       "    <tr>\n",
       "      <th>0</th>\n",
       "      <td>2019</td>\n",
       "      <td>PBM1</td>\n",
       "      <td>5</td>\n",
       "      <td>2019-01-02 09:14:45</td>\n",
       "      <td>2019-01-02</td>\n",
       "      <td>AR020221</td>\n",
       "      <td>P0P529A</td>\n",
       "      <td>F002</td>\n",
       "      <td>FS002106</td>\n",
       "      <td>C020221</td>\n",
       "      <td>...</td>\n",
       "      <td>9</td>\n",
       "      <td>204,88</td>\n",
       "      <td>355,82</td>\n",
       "      <td>259,04</td>\n",
       "      <td>259,04</td>\n",
       "      <td>29,53056</td>\n",
       "      <td>288,57056</td>\n",
       "      <td>TPM</td>\n",
       "      <td>U09C11</td>\n",
       "      <td>0.0</td>\n",
       "    </tr>\n",
       "    <tr>\n",
       "      <th>1</th>\n",
       "      <td>2019</td>\n",
       "      <td>PBM2</td>\n",
       "      <td>5</td>\n",
       "      <td>2019-01-02 11:45:17</td>\n",
       "      <td>2019-01-02</td>\n",
       "      <td>AR320045</td>\n",
       "      <td>PPRS1061AA</td>\n",
       "      <td>F013</td>\n",
       "      <td>FS013117</td>\n",
       "      <td>C320045</td>\n",
       "      <td>...</td>\n",
       "      <td>5</td>\n",
       "      <td>45,48</td>\n",
       "      <td>59,8</td>\n",
       "      <td>56,81</td>\n",
       "      <td>56,81</td>\n",
       "      <td>5,681</td>\n",
       "      <td>62,491</td>\n",
       "      <td>TPM</td>\n",
       "      <td>U11D08</td>\n",
       "      <td>0.0</td>\n",
       "    </tr>\n",
       "    <tr>\n",
       "      <th>2</th>\n",
       "      <td>2019</td>\n",
       "      <td>PBM2</td>\n",
       "      <td>10</td>\n",
       "      <td>2019-01-02 11:45:41</td>\n",
       "      <td>2019-01-02</td>\n",
       "      <td>AR550036</td>\n",
       "      <td>P54282</td>\n",
       "      <td>F055</td>\n",
       "      <td>FS055109</td>\n",
       "      <td>C550036</td>\n",
       "      <td>...</td>\n",
       "      <td>9</td>\n",
       "      <td>92,8</td>\n",
       "      <td>116</td>\n",
       "      <td>105,56</td>\n",
       "      <td>105,56</td>\n",
       "      <td>10,556</td>\n",
       "      <td>116,116</td>\n",
       "      <td>TPM</td>\n",
       "      <td>U09F01</td>\n",
       "      <td>0.0</td>\n",
       "    </tr>\n",
       "    <tr>\n",
       "      <th>3</th>\n",
       "      <td>2019</td>\n",
       "      <td>PBM2</td>\n",
       "      <td>15</td>\n",
       "      <td>2019-01-02 11:46:15</td>\n",
       "      <td>2019-01-02</td>\n",
       "      <td>AR540066</td>\n",
       "      <td>PM-08</td>\n",
       "      <td>F054</td>\n",
       "      <td>FS054104</td>\n",
       "      <td>C540066</td>\n",
       "      <td>...</td>\n",
       "      <td>9</td>\n",
       "      <td>15,1</td>\n",
       "      <td>20,72</td>\n",
       "      <td>18,86</td>\n",
       "      <td>18,86</td>\n",
       "      <td>1,886</td>\n",
       "      <td>20,746</td>\n",
       "      <td>TPM</td>\n",
       "      <td>U01B03</td>\n",
       "      <td>0.0</td>\n",
       "    </tr>\n",
       "    <tr>\n",
       "      <th>4</th>\n",
       "      <td>2019</td>\n",
       "      <td>PBM3</td>\n",
       "      <td>5</td>\n",
       "      <td>2019-01-02 12:09:31</td>\n",
       "      <td>2019-01-02</td>\n",
       "      <td>AR033023</td>\n",
       "      <td>P0</td>\n",
       "      <td>F003</td>\n",
       "      <td>FS003129</td>\n",
       "      <td>C033023</td>\n",
       "      <td>...</td>\n",
       "      <td>14</td>\n",
       "      <td>27</td>\n",
       "      <td>32,9</td>\n",
       "      <td>28,29</td>\n",
       "      <td>28,29</td>\n",
       "      <td>5,9409</td>\n",
       "      <td>34,2309</td>\n",
       "      <td>TPM</td>\n",
       "      <td>U02A03</td>\n",
       "      <td>0.0</td>\n",
       "    </tr>\n",
       "    <tr>\n",
       "      <th>5</th>\n",
       "      <td>2019</td>\n",
       "      <td>PBM3</td>\n",
       "      <td>10</td>\n",
       "      <td>2019-01-02 12:10:03</td>\n",
       "      <td>2019-01-02</td>\n",
       "      <td>AR033021</td>\n",
       "      <td>P0</td>\n",
       "      <td>F003</td>\n",
       "      <td>FS003129</td>\n",
       "      <td>C033021</td>\n",
       "      <td>...</td>\n",
       "      <td>14</td>\n",
       "      <td>21,44</td>\n",
       "      <td>26,8</td>\n",
       "      <td>23,05</td>\n",
       "      <td>23,05</td>\n",
       "      <td>4,8405</td>\n",
       "      <td>27,8905</td>\n",
       "      <td>TPM</td>\n",
       "      <td>U04D01</td>\n",
       "      <td>0.0</td>\n",
       "    </tr>\n",
       "    <tr>\n",
       "      <th>6</th>\n",
       "      <td>2019</td>\n",
       "      <td>PBM3</td>\n",
       "      <td>15</td>\n",
       "      <td>2019-01-02 12:10:21</td>\n",
       "      <td>2019-01-02</td>\n",
       "      <td>AR033043</td>\n",
       "      <td>P0</td>\n",
       "      <td>F003</td>\n",
       "      <td>FS003129</td>\n",
       "      <td>C033043</td>\n",
       "      <td>...</td>\n",
       "      <td>14</td>\n",
       "      <td>57,5</td>\n",
       "      <td>71,85</td>\n",
       "      <td>61,79</td>\n",
       "      <td>61,79</td>\n",
       "      <td>6,179</td>\n",
       "      <td>67,969</td>\n",
       "      <td>TPM</td>\n",
       "      <td>U02B01</td>\n",
       "      <td>0.0</td>\n",
       "    </tr>\n",
       "    <tr>\n",
       "      <th>7</th>\n",
       "      <td>2019</td>\n",
       "      <td>PBM3</td>\n",
       "      <td>20</td>\n",
       "      <td>2019-01-02 12:11:02</td>\n",
       "      <td>2019-01-02</td>\n",
       "      <td>AR750606</td>\n",
       "      <td>P0</td>\n",
       "      <td>F000</td>\n",
       "      <td>FS</td>\n",
       "      <td>C750606</td>\n",
       "      <td>...</td>\n",
       "      <td>5</td>\n",
       "      <td>19,5</td>\n",
       "      <td>24,38</td>\n",
       "      <td>23,16</td>\n",
       "      <td>23,16</td>\n",
       "      <td>4,8636</td>\n",
       "      <td>28,0236</td>\n",
       "      <td>TPM</td>\n",
       "      <td>U21A01</td>\n",
       "      <td>0.0</td>\n",
       "    </tr>\n",
       "    <tr>\n",
       "      <th>8</th>\n",
       "      <td>2019</td>\n",
       "      <td>PBM3</td>\n",
       "      <td>25</td>\n",
       "      <td>2019-01-02 12:11:28</td>\n",
       "      <td>2019-01-02</td>\n",
       "      <td>AR750606</td>\n",
       "      <td>PL17F0177</td>\n",
       "      <td>F000</td>\n",
       "      <td>FS</td>\n",
       "      <td>C750606</td>\n",
       "      <td>...</td>\n",
       "      <td>5</td>\n",
       "      <td>3,9</td>\n",
       "      <td>4,88</td>\n",
       "      <td>4,64</td>\n",
       "      <td>4,64</td>\n",
       "      <td>0,9744</td>\n",
       "      <td>5,6144</td>\n",
       "      <td>TPM</td>\n",
       "      <td>U21A01</td>\n",
       "      <td>0.0</td>\n",
       "    </tr>\n",
       "    <tr>\n",
       "      <th>9</th>\n",
       "      <td>2019</td>\n",
       "      <td>PBM3</td>\n",
       "      <td>30</td>\n",
       "      <td>2019-01-03 07:41:12</td>\n",
       "      <td>2019-01-02</td>\n",
       "      <td>AR550058</td>\n",
       "      <td>P54314</td>\n",
       "      <td>F055</td>\n",
       "      <td>FS055108</td>\n",
       "      <td>C550058</td>\n",
       "      <td>...</td>\n",
       "      <td>9</td>\n",
       "      <td>80</td>\n",
       "      <td>100</td>\n",
       "      <td>68,25</td>\n",
       "      <td>68,25</td>\n",
       "      <td>6,825</td>\n",
       "      <td>75,075</td>\n",
       "      <td>TPM</td>\n",
       "      <td>U11E04</td>\n",
       "      <td>0.0</td>\n",
       "    </tr>\n",
       "  </tbody>\n",
       "</table>\n",
       "<p>10 rows × 28 columns</p>\n",
       "</div>"
      ],
      "text/plain": [
       "   EjercicioPedido NumeroPedido  Orden        FechaRegistro FechaPedido  \\\n",
       "0             2019         PBM1      5  2019-01-02 09:14:45  2019-01-02   \n",
       "1             2019         PBM2      5  2019-01-02 11:45:17  2019-01-02   \n",
       "2             2019         PBM2     10  2019-01-02 11:45:41  2019-01-02   \n",
       "3             2019         PBM2     15  2019-01-02 11:46:15  2019-01-02   \n",
       "4             2019         PBM3      5  2019-01-02 12:09:31  2019-01-02   \n",
       "5             2019         PBM3     10  2019-01-02 12:10:03  2019-01-02   \n",
       "6             2019         PBM3     15  2019-01-02 12:10:21  2019-01-02   \n",
       "7             2019         PBM3     20  2019-01-02 12:11:02  2019-01-02   \n",
       "8             2019         PBM3     25  2019-01-02 12:11:28  2019-01-02   \n",
       "9             2019         PBM3     30  2019-01-03 07:41:12  2019-01-02   \n",
       "\n",
       "  CodigoArticulo     Partida CodigoFamilia CodigoSubfamilia CodigodelCliente  \\\n",
       "0       AR020221     P0P529A          F002         FS002106          C020221   \n",
       "1       AR320045  PPRS1061AA          F013         FS013117          C320045   \n",
       "2       AR550036      P54282          F055         FS055109          C550036   \n",
       "3       AR540066       PM-08          F054         FS054104          C540066   \n",
       "4       AR033023          P0          F003         FS003129          C033023   \n",
       "5       AR033021          P0          F003         FS003129          C033021   \n",
       "6       AR033043          P0          F003         FS003129          C033043   \n",
       "7       AR750606          P0          F000               FS          C750606   \n",
       "8       AR750606   PL17F0177          F000               FS          C750606   \n",
       "9       AR550058      P54314          F055         FS055108          C550058   \n",
       "\n",
       "   ... %Descuento ImporteCoste ImporteBruto ImporteNeto  BaseImponible  \\\n",
       "0  ...          9       204,88       355,82      259,04         259,04   \n",
       "1  ...          5        45,48         59,8       56,81          56,81   \n",
       "2  ...          9         92,8          116      105,56         105,56   \n",
       "3  ...          9         15,1        20,72       18,86          18,86   \n",
       "4  ...         14           27         32,9       28,29          28,29   \n",
       "5  ...         14        21,44         26,8       23,05          23,05   \n",
       "6  ...         14         57,5        71,85       61,79          61,79   \n",
       "7  ...          5         19,5        24,38       23,16          23,16   \n",
       "8  ...          5          3,9         4,88        4,64           4,64   \n",
       "9  ...          9           80          100       68,25          68,25   \n",
       "\n",
       "   TotalIva ImporteLiquido TipoArticulo (No column name) tiempo  \n",
       "0  29,53056      288,57056          TPM           U09C11    0.0  \n",
       "1     5,681         62,491          TPM           U11D08    0.0  \n",
       "2    10,556        116,116          TPM           U09F01    0.0  \n",
       "3     1,886         20,746          TPM           U01B03    0.0  \n",
       "4    5,9409        34,2309          TPM           U02A03    0.0  \n",
       "5    4,8405        27,8905          TPM           U04D01    0.0  \n",
       "6     6,179         67,969          TPM           U02B01    0.0  \n",
       "7    4,8636        28,0236          TPM           U21A01    0.0  \n",
       "8    0,9744         5,6144          TPM           U21A01    0.0  \n",
       "9     6,825         75,075          TPM           U11E04    0.0  \n",
       "\n",
       "[10 rows x 28 columns]"
      ]
     },
     "execution_count": 73,
     "metadata": {},
     "output_type": "execute_result"
    }
   ],
   "source": [
    "datos.head(10)"
   ]
  },
  {
   "cell_type": "code",
   "execution_count": 74,
   "id": "5d93043b",
   "metadata": {},
   "outputs": [
    {
     "data": {
      "text/plain": [
       "323.0"
      ]
     },
     "execution_count": 74,
     "metadata": {},
     "output_type": "execute_result"
    }
   ],
   "source": [
    "datos.tiempo.max()"
   ]
  },
  {
   "cell_type": "code",
   "execution_count": 75,
   "id": "54518dd9",
   "metadata": {},
   "outputs": [
    {
     "data": {
      "text/plain": [
       "-0.01898761437436948"
      ]
     },
     "execution_count": 75,
     "metadata": {},
     "output_type": "execute_result"
    }
   ],
   "source": [
    "datos.tiempo.mean()"
   ]
  },
  {
   "cell_type": "code",
   "execution_count": 76,
   "id": "2669c30c",
   "metadata": {},
   "outputs": [
    {
     "data": {
      "text/plain": [
       "-324.0"
      ]
     },
     "execution_count": 76,
     "metadata": {},
     "output_type": "execute_result"
    }
   ],
   "source": [
    "datos.tiempo.min()"
   ]
  },
  {
   "cell_type": "code",
   "execution_count": 77,
   "id": "3fa25c6e",
   "metadata": {},
   "outputs": [
    {
     "data": {
      "text/plain": [
       "Timestamp('2023-01-02 00:00:00')"
      ]
     },
     "execution_count": 77,
     "metadata": {},
     "output_type": "execute_result"
    }
   ],
   "source": [
    "datos.FechaEntrega.max()"
   ]
  },
  {
   "cell_type": "code",
   "execution_count": 79,
   "id": "c7ae6d7d",
   "metadata": {},
   "outputs": [
    {
     "data": {
      "text/plain": [
       "Timestamp('2023-01-02 00:00:00')"
      ]
     },
     "execution_count": 79,
     "metadata": {},
     "output_type": "execute_result"
    }
   ],
   "source": [
    "datos.FechaPedido.max()"
   ]
  },
  {
   "cell_type": "code",
   "execution_count": 80,
   "id": "109dd396",
   "metadata": {},
   "outputs": [
    {
     "data": {
      "text/plain": [
       "Timestamp('2019-01-01 00:00:00')"
      ]
     },
     "execution_count": 80,
     "metadata": {},
     "output_type": "execute_result"
    }
   ],
   "source": [
    "datos.FechaEntrega.min()"
   ]
  },
  {
   "cell_type": "code",
   "execution_count": 81,
   "id": "30f4bc0d",
   "metadata": {},
   "outputs": [
    {
     "data": {
      "text/plain": [
       "Timestamp('2019-01-01 00:00:00')"
      ]
     },
     "execution_count": 81,
     "metadata": {},
     "output_type": "execute_result"
    }
   ],
   "source": [
    "datos.FechaPedido.min()"
   ]
  },
  {
   "cell_type": "code",
   "execution_count": 83,
   "id": "4e43c291",
   "metadata": {},
   "outputs": [
    {
     "data": {
      "text/plain": [
       " 0.000000     1522052\n",
       " 1.000000        1479\n",
       "-1.000000         315\n",
       " 3.000000         122\n",
       " 10.000000         75\n",
       "               ...   \n",
       " 1.234028           1\n",
       " 4.393056           1\n",
       " 1.445139           1\n",
       " 3.161111           1\n",
       " 17.000000          1\n",
       "Name: tiempo, Length: 796, dtype: int64"
      ]
     },
     "execution_count": 83,
     "metadata": {},
     "output_type": "execute_result"
    }
   ],
   "source": [
    "datos.tiempo.value_counts()"
   ]
  },
  {
   "cell_type": "code",
   "execution_count": 84,
   "id": "3273305a",
   "metadata": {},
   "outputs": [
    {
     "data": {
      "text/plain": [
       "0   2019-01-02\n",
       "1   2019-01-02\n",
       "2   2019-01-02\n",
       "3   2019-01-02\n",
       "4   2019-01-02\n",
       "Name: FechaEntrega, dtype: datetime64[ns]"
      ]
     },
     "execution_count": 84,
     "metadata": {},
     "output_type": "execute_result"
    }
   ],
   "source": [
    "datos.FechaEntrega.head(5)"
   ]
  },
  {
   "cell_type": "code",
   "execution_count": 85,
   "id": "d11ec147",
   "metadata": {},
   "outputs": [
    {
     "data": {
      "text/plain": [
       "0   2019-01-02\n",
       "1   2019-01-02\n",
       "2   2019-01-02\n",
       "3   2019-01-02\n",
       "4   2019-01-02\n",
       "Name: FechaPedido, dtype: datetime64[ns]"
      ]
     },
     "execution_count": 85,
     "metadata": {},
     "output_type": "execute_result"
    }
   ],
   "source": [
    "datos.FechaPedido.head(5)"
   ]
  },
  {
   "cell_type": "code",
   "execution_count": null,
   "id": "9130fef1",
   "metadata": {},
   "outputs": [],
   "source": []
  }
 ],
 "metadata": {
  "kernelspec": {
   "display_name": "Python 3 (ipykernel)",
   "language": "python",
   "name": "python3"
  },
  "language_info": {
   "codemirror_mode": {
    "name": "ipython",
    "version": 3
   },
   "file_extension": ".py",
   "mimetype": "text/x-python",
   "name": "python",
   "nbconvert_exporter": "python",
   "pygments_lexer": "ipython3",
   "version": "3.10.9"
  }
 },
 "nbformat": 4,
 "nbformat_minor": 5
}
