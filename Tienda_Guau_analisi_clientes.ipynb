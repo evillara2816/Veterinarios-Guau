{
 "cells": [
  {
   "cell_type": "code",
   "execution_count": 77,
   "id": "ea7d9851",
   "metadata": {},
   "outputs": [],
   "source": [
    "import pandas as pd\n",
    "import seaborn as sns\n",
    "import matplotlib.pyplot as plt\n",
    "import numpy as np"
   ]
  },
  {
   "cell_type": "code",
   "execution_count": 2,
   "id": "5118cf38",
   "metadata": {},
   "outputs": [],
   "source": [
    "#pwd"
   ]
  },
  {
   "cell_type": "code",
   "execution_count": 3,
   "id": "21da213f",
   "metadata": {},
   "outputs": [],
   "source": [
    "#!cd D:"
   ]
  },
  {
   "cell_type": "code",
   "execution_count": 4,
   "id": "c673294a",
   "metadata": {},
   "outputs": [],
   "source": [
    "#_2019 = pd.read_csv(\"d:/TIENDA/Data/2019.csv\", sep =\";\")"
   ]
  },
  {
   "cell_type": "code",
   "execution_count": 5,
   "id": "3bfc3ad1",
   "metadata": {},
   "outputs": [],
   "source": [
    "_2019 = pd.read_csv(\"./2019.csv\", sep =\";\")"
   ]
  },
  {
   "cell_type": "code",
   "execution_count": 6,
   "id": "16ea7bfa",
   "metadata": {},
   "outputs": [],
   "source": [
    "#_2020 = pd.read_csv(\"d:/TIENDA/Data/2020.csv\", sep =\";\")"
   ]
  },
  {
   "cell_type": "code",
   "execution_count": 7,
   "id": "45cec6c7",
   "metadata": {},
   "outputs": [
    {
     "name": "stderr",
     "output_type": "stream",
     "text": [
      "C:\\Users\\evill\\AppData\\Local\\Temp\\ipykernel_23124\\2823823174.py:1: DtypeWarning: Columns (13) have mixed types. Specify dtype option on import or set low_memory=False.\n",
      "  _2020 = pd.read_csv(\"./2020.csv\", sep =\";\")\n"
     ]
    }
   ],
   "source": [
    "_2020 = pd.read_csv(\"./2020.csv\", sep =\";\")"
   ]
  },
  {
   "cell_type": "code",
   "execution_count": 8,
   "id": "8dbe4e2c",
   "metadata": {},
   "outputs": [],
   "source": [
    "#_2021 = pd.read_csv(\"d:/TIENDA/Data/2021.csv\", sep =\";\")"
   ]
  },
  {
   "cell_type": "code",
   "execution_count": 9,
   "id": "6ae845c7",
   "metadata": {},
   "outputs": [
    {
     "name": "stderr",
     "output_type": "stream",
     "text": [
      "C:\\Users\\evill\\AppData\\Local\\Temp\\ipykernel_23124\\537512307.py:1: DtypeWarning: Columns (13) have mixed types. Specify dtype option on import or set low_memory=False.\n",
      "  _2021 = pd.read_csv(\"./2021.csv\", sep =\";\")\n"
     ]
    }
   ],
   "source": [
    "_2021 = pd.read_csv(\"./2021.csv\", sep =\";\")"
   ]
  },
  {
   "cell_type": "code",
   "execution_count": 10,
   "id": "f8c1b400",
   "metadata": {},
   "outputs": [],
   "source": [
    "#_2022 = pd.read_csv(\"d:/TIENDA/Data/2022.csv\", sep =\";\")"
   ]
  },
  {
   "cell_type": "code",
   "execution_count": 11,
   "id": "87b5868a",
   "metadata": {},
   "outputs": [
    {
     "name": "stderr",
     "output_type": "stream",
     "text": [
      "C:\\Users\\evill\\AppData\\Local\\Temp\\ipykernel_23124\\3681180672.py:1: DtypeWarning: Columns (13) have mixed types. Specify dtype option on import or set low_memory=False.\n",
      "  _2022 = pd.read_csv(\"./2022.csv\", sep =\";\")\n"
     ]
    }
   ],
   "source": [
    "_2022 = pd.read_csv(\"./2022.csv\", sep =\";\")"
   ]
  },
  {
   "cell_type": "code",
   "execution_count": 12,
   "id": "e338fbfc",
   "metadata": {},
   "outputs": [],
   "source": [
    "frames = [_2019,_2020,_2021,_2022]"
   ]
  },
  {
   "cell_type": "code",
   "execution_count": 13,
   "id": "5cbc6ed7",
   "metadata": {},
   "outputs": [],
   "source": [
    "datos = pd.concat(frames)"
   ]
  },
  {
   "cell_type": "code",
   "execution_count": 14,
   "id": "f0b85cbc",
   "metadata": {},
   "outputs": [
    {
     "data": {
      "text/html": [
       "<div>\n",
       "<style scoped>\n",
       "    .dataframe tbody tr th:only-of-type {\n",
       "        vertical-align: middle;\n",
       "    }\n",
       "\n",
       "    .dataframe tbody tr th {\n",
       "        vertical-align: top;\n",
       "    }\n",
       "\n",
       "    .dataframe thead th {\n",
       "        text-align: right;\n",
       "    }\n",
       "</style>\n",
       "<table border=\"1\" class=\"dataframe\">\n",
       "  <thead>\n",
       "    <tr style=\"text-align: right;\">\n",
       "      <th></th>\n",
       "      <th>EjercicioPedido</th>\n",
       "      <th>NumeroPedido</th>\n",
       "      <th>Orden</th>\n",
       "      <th>FechaRegistro</th>\n",
       "      <th>FechaPedido</th>\n",
       "      <th>CodigoArticulo</th>\n",
       "      <th>Partida</th>\n",
       "      <th>CodigoFamilia</th>\n",
       "      <th>CodigoSubfamilia</th>\n",
       "      <th>CodigodelCliente</th>\n",
       "      <th>...</th>\n",
       "      <th>PrecioCoste</th>\n",
       "      <th>%Descuento</th>\n",
       "      <th>ImporteCoste</th>\n",
       "      <th>ImporteBruto</th>\n",
       "      <th>ImporteNeto</th>\n",
       "      <th>BaseImponible</th>\n",
       "      <th>TotalIva</th>\n",
       "      <th>ImporteLiquido</th>\n",
       "      <th>TipoArticulo</th>\n",
       "      <th>(No column name)</th>\n",
       "    </tr>\n",
       "  </thead>\n",
       "  <tbody>\n",
       "    <tr>\n",
       "      <th>60384</th>\n",
       "      <td>2022</td>\n",
       "      <td>PBRW1129</td>\n",
       "      <td>135</td>\n",
       "      <td>2022-07-26</td>\n",
       "      <td>2022-07-26</td>\n",
       "      <td>AR380414</td>\n",
       "      <td>P22035114RCA</td>\n",
       "      <td>F038</td>\n",
       "      <td>FS03800211</td>\n",
       "      <td>C</td>\n",
       "      <td>...</td>\n",
       "      <td>20,25</td>\n",
       "      <td>13</td>\n",
       "      <td>20,25</td>\n",
       "      <td>27,8</td>\n",
       "      <td>24,19</td>\n",
       "      <td>24,19</td>\n",
       "      <td>0</td>\n",
       "      <td>24,19</td>\n",
       "      <td>TPM</td>\n",
       "      <td>UBD/07/01</td>\n",
       "    </tr>\n",
       "    <tr>\n",
       "      <th>125752</th>\n",
       "      <td>2020</td>\n",
       "      <td>PVM21639</td>\n",
       "      <td>25</td>\n",
       "      <td>2020-10-26 19:00:50</td>\n",
       "      <td>2020-10-26</td>\n",
       "      <td>AR780203</td>\n",
       "      <td>P</td>\n",
       "      <td>F078</td>\n",
       "      <td>FS07800020</td>\n",
       "      <td>C780203</td>\n",
       "      <td>...</td>\n",
       "      <td>9,838525347</td>\n",
       "      <td>9</td>\n",
       "      <td>9,84</td>\n",
       "      <td>11,16</td>\n",
       "      <td>9,65</td>\n",
       "      <td>9,65</td>\n",
       "      <td>0,965</td>\n",
       "      <td>10,615</td>\n",
       "      <td>TPM</td>\n",
       "      <td>U0156003</td>\n",
       "    </tr>\n",
       "    <tr>\n",
       "      <th>65941</th>\n",
       "      <td>2021</td>\n",
       "      <td>PMM310</td>\n",
       "      <td>115</td>\n",
       "      <td>2021-06-06 21:05:00</td>\n",
       "      <td>2021-06-06</td>\n",
       "      <td>AR820026</td>\n",
       "      <td>P</td>\n",
       "      <td>F082</td>\n",
       "      <td>FS08200010</td>\n",
       "      <td>C820026</td>\n",
       "      <td>...</td>\n",
       "      <td>18,662</td>\n",
       "      <td>0</td>\n",
       "      <td>89,58</td>\n",
       "      <td>113,27</td>\n",
       "      <td>113,27</td>\n",
       "      <td>113,27</td>\n",
       "      <td>11,327</td>\n",
       "      <td>124,597</td>\n",
       "      <td>TPM</td>\n",
       "      <td>UP02</td>\n",
       "    </tr>\n",
       "    <tr>\n",
       "      <th>455798</th>\n",
       "      <td>2021</td>\n",
       "      <td>PRGV2</td>\n",
       "      <td>25</td>\n",
       "      <td>2021-01-05 13:00:29</td>\n",
       "      <td>2021-01-05</td>\n",
       "      <td>AR380573</td>\n",
       "      <td>P20193031RCC</td>\n",
       "      <td>F038</td>\n",
       "      <td>FS03800201</td>\n",
       "      <td>C380573</td>\n",
       "      <td>...</td>\n",
       "      <td>47,47</td>\n",
       "      <td>0</td>\n",
       "      <td>47,47</td>\n",
       "      <td>65,16</td>\n",
       "      <td>65,16</td>\n",
       "      <td>65,16</td>\n",
       "      <td>0</td>\n",
       "      <td>65,16</td>\n",
       "      <td>TPM</td>\n",
       "      <td>U0360001</td>\n",
       "    </tr>\n",
       "    <tr>\n",
       "      <th>490802</th>\n",
       "      <td>2022</td>\n",
       "      <td>PRGV742</td>\n",
       "      <td>0</td>\n",
       "      <td>2022-06-03 17:59:42</td>\n",
       "      <td>2022-06-03</td>\n",
       "      <td>AR100133</td>\n",
       "      <td>P</td>\n",
       "      <td>F069</td>\n",
       "      <td>FS069112</td>\n",
       "      <td>C100133</td>\n",
       "      <td>...</td>\n",
       "      <td>23</td>\n",
       "      <td>0</td>\n",
       "      <td>46</td>\n",
       "      <td>50,6</td>\n",
       "      <td>50,6</td>\n",
       "      <td>50,6</td>\n",
       "      <td>0</td>\n",
       "      <td>50,6</td>\n",
       "      <td>TPM</td>\n",
       "      <td>U080702</td>\n",
       "    </tr>\n",
       "    <tr>\n",
       "      <th>245966</th>\n",
       "      <td>2019</td>\n",
       "      <td>PVRW211</td>\n",
       "      <td>15</td>\n",
       "      <td>2019-01-14</td>\n",
       "      <td>2019-01-14</td>\n",
       "      <td>AR380283</td>\n",
       "      <td>P</td>\n",
       "      <td>F038</td>\n",
       "      <td>FS03800610</td>\n",
       "      <td>C</td>\n",
       "      <td>...</td>\n",
       "      <td>8,2</td>\n",
       "      <td>8,5</td>\n",
       "      <td>8,2</td>\n",
       "      <td>11,25</td>\n",
       "      <td>10,29</td>\n",
       "      <td>10,29</td>\n",
       "      <td>1,17306</td>\n",
       "      <td>11,46306</td>\n",
       "      <td>TPM</td>\n",
       "      <td>U0309051</td>\n",
       "    </tr>\n",
       "    <tr>\n",
       "      <th>236039</th>\n",
       "      <td>2020</td>\n",
       "      <td>PVMW25029</td>\n",
       "      <td>5</td>\n",
       "      <td>2020-10-23</td>\n",
       "      <td>2020-10-23</td>\n",
       "      <td>AR930012</td>\n",
       "      <td>P</td>\n",
       "      <td>F093</td>\n",
       "      <td>FS0930000010</td>\n",
       "      <td>C</td>\n",
       "      <td>...</td>\n",
       "      <td>29,58</td>\n",
       "      <td>0</td>\n",
       "      <td>29,58</td>\n",
       "      <td>43,63</td>\n",
       "      <td>43,63</td>\n",
       "      <td>43,63</td>\n",
       "      <td>4,363</td>\n",
       "      <td>47,993</td>\n",
       "      <td>TPM</td>\n",
       "      <td>UB0901</td>\n",
       "    </tr>\n",
       "    <tr>\n",
       "      <th>240758</th>\n",
       "      <td>2020</td>\n",
       "      <td>PVMW26225</td>\n",
       "      <td>15</td>\n",
       "      <td>2020-11-04</td>\n",
       "      <td>2020-11-04</td>\n",
       "      <td>AR570022</td>\n",
       "      <td>P</td>\n",
       "      <td>F057</td>\n",
       "      <td>FS057102</td>\n",
       "      <td>C</td>\n",
       "      <td>...</td>\n",
       "      <td>24,3672</td>\n",
       "      <td>0</td>\n",
       "      <td>48,73</td>\n",
       "      <td>54,1</td>\n",
       "      <td>54,1</td>\n",
       "      <td>54,1</td>\n",
       "      <td>5,41</td>\n",
       "      <td>59,51</td>\n",
       "      <td>TPM</td>\n",
       "      <td>U081902</td>\n",
       "    </tr>\n",
       "    <tr>\n",
       "      <th>130798</th>\n",
       "      <td>2020</td>\n",
       "      <td>PVM22689</td>\n",
       "      <td>10</td>\n",
       "      <td>2020-11-14 11:07:43</td>\n",
       "      <td>2020-11-14</td>\n",
       "      <td>AR380208</td>\n",
       "      <td>P</td>\n",
       "      <td>F038</td>\n",
       "      <td>FS03800201</td>\n",
       "      <td>C380208</td>\n",
       "      <td>...</td>\n",
       "      <td>52,95</td>\n",
       "      <td>10</td>\n",
       "      <td>52,95</td>\n",
       "      <td>72,68</td>\n",
       "      <td>65,41</td>\n",
       "      <td>65,41</td>\n",
       "      <td>6,541</td>\n",
       "      <td>71,951</td>\n",
       "      <td>TPM</td>\n",
       "      <td>U034400</td>\n",
       "    </tr>\n",
       "    <tr>\n",
       "      <th>229590</th>\n",
       "      <td>2021</td>\n",
       "      <td>PVMW11558</td>\n",
       "      <td>15</td>\n",
       "      <td>2021-04-27</td>\n",
       "      <td>2021-04-27</td>\n",
       "      <td>AR060022</td>\n",
       "      <td>P</td>\n",
       "      <td>F059</td>\n",
       "      <td>FS059113</td>\n",
       "      <td>C</td>\n",
       "      <td>...</td>\n",
       "      <td>13,09</td>\n",
       "      <td>33</td>\n",
       "      <td>13,09</td>\n",
       "      <td>14,85</td>\n",
       "      <td>9,95</td>\n",
       "      <td>9,95</td>\n",
       "      <td>0,995</td>\n",
       "      <td>10,945</td>\n",
       "      <td>TPM</td>\n",
       "      <td>U082202</td>\n",
       "    </tr>\n",
       "    <tr>\n",
       "      <th>441421</th>\n",
       "      <td>2022</td>\n",
       "      <td>PVRAB104</td>\n",
       "      <td>5</td>\n",
       "      <td>2022-03-14 15:51:48</td>\n",
       "      <td>2022-03-14</td>\n",
       "      <td>AR5</td>\n",
       "      <td>P</td>\n",
       "      <td>F000</td>\n",
       "      <td>FS</td>\n",
       "      <td>C5</td>\n",
       "      <td>...</td>\n",
       "      <td>0</td>\n",
       "      <td>0</td>\n",
       "      <td>0</td>\n",
       "      <td>0</td>\n",
       "      <td>0</td>\n",
       "      <td>0</td>\n",
       "      <td>0</td>\n",
       "      <td>0</td>\n",
       "      <td>TPM</td>\n",
       "      <td>U0000</td>\n",
       "    </tr>\n",
       "    <tr>\n",
       "      <th>89642</th>\n",
       "      <td>2019</td>\n",
       "      <td>PVM14295</td>\n",
       "      <td>0</td>\n",
       "      <td>2019-07-31 18:46:04</td>\n",
       "      <td>2019-07-31</td>\n",
       "      <td>AR810009</td>\n",
       "      <td>P</td>\n",
       "      <td>F081</td>\n",
       "      <td>FS08100001</td>\n",
       "      <td>C810009</td>\n",
       "      <td>...</td>\n",
       "      <td>1,973</td>\n",
       "      <td>9</td>\n",
       "      <td>5,92</td>\n",
       "      <td>8,88</td>\n",
       "      <td>7,27</td>\n",
       "      <td>7,27</td>\n",
       "      <td>1,90474</td>\n",
       "      <td>9,17474</td>\n",
       "      <td>TPM</td>\n",
       "      <td>U015700</td>\n",
       "    </tr>\n",
       "    <tr>\n",
       "      <th>237722</th>\n",
       "      <td>2021</td>\n",
       "      <td>PVMW13405</td>\n",
       "      <td>40</td>\n",
       "      <td>2021-05-13</td>\n",
       "      <td>2021-05-13</td>\n",
       "      <td>AR820208</td>\n",
       "      <td>P</td>\n",
       "      <td>F082</td>\n",
       "      <td>FS08200015</td>\n",
       "      <td>C</td>\n",
       "      <td>...</td>\n",
       "      <td>2,119</td>\n",
       "      <td>9</td>\n",
       "      <td>12,71</td>\n",
       "      <td>19,56</td>\n",
       "      <td>14,83</td>\n",
       "      <td>14,83</td>\n",
       "      <td>1,483</td>\n",
       "      <td>16,313</td>\n",
       "      <td>TPM</td>\n",
       "      <td>U0157052</td>\n",
       "    </tr>\n",
       "    <tr>\n",
       "      <th>338640</th>\n",
       "      <td>2021</td>\n",
       "      <td>PVMW35826</td>\n",
       "      <td>5</td>\n",
       "      <td>2021-12-28</td>\n",
       "      <td>2021-12-28</td>\n",
       "      <td>AR570097</td>\n",
       "      <td>P</td>\n",
       "      <td>F057</td>\n",
       "      <td>FS057103</td>\n",
       "      <td>C</td>\n",
       "      <td>...</td>\n",
       "      <td>33,25608</td>\n",
       "      <td>0</td>\n",
       "      <td>33,26</td>\n",
       "      <td>37,73</td>\n",
       "      <td>37,73</td>\n",
       "      <td>37,73</td>\n",
       "      <td>7,9233</td>\n",
       "      <td>45,6533</td>\n",
       "      <td>TPM</td>\n",
       "      <td>U081503</td>\n",
       "    </tr>\n",
       "    <tr>\n",
       "      <th>210222</th>\n",
       "      <td>2019</td>\n",
       "      <td>PVR2668</td>\n",
       "      <td>0</td>\n",
       "      <td>2019-05-30 15:32:54</td>\n",
       "      <td>2019-05-30</td>\n",
       "      <td>AR380350</td>\n",
       "      <td>P</td>\n",
       "      <td>F038</td>\n",
       "      <td>FS03800650</td>\n",
       "      <td>C380350</td>\n",
       "      <td>...</td>\n",
       "      <td>7,995862905</td>\n",
       "      <td>12</td>\n",
       "      <td>8</td>\n",
       "      <td>10,85</td>\n",
       "      <td>9,55</td>\n",
       "      <td>9,4545</td>\n",
       "      <td>0,94545</td>\n",
       "      <td>10,39995</td>\n",
       "      <td>TPM</td>\n",
       "      <td>U0305051</td>\n",
       "    </tr>\n",
       "    <tr>\n",
       "      <th>19572</th>\n",
       "      <td>2022</td>\n",
       "      <td>PBR927</td>\n",
       "      <td>0</td>\n",
       "      <td>2022-05-25 06:01:26</td>\n",
       "      <td>2022-05-25</td>\n",
       "      <td>AR770032</td>\n",
       "      <td>P1489</td>\n",
       "      <td>F077</td>\n",
       "      <td>FS07711100</td>\n",
       "      <td>C770032</td>\n",
       "      <td>...</td>\n",
       "      <td>2,246994132</td>\n",
       "      <td>12</td>\n",
       "      <td>2,25</td>\n",
       "      <td>4,02</td>\n",
       "      <td>3,36</td>\n",
       "      <td>3,3264</td>\n",
       "      <td>0,33264</td>\n",
       "      <td>3,65904</td>\n",
       "      <td>TPM</td>\n",
       "      <td>UG/04/03</td>\n",
       "    </tr>\n",
       "    <tr>\n",
       "      <th>231977</th>\n",
       "      <td>2019</td>\n",
       "      <td>PVR4468</td>\n",
       "      <td>0</td>\n",
       "      <td>2019-10-07 18:21:35</td>\n",
       "      <td>2019-10-08</td>\n",
       "      <td>AR380704</td>\n",
       "      <td>P</td>\n",
       "      <td>F038</td>\n",
       "      <td>FS03804010</td>\n",
       "      <td>C380704</td>\n",
       "      <td>...</td>\n",
       "      <td>11,05558324</td>\n",
       "      <td>12</td>\n",
       "      <td>11,06</td>\n",
       "      <td>14,65</td>\n",
       "      <td>11,33</td>\n",
       "      <td>11,2167</td>\n",
       "      <td>1,12167</td>\n",
       "      <td>12,33837</td>\n",
       "      <td>TPM</td>\n",
       "      <td>U0387053</td>\n",
       "    </tr>\n",
       "    <tr>\n",
       "      <th>122192</th>\n",
       "      <td>2022</td>\n",
       "      <td>PVM5578</td>\n",
       "      <td>5</td>\n",
       "      <td>2022-04-08 10:15:37</td>\n",
       "      <td>2022-04-08</td>\n",
       "      <td>AR020265</td>\n",
       "      <td>P</td>\n",
       "      <td>F002</td>\n",
       "      <td>FS002110</td>\n",
       "      <td>C</td>\n",
       "      <td>...</td>\n",
       "      <td>18,48</td>\n",
       "      <td>28</td>\n",
       "      <td>73,92</td>\n",
       "      <td>88,48</td>\n",
       "      <td>63,71</td>\n",
       "      <td>63,71</td>\n",
       "      <td>6,371</td>\n",
       "      <td>70,081</td>\n",
       "      <td>TPM</td>\n",
       "      <td>U080403</td>\n",
       "    </tr>\n",
       "    <tr>\n",
       "      <th>26691</th>\n",
       "      <td>2021</td>\n",
       "      <td>PBR1595</td>\n",
       "      <td>0</td>\n",
       "      <td>2021-08-24 21:42:42</td>\n",
       "      <td>2021-08-25</td>\n",
       "      <td>AR381062</td>\n",
       "      <td>P0</td>\n",
       "      <td>F038</td>\n",
       "      <td>FS03800780</td>\n",
       "      <td>C381062</td>\n",
       "      <td>...</td>\n",
       "      <td>17,05</td>\n",
       "      <td>12</td>\n",
       "      <td>51,15</td>\n",
       "      <td>70,2</td>\n",
       "      <td>54,3</td>\n",
       "      <td>53,757</td>\n",
       "      <td>5,3757</td>\n",
       "      <td>59,1327</td>\n",
       "      <td>TPM</td>\n",
       "      <td>UCE/01/02</td>\n",
       "    </tr>\n",
       "    <tr>\n",
       "      <th>146808</th>\n",
       "      <td>2020</td>\n",
       "      <td>PVMW1547</td>\n",
       "      <td>50</td>\n",
       "      <td>2020-01-28</td>\n",
       "      <td>2020-01-28</td>\n",
       "      <td>AR570108</td>\n",
       "      <td>P</td>\n",
       "      <td>F057</td>\n",
       "      <td>FS057000</td>\n",
       "      <td>C570108</td>\n",
       "      <td>...</td>\n",
       "      <td>17,22</td>\n",
       "      <td>0</td>\n",
       "      <td>17,22</td>\n",
       "      <td>19,8</td>\n",
       "      <td>19,8</td>\n",
       "      <td>19,8</td>\n",
       "      <td>1,98</td>\n",
       "      <td>21,78</td>\n",
       "      <td>TPM</td>\n",
       "      <td>U090901</td>\n",
       "    </tr>\n",
       "  </tbody>\n",
       "</table>\n",
       "<p>20 rows × 27 columns</p>\n",
       "</div>"
      ],
      "text/plain": [
       "        EjercicioPedido NumeroPedido  Orden        FechaRegistro FechaPedido  \\\n",
       "60384              2022     PBRW1129    135           2022-07-26  2022-07-26   \n",
       "125752             2020     PVM21639     25  2020-10-26 19:00:50  2020-10-26   \n",
       "65941              2021       PMM310    115  2021-06-06 21:05:00  2021-06-06   \n",
       "455798             2021        PRGV2     25  2021-01-05 13:00:29  2021-01-05   \n",
       "490802             2022      PRGV742      0  2022-06-03 17:59:42  2022-06-03   \n",
       "245966             2019      PVRW211     15           2019-01-14  2019-01-14   \n",
       "236039             2020    PVMW25029      5           2020-10-23  2020-10-23   \n",
       "240758             2020    PVMW26225     15           2020-11-04  2020-11-04   \n",
       "130798             2020     PVM22689     10  2020-11-14 11:07:43  2020-11-14   \n",
       "229590             2021    PVMW11558     15           2021-04-27  2021-04-27   \n",
       "441421             2022     PVRAB104      5  2022-03-14 15:51:48  2022-03-14   \n",
       "89642              2019     PVM14295      0  2019-07-31 18:46:04  2019-07-31   \n",
       "237722             2021    PVMW13405     40           2021-05-13  2021-05-13   \n",
       "338640             2021    PVMW35826      5           2021-12-28  2021-12-28   \n",
       "210222             2019      PVR2668      0  2019-05-30 15:32:54  2019-05-30   \n",
       "19572              2022       PBR927      0  2022-05-25 06:01:26  2022-05-25   \n",
       "231977             2019      PVR4468      0  2019-10-07 18:21:35  2019-10-08   \n",
       "122192             2022      PVM5578      5  2022-04-08 10:15:37  2022-04-08   \n",
       "26691              2021      PBR1595      0  2021-08-24 21:42:42  2021-08-25   \n",
       "146808             2020     PVMW1547     50           2020-01-28  2020-01-28   \n",
       "\n",
       "       CodigoArticulo       Partida CodigoFamilia CodigoSubfamilia  \\\n",
       "60384        AR380414  P22035114RCA          F038       FS03800211   \n",
       "125752       AR780203             P          F078       FS07800020   \n",
       "65941        AR820026             P          F082       FS08200010   \n",
       "455798       AR380573  P20193031RCC          F038       FS03800201   \n",
       "490802       AR100133             P          F069         FS069112   \n",
       "245966       AR380283             P          F038       FS03800610   \n",
       "236039       AR930012             P          F093     FS0930000010   \n",
       "240758       AR570022             P          F057         FS057102   \n",
       "130798       AR380208             P          F038       FS03800201   \n",
       "229590       AR060022             P          F059         FS059113   \n",
       "441421            AR5             P          F000               FS   \n",
       "89642        AR810009             P          F081       FS08100001   \n",
       "237722       AR820208             P          F082       FS08200015   \n",
       "338640       AR570097             P          F057         FS057103   \n",
       "210222       AR380350             P          F038       FS03800650   \n",
       "19572        AR770032         P1489          F077       FS07711100   \n",
       "231977       AR380704             P          F038       FS03804010   \n",
       "122192       AR020265             P          F002         FS002110   \n",
       "26691        AR381062            P0          F038       FS03800780   \n",
       "146808       AR570108             P          F057         FS057000   \n",
       "\n",
       "       CodigodelCliente  ...  PrecioCoste %Descuento ImporteCoste  \\\n",
       "60384                 C  ...        20,25         13        20,25   \n",
       "125752          C780203  ...  9,838525347          9         9,84   \n",
       "65941           C820026  ...       18,662          0        89,58   \n",
       "455798          C380573  ...        47,47          0        47,47   \n",
       "490802          C100133  ...           23          0           46   \n",
       "245966                C  ...          8,2        8,5          8,2   \n",
       "236039                C  ...        29,58          0        29,58   \n",
       "240758                C  ...      24,3672          0        48,73   \n",
       "130798          C380208  ...        52,95         10        52,95   \n",
       "229590                C  ...        13,09         33        13,09   \n",
       "441421               C5  ...            0          0            0   \n",
       "89642           C810009  ...        1,973          9         5,92   \n",
       "237722                C  ...        2,119          9        12,71   \n",
       "338640                C  ...     33,25608          0        33,26   \n",
       "210222          C380350  ...  7,995862905         12            8   \n",
       "19572           C770032  ...  2,246994132         12         2,25   \n",
       "231977          C380704  ...  11,05558324         12        11,06   \n",
       "122192                C  ...        18,48         28        73,92   \n",
       "26691           C381062  ...        17,05         12        51,15   \n",
       "146808          C570108  ...        17,22          0        17,22   \n",
       "\n",
       "       ImporteBruto  ImporteNeto  BaseImponible TotalIva ImporteLiquido  \\\n",
       "60384          27,8        24,19          24,19        0          24,19   \n",
       "125752        11,16         9,65           9,65    0,965         10,615   \n",
       "65941        113,27       113,27         113,27   11,327        124,597   \n",
       "455798        65,16        65,16          65,16        0          65,16   \n",
       "490802         50,6         50,6           50,6        0           50,6   \n",
       "245966        11,25        10,29          10,29  1,17306       11,46306   \n",
       "236039        43,63        43,63          43,63    4,363         47,993   \n",
       "240758         54,1         54,1           54,1     5,41          59,51   \n",
       "130798        72,68        65,41          65,41    6,541         71,951   \n",
       "229590        14,85         9,95           9,95    0,995         10,945   \n",
       "441421            0            0              0        0              0   \n",
       "89642          8,88         7,27           7,27  1,90474        9,17474   \n",
       "237722        19,56        14,83          14,83    1,483         16,313   \n",
       "338640        37,73        37,73          37,73   7,9233        45,6533   \n",
       "210222        10,85         9,55         9,4545  0,94545       10,39995   \n",
       "19572          4,02         3,36         3,3264  0,33264        3,65904   \n",
       "231977        14,65        11,33        11,2167  1,12167       12,33837   \n",
       "122192        88,48        63,71          63,71    6,371         70,081   \n",
       "26691          70,2         54,3         53,757   5,3757        59,1327   \n",
       "146808         19,8         19,8           19,8     1,98          21,78   \n",
       "\n",
       "       TipoArticulo (No column name)  \n",
       "60384           TPM        UBD/07/01  \n",
       "125752          TPM         U0156003  \n",
       "65941           TPM             UP02  \n",
       "455798          TPM         U0360001  \n",
       "490802          TPM          U080702  \n",
       "245966          TPM         U0309051  \n",
       "236039          TPM           UB0901  \n",
       "240758          TPM          U081902  \n",
       "130798          TPM          U034400  \n",
       "229590          TPM          U082202  \n",
       "441421          TPM            U0000  \n",
       "89642           TPM          U015700  \n",
       "237722          TPM         U0157052  \n",
       "338640          TPM          U081503  \n",
       "210222          TPM         U0305051  \n",
       "19572           TPM         UG/04/03  \n",
       "231977          TPM         U0387053  \n",
       "122192          TPM          U080403  \n",
       "26691           TPM        UCE/01/02  \n",
       "146808          TPM          U090901  \n",
       "\n",
       "[20 rows x 27 columns]"
      ]
     },
     "execution_count": 14,
     "metadata": {},
     "output_type": "execute_result"
    }
   ],
   "source": [
    "datos.sample(20)"
   ]
  },
  {
   "cell_type": "code",
   "execution_count": 15,
   "id": "bcce715f",
   "metadata": {},
   "outputs": [
    {
     "data": {
      "text/plain": [
       "Index(['EjercicioPedido', 'NumeroPedido', 'Orden', 'FechaRegistro',\n",
       "       'FechaPedido', 'CodigoArticulo', 'Partida', 'CodigoFamilia',\n",
       "       'CodigoSubfamilia', 'CodigodelCliente', 'CodigoProveedor',\n",
       "       'FechaCaduca', 'FechaEntrega', 'Ubicacion', 'Estado', '%Iva', 'Precio',\n",
       "       'PrecioCoste', '%Descuento', 'ImporteCoste', 'ImporteBruto',\n",
       "       'ImporteNeto', 'BaseImponible', 'TotalIva', 'ImporteLiquido',\n",
       "       'TipoArticulo', '(No column name)'],\n",
       "      dtype='object')"
      ]
     },
     "execution_count": 15,
     "metadata": {},
     "output_type": "execute_result"
    }
   ],
   "source": [
    "datos.columns"
   ]
  },
  {
   "cell_type": "code",
   "execution_count": 16,
   "id": "b3fa792d",
   "metadata": {},
   "outputs": [
    {
     "data": {
      "text/plain": [
       "90"
      ]
     },
     "execution_count": 16,
     "metadata": {},
     "output_type": "execute_result"
    }
   ],
   "source": [
    "len(datos.CodigoFamilia.unique())"
   ]
  },
  {
   "cell_type": "code",
   "execution_count": 17,
   "id": "8fef5e08",
   "metadata": {},
   "outputs": [
    {
     "data": {
      "text/plain": [
       "854"
      ]
     },
     "execution_count": 17,
     "metadata": {},
     "output_type": "execute_result"
    }
   ],
   "source": [
    "len(datos.CodigoSubfamilia.unique())"
   ]
  },
  {
   "cell_type": "code",
   "execution_count": 18,
   "id": "61e6238b",
   "metadata": {},
   "outputs": [
    {
     "data": {
      "text/plain": [
       "159"
      ]
     },
     "execution_count": 18,
     "metadata": {},
     "output_type": "execute_result"
    }
   ],
   "source": [
    "len(datos.CodigoProveedor.unique())"
   ]
  },
  {
   "cell_type": "code",
   "execution_count": 19,
   "id": "9c97cfa1",
   "metadata": {},
   "outputs": [
    {
     "data": {
      "text/plain": [
       "7101"
      ]
     },
     "execution_count": 19,
     "metadata": {},
     "output_type": "execute_result"
    }
   ],
   "source": [
    "len(datos.CodigoArticulo.unique())"
   ]
  },
  {
   "cell_type": "code",
   "execution_count": 20,
   "id": "71c0fffe",
   "metadata": {},
   "outputs": [
    {
     "data": {
      "text/plain": [
       "6193"
      ]
     },
     "execution_count": 20,
     "metadata": {},
     "output_type": "execute_result"
    }
   ],
   "source": [
    "len(datos.CodigodelCliente.unique())"
   ]
  },
  {
   "cell_type": "code",
   "execution_count": 21,
   "id": "deeff59b",
   "metadata": {},
   "outputs": [
    {
     "data": {
      "text/plain": [
       "203320    2022-02-07\n",
       "22429     2020-11-12\n",
       "329524    2020-06-29\n",
       "146467    2022-07-13\n",
       "20855     2020-10-26\n",
       "Name: FechaPedido, dtype: object"
      ]
     },
     "execution_count": 21,
     "metadata": {},
     "output_type": "execute_result"
    }
   ],
   "source": [
    "datos.FechaPedido.sample(5)"
   ]
  },
  {
   "cell_type": "code",
   "execution_count": 22,
   "id": "7f3b0868",
   "metadata": {},
   "outputs": [],
   "source": [
    "datos.FechaPedido = pd.to_datetime(datos.FechaPedido)"
   ]
  },
  {
   "cell_type": "code",
   "execution_count": 23,
   "id": "590ff25e",
   "metadata": {},
   "outputs": [],
   "source": [
    "datos.FechaEntrega = pd.to_datetime(datos.FechaEntrega)"
   ]
  },
  {
   "cell_type": "code",
   "execution_count": 24,
   "id": "111c8de7",
   "metadata": {},
   "outputs": [
    {
     "data": {
      "text/plain": [
       "dtype('<M8[ns]')"
      ]
     },
     "execution_count": 24,
     "metadata": {},
     "output_type": "execute_result"
    }
   ],
   "source": [
    "datos.FechaPedido.dtype"
   ]
  },
  {
   "cell_type": "code",
   "execution_count": 25,
   "id": "03f27529",
   "metadata": {},
   "outputs": [],
   "source": [
    "datos['DiferenciaDias'] = (datos.FechaEntrega - datos.FechaPedido).dt.days"
   ]
  },
  {
   "cell_type": "code",
   "execution_count": 26,
   "id": "b61c48b9",
   "metadata": {},
   "outputs": [
    {
     "data": {
      "text/plain": [
       "dtype('float64')"
      ]
     },
     "execution_count": 26,
     "metadata": {},
     "output_type": "execute_result"
    }
   ],
   "source": [
    "datos['DiferenciaDias'].dtype"
   ]
  },
  {
   "cell_type": "code",
   "execution_count": 27,
   "id": "d6722ae5",
   "metadata": {},
   "outputs": [
    {
     "data": {
      "text/html": [
       "<div>\n",
       "<style scoped>\n",
       "    .dataframe tbody tr th:only-of-type {\n",
       "        vertical-align: middle;\n",
       "    }\n",
       "\n",
       "    .dataframe tbody tr th {\n",
       "        vertical-align: top;\n",
       "    }\n",
       "\n",
       "    .dataframe thead th {\n",
       "        text-align: right;\n",
       "    }\n",
       "</style>\n",
       "<table border=\"1\" class=\"dataframe\">\n",
       "  <thead>\n",
       "    <tr style=\"text-align: right;\">\n",
       "      <th></th>\n",
       "      <th>EjercicioPedido</th>\n",
       "      <th>NumeroPedido</th>\n",
       "      <th>Orden</th>\n",
       "      <th>FechaRegistro</th>\n",
       "      <th>FechaPedido</th>\n",
       "      <th>CodigoArticulo</th>\n",
       "      <th>Partida</th>\n",
       "      <th>CodigoFamilia</th>\n",
       "      <th>CodigoSubfamilia</th>\n",
       "      <th>CodigodelCliente</th>\n",
       "      <th>...</th>\n",
       "      <th>%Descuento</th>\n",
       "      <th>ImporteCoste</th>\n",
       "      <th>ImporteBruto</th>\n",
       "      <th>ImporteNeto</th>\n",
       "      <th>BaseImponible</th>\n",
       "      <th>TotalIva</th>\n",
       "      <th>ImporteLiquido</th>\n",
       "      <th>TipoArticulo</th>\n",
       "      <th>(No column name)</th>\n",
       "      <th>DiferenciaDias</th>\n",
       "    </tr>\n",
       "  </thead>\n",
       "  <tbody>\n",
       "    <tr>\n",
       "      <th>0</th>\n",
       "      <td>2019</td>\n",
       "      <td>PBM1</td>\n",
       "      <td>5</td>\n",
       "      <td>2019-01-02 09:14:45</td>\n",
       "      <td>2019-01-02</td>\n",
       "      <td>AR020221</td>\n",
       "      <td>P0P529A</td>\n",
       "      <td>F002</td>\n",
       "      <td>FS002106</td>\n",
       "      <td>C020221</td>\n",
       "      <td>...</td>\n",
       "      <td>9</td>\n",
       "      <td>204,88</td>\n",
       "      <td>355,82</td>\n",
       "      <td>259,04</td>\n",
       "      <td>259,04</td>\n",
       "      <td>29,53056</td>\n",
       "      <td>288,57056</td>\n",
       "      <td>TPM</td>\n",
       "      <td>U09C11</td>\n",
       "      <td>0.0</td>\n",
       "    </tr>\n",
       "    <tr>\n",
       "      <th>1</th>\n",
       "      <td>2019</td>\n",
       "      <td>PBM2</td>\n",
       "      <td>5</td>\n",
       "      <td>2019-01-02 11:45:17</td>\n",
       "      <td>2019-01-02</td>\n",
       "      <td>AR320045</td>\n",
       "      <td>PPRS1061AA</td>\n",
       "      <td>F013</td>\n",
       "      <td>FS013117</td>\n",
       "      <td>C320045</td>\n",
       "      <td>...</td>\n",
       "      <td>5</td>\n",
       "      <td>45,48</td>\n",
       "      <td>59,8</td>\n",
       "      <td>56,81</td>\n",
       "      <td>56,81</td>\n",
       "      <td>5,681</td>\n",
       "      <td>62,491</td>\n",
       "      <td>TPM</td>\n",
       "      <td>U11D08</td>\n",
       "      <td>0.0</td>\n",
       "    </tr>\n",
       "    <tr>\n",
       "      <th>2</th>\n",
       "      <td>2019</td>\n",
       "      <td>PBM2</td>\n",
       "      <td>10</td>\n",
       "      <td>2019-01-02 11:45:41</td>\n",
       "      <td>2019-01-02</td>\n",
       "      <td>AR550036</td>\n",
       "      <td>P54282</td>\n",
       "      <td>F055</td>\n",
       "      <td>FS055109</td>\n",
       "      <td>C550036</td>\n",
       "      <td>...</td>\n",
       "      <td>9</td>\n",
       "      <td>92,8</td>\n",
       "      <td>116</td>\n",
       "      <td>105,56</td>\n",
       "      <td>105,56</td>\n",
       "      <td>10,556</td>\n",
       "      <td>116,116</td>\n",
       "      <td>TPM</td>\n",
       "      <td>U09F01</td>\n",
       "      <td>0.0</td>\n",
       "    </tr>\n",
       "    <tr>\n",
       "      <th>3</th>\n",
       "      <td>2019</td>\n",
       "      <td>PBM2</td>\n",
       "      <td>15</td>\n",
       "      <td>2019-01-02 11:46:15</td>\n",
       "      <td>2019-01-02</td>\n",
       "      <td>AR540066</td>\n",
       "      <td>PM-08</td>\n",
       "      <td>F054</td>\n",
       "      <td>FS054104</td>\n",
       "      <td>C540066</td>\n",
       "      <td>...</td>\n",
       "      <td>9</td>\n",
       "      <td>15,1</td>\n",
       "      <td>20,72</td>\n",
       "      <td>18,86</td>\n",
       "      <td>18,86</td>\n",
       "      <td>1,886</td>\n",
       "      <td>20,746</td>\n",
       "      <td>TPM</td>\n",
       "      <td>U01B03</td>\n",
       "      <td>0.0</td>\n",
       "    </tr>\n",
       "    <tr>\n",
       "      <th>4</th>\n",
       "      <td>2019</td>\n",
       "      <td>PBM3</td>\n",
       "      <td>5</td>\n",
       "      <td>2019-01-02 12:09:31</td>\n",
       "      <td>2019-01-02</td>\n",
       "      <td>AR033023</td>\n",
       "      <td>P0</td>\n",
       "      <td>F003</td>\n",
       "      <td>FS003129</td>\n",
       "      <td>C033023</td>\n",
       "      <td>...</td>\n",
       "      <td>14</td>\n",
       "      <td>27</td>\n",
       "      <td>32,9</td>\n",
       "      <td>28,29</td>\n",
       "      <td>28,29</td>\n",
       "      <td>5,9409</td>\n",
       "      <td>34,2309</td>\n",
       "      <td>TPM</td>\n",
       "      <td>U02A03</td>\n",
       "      <td>0.0</td>\n",
       "    </tr>\n",
       "    <tr>\n",
       "      <th>5</th>\n",
       "      <td>2019</td>\n",
       "      <td>PBM3</td>\n",
       "      <td>10</td>\n",
       "      <td>2019-01-02 12:10:03</td>\n",
       "      <td>2019-01-02</td>\n",
       "      <td>AR033021</td>\n",
       "      <td>P0</td>\n",
       "      <td>F003</td>\n",
       "      <td>FS003129</td>\n",
       "      <td>C033021</td>\n",
       "      <td>...</td>\n",
       "      <td>14</td>\n",
       "      <td>21,44</td>\n",
       "      <td>26,8</td>\n",
       "      <td>23,05</td>\n",
       "      <td>23,05</td>\n",
       "      <td>4,8405</td>\n",
       "      <td>27,8905</td>\n",
       "      <td>TPM</td>\n",
       "      <td>U04D01</td>\n",
       "      <td>0.0</td>\n",
       "    </tr>\n",
       "    <tr>\n",
       "      <th>6</th>\n",
       "      <td>2019</td>\n",
       "      <td>PBM3</td>\n",
       "      <td>15</td>\n",
       "      <td>2019-01-02 12:10:21</td>\n",
       "      <td>2019-01-02</td>\n",
       "      <td>AR033043</td>\n",
       "      <td>P0</td>\n",
       "      <td>F003</td>\n",
       "      <td>FS003129</td>\n",
       "      <td>C033043</td>\n",
       "      <td>...</td>\n",
       "      <td>14</td>\n",
       "      <td>57,5</td>\n",
       "      <td>71,85</td>\n",
       "      <td>61,79</td>\n",
       "      <td>61,79</td>\n",
       "      <td>6,179</td>\n",
       "      <td>67,969</td>\n",
       "      <td>TPM</td>\n",
       "      <td>U02B01</td>\n",
       "      <td>0.0</td>\n",
       "    </tr>\n",
       "    <tr>\n",
       "      <th>7</th>\n",
       "      <td>2019</td>\n",
       "      <td>PBM3</td>\n",
       "      <td>20</td>\n",
       "      <td>2019-01-02 12:11:02</td>\n",
       "      <td>2019-01-02</td>\n",
       "      <td>AR750606</td>\n",
       "      <td>P0</td>\n",
       "      <td>F000</td>\n",
       "      <td>FS</td>\n",
       "      <td>C750606</td>\n",
       "      <td>...</td>\n",
       "      <td>5</td>\n",
       "      <td>19,5</td>\n",
       "      <td>24,38</td>\n",
       "      <td>23,16</td>\n",
       "      <td>23,16</td>\n",
       "      <td>4,8636</td>\n",
       "      <td>28,0236</td>\n",
       "      <td>TPM</td>\n",
       "      <td>U21A01</td>\n",
       "      <td>0.0</td>\n",
       "    </tr>\n",
       "    <tr>\n",
       "      <th>8</th>\n",
       "      <td>2019</td>\n",
       "      <td>PBM3</td>\n",
       "      <td>25</td>\n",
       "      <td>2019-01-02 12:11:28</td>\n",
       "      <td>2019-01-02</td>\n",
       "      <td>AR750606</td>\n",
       "      <td>PL17F0177</td>\n",
       "      <td>F000</td>\n",
       "      <td>FS</td>\n",
       "      <td>C750606</td>\n",
       "      <td>...</td>\n",
       "      <td>5</td>\n",
       "      <td>3,9</td>\n",
       "      <td>4,88</td>\n",
       "      <td>4,64</td>\n",
       "      <td>4,64</td>\n",
       "      <td>0,9744</td>\n",
       "      <td>5,6144</td>\n",
       "      <td>TPM</td>\n",
       "      <td>U21A01</td>\n",
       "      <td>0.0</td>\n",
       "    </tr>\n",
       "    <tr>\n",
       "      <th>9</th>\n",
       "      <td>2019</td>\n",
       "      <td>PBM3</td>\n",
       "      <td>30</td>\n",
       "      <td>2019-01-03 07:41:12</td>\n",
       "      <td>2019-01-02</td>\n",
       "      <td>AR550058</td>\n",
       "      <td>P54314</td>\n",
       "      <td>F055</td>\n",
       "      <td>FS055108</td>\n",
       "      <td>C550058</td>\n",
       "      <td>...</td>\n",
       "      <td>9</td>\n",
       "      <td>80</td>\n",
       "      <td>100</td>\n",
       "      <td>68,25</td>\n",
       "      <td>68,25</td>\n",
       "      <td>6,825</td>\n",
       "      <td>75,075</td>\n",
       "      <td>TPM</td>\n",
       "      <td>U11E04</td>\n",
       "      <td>0.0</td>\n",
       "    </tr>\n",
       "  </tbody>\n",
       "</table>\n",
       "<p>10 rows × 28 columns</p>\n",
       "</div>"
      ],
      "text/plain": [
       "   EjercicioPedido NumeroPedido  Orden        FechaRegistro FechaPedido  \\\n",
       "0             2019         PBM1      5  2019-01-02 09:14:45  2019-01-02   \n",
       "1             2019         PBM2      5  2019-01-02 11:45:17  2019-01-02   \n",
       "2             2019         PBM2     10  2019-01-02 11:45:41  2019-01-02   \n",
       "3             2019         PBM2     15  2019-01-02 11:46:15  2019-01-02   \n",
       "4             2019         PBM3      5  2019-01-02 12:09:31  2019-01-02   \n",
       "5             2019         PBM3     10  2019-01-02 12:10:03  2019-01-02   \n",
       "6             2019         PBM3     15  2019-01-02 12:10:21  2019-01-02   \n",
       "7             2019         PBM3     20  2019-01-02 12:11:02  2019-01-02   \n",
       "8             2019         PBM3     25  2019-01-02 12:11:28  2019-01-02   \n",
       "9             2019         PBM3     30  2019-01-03 07:41:12  2019-01-02   \n",
       "\n",
       "  CodigoArticulo     Partida CodigoFamilia CodigoSubfamilia CodigodelCliente  \\\n",
       "0       AR020221     P0P529A          F002         FS002106          C020221   \n",
       "1       AR320045  PPRS1061AA          F013         FS013117          C320045   \n",
       "2       AR550036      P54282          F055         FS055109          C550036   \n",
       "3       AR540066       PM-08          F054         FS054104          C540066   \n",
       "4       AR033023          P0          F003         FS003129          C033023   \n",
       "5       AR033021          P0          F003         FS003129          C033021   \n",
       "6       AR033043          P0          F003         FS003129          C033043   \n",
       "7       AR750606          P0          F000               FS          C750606   \n",
       "8       AR750606   PL17F0177          F000               FS          C750606   \n",
       "9       AR550058      P54314          F055         FS055108          C550058   \n",
       "\n",
       "   ... %Descuento ImporteCoste ImporteBruto ImporteNeto  BaseImponible  \\\n",
       "0  ...          9       204,88       355,82      259,04         259,04   \n",
       "1  ...          5        45,48         59,8       56,81          56,81   \n",
       "2  ...          9         92,8          116      105,56         105,56   \n",
       "3  ...          9         15,1        20,72       18,86          18,86   \n",
       "4  ...         14           27         32,9       28,29          28,29   \n",
       "5  ...         14        21,44         26,8       23,05          23,05   \n",
       "6  ...         14         57,5        71,85       61,79          61,79   \n",
       "7  ...          5         19,5        24,38       23,16          23,16   \n",
       "8  ...          5          3,9         4,88        4,64           4,64   \n",
       "9  ...          9           80          100       68,25          68,25   \n",
       "\n",
       "   TotalIva ImporteLiquido TipoArticulo (No column name) DiferenciaDias  \n",
       "0  29,53056      288,57056          TPM           U09C11            0.0  \n",
       "1     5,681         62,491          TPM           U11D08            0.0  \n",
       "2    10,556        116,116          TPM           U09F01            0.0  \n",
       "3     1,886         20,746          TPM           U01B03            0.0  \n",
       "4    5,9409        34,2309          TPM           U02A03            0.0  \n",
       "5    4,8405        27,8905          TPM           U04D01            0.0  \n",
       "6     6,179         67,969          TPM           U02B01            0.0  \n",
       "7    4,8636        28,0236          TPM           U21A01            0.0  \n",
       "8    0,9744         5,6144          TPM           U21A01            0.0  \n",
       "9     6,825         75,075          TPM           U11E04            0.0  \n",
       "\n",
       "[10 rows x 28 columns]"
      ]
     },
     "execution_count": 27,
     "metadata": {},
     "output_type": "execute_result"
    }
   ],
   "source": [
    "datos.head(10)"
   ]
  },
  {
   "cell_type": "code",
   "execution_count": 28,
   "id": "8e263f9f",
   "metadata": {},
   "outputs": [
    {
     "data": {
      "text/plain": [
       "323.0"
      ]
     },
     "execution_count": 28,
     "metadata": {},
     "output_type": "execute_result"
    }
   ],
   "source": [
    "datos.DiferenciaDias.max()"
   ]
  },
  {
   "cell_type": "code",
   "execution_count": 29,
   "id": "a421931f",
   "metadata": {},
   "outputs": [
    {
     "data": {
      "text/plain": [
       "-0.019213262892567345"
      ]
     },
     "execution_count": 29,
     "metadata": {},
     "output_type": "execute_result"
    }
   ],
   "source": [
    "datos.DiferenciaDias.mean()"
   ]
  },
  {
   "cell_type": "code",
   "execution_count": 30,
   "id": "50a552ac",
   "metadata": {},
   "outputs": [
    {
     "data": {
      "text/plain": [
       "-324.0"
      ]
     },
     "execution_count": 30,
     "metadata": {},
     "output_type": "execute_result"
    }
   ],
   "source": [
    "datos.DiferenciaDias.min()"
   ]
  },
  {
   "cell_type": "code",
   "execution_count": 31,
   "id": "e32356c7",
   "metadata": {},
   "outputs": [
    {
     "data": {
      "text/html": [
       "<div>\n",
       "<style scoped>\n",
       "    .dataframe tbody tr th:only-of-type {\n",
       "        vertical-align: middle;\n",
       "    }\n",
       "\n",
       "    .dataframe tbody tr th {\n",
       "        vertical-align: top;\n",
       "    }\n",
       "\n",
       "    .dataframe thead th {\n",
       "        text-align: right;\n",
       "    }\n",
       "</style>\n",
       "<table border=\"1\" class=\"dataframe\">\n",
       "  <thead>\n",
       "    <tr style=\"text-align: right;\">\n",
       "      <th></th>\n",
       "      <th>FechaPedido</th>\n",
       "      <th>FechaEntrega</th>\n",
       "    </tr>\n",
       "  </thead>\n",
       "  <tbody>\n",
       "    <tr>\n",
       "      <th>45054</th>\n",
       "      <td>2019-03-18</td>\n",
       "      <td>2019-03-07</td>\n",
       "    </tr>\n",
       "    <tr>\n",
       "      <th>45055</th>\n",
       "      <td>2019-03-18</td>\n",
       "      <td>2019-03-07</td>\n",
       "    </tr>\n",
       "    <tr>\n",
       "      <th>56418</th>\n",
       "      <td>2019-01-31</td>\n",
       "      <td>2019-01-21</td>\n",
       "    </tr>\n",
       "    <tr>\n",
       "      <th>60018</th>\n",
       "      <td>2019-02-15</td>\n",
       "      <td>2019-02-14</td>\n",
       "    </tr>\n",
       "    <tr>\n",
       "      <th>60019</th>\n",
       "      <td>2019-02-15</td>\n",
       "      <td>2019-02-14</td>\n",
       "    </tr>\n",
       "    <tr>\n",
       "      <th>...</th>\n",
       "      <td>...</td>\n",
       "      <td>...</td>\n",
       "    </tr>\n",
       "    <tr>\n",
       "      <th>495029</th>\n",
       "      <td>2022-12-20</td>\n",
       "      <td>2022-12-19</td>\n",
       "    </tr>\n",
       "    <tr>\n",
       "      <th>495030</th>\n",
       "      <td>2022-12-20</td>\n",
       "      <td>2022-12-19</td>\n",
       "    </tr>\n",
       "    <tr>\n",
       "      <th>495031</th>\n",
       "      <td>2022-12-20</td>\n",
       "      <td>2022-12-19</td>\n",
       "    </tr>\n",
       "    <tr>\n",
       "      <th>495032</th>\n",
       "      <td>2022-12-20</td>\n",
       "      <td>2022-12-19</td>\n",
       "    </tr>\n",
       "    <tr>\n",
       "      <th>495033</th>\n",
       "      <td>2022-12-20</td>\n",
       "      <td>2022-12-19</td>\n",
       "    </tr>\n",
       "  </tbody>\n",
       "</table>\n",
       "<p>917 rows × 2 columns</p>\n",
       "</div>"
      ],
      "text/plain": [
       "       FechaPedido FechaEntrega\n",
       "45054   2019-03-18   2019-03-07\n",
       "45055   2019-03-18   2019-03-07\n",
       "56418   2019-01-31   2019-01-21\n",
       "60018   2019-02-15   2019-02-14\n",
       "60019   2019-02-15   2019-02-14\n",
       "...            ...          ...\n",
       "495029  2022-12-20   2022-12-19\n",
       "495030  2022-12-20   2022-12-19\n",
       "495031  2022-12-20   2022-12-19\n",
       "495032  2022-12-20   2022-12-19\n",
       "495033  2022-12-20   2022-12-19\n",
       "\n",
       "[917 rows x 2 columns]"
      ]
     },
     "execution_count": 31,
     "metadata": {},
     "output_type": "execute_result"
    }
   ],
   "source": [
    "datos[datos.FechaEntrega < datos.FechaPedido][['FechaPedido', 'FechaEntrega']]"
   ]
  },
  {
   "cell_type": "code",
   "execution_count": 32,
   "id": "cf329c69",
   "metadata": {},
   "outputs": [
    {
     "data": {
      "text/plain": [
       "(1613247, 28)"
      ]
     },
     "execution_count": 32,
     "metadata": {},
     "output_type": "execute_result"
    }
   ],
   "source": [
    "datos.shape"
   ]
  },
  {
   "cell_type": "code",
   "execution_count": 33,
   "id": "22c2b9d9",
   "metadata": {},
   "outputs": [
    {
     "data": {
      "text/plain": [
       "(917, 28)"
      ]
     },
     "execution_count": 33,
     "metadata": {},
     "output_type": "execute_result"
    }
   ],
   "source": [
    "datos[datos.FechaEntrega < datos.FechaPedido].shape"
   ]
  },
  {
   "cell_type": "code",
   "execution_count": 34,
   "id": "5b06eb15",
   "metadata": {},
   "outputs": [],
   "source": [
    "datos_one = datos"
   ]
  },
  {
   "cell_type": "code",
   "execution_count": 35,
   "id": "b75ac9b6",
   "metadata": {},
   "outputs": [],
   "source": [
    "datos = datos[datos.FechaEntrega >= datos.FechaPedido]"
   ]
  },
  {
   "cell_type": "code",
   "execution_count": 36,
   "id": "33ba3851",
   "metadata": {},
   "outputs": [
    {
     "data": {
      "text/plain": [
       "(1524904, 28)"
      ]
     },
     "execution_count": 36,
     "metadata": {},
     "output_type": "execute_result"
    }
   ],
   "source": [
    "datos.shape"
   ]
  },
  {
   "cell_type": "code",
   "execution_count": 37,
   "id": "1fa5a35f",
   "metadata": {},
   "outputs": [
    {
     "data": {
      "text/plain": [
       "1612330"
      ]
     },
     "execution_count": 37,
     "metadata": {},
     "output_type": "execute_result"
    }
   ],
   "source": [
    "1613247-917"
   ]
  },
  {
   "cell_type": "code",
   "execution_count": 38,
   "id": "581357a7",
   "metadata": {},
   "outputs": [
    {
     "data": {
      "text/plain": [
       "87426"
      ]
     },
     "execution_count": 38,
     "metadata": {},
     "output_type": "execute_result"
    }
   ],
   "source": [
    "datos_one.FechaEntrega.isna().sum()"
   ]
  },
  {
   "cell_type": "code",
   "execution_count": 39,
   "id": "9d4beb1a",
   "metadata": {},
   "outputs": [
    {
     "data": {
      "text/plain": [
       "0"
      ]
     },
     "execution_count": 39,
     "metadata": {},
     "output_type": "execute_result"
    }
   ],
   "source": [
    "datos_one.FechaPedido.isna().sum()"
   ]
  },
  {
   "cell_type": "code",
   "execution_count": 40,
   "id": "7b77d733",
   "metadata": {},
   "outputs": [
    {
     "data": {
      "text/plain": [
       "1524904"
      ]
     },
     "execution_count": 40,
     "metadata": {},
     "output_type": "execute_result"
    }
   ],
   "source": [
    "1612330-87426"
   ]
  },
  {
   "cell_type": "code",
   "execution_count": 41,
   "id": "67408b7b",
   "metadata": {},
   "outputs": [
    {
     "data": {
      "text/plain": [
       "(1524904, 28)"
      ]
     },
     "execution_count": 41,
     "metadata": {},
     "output_type": "execute_result"
    }
   ],
   "source": [
    "datos.shape"
   ]
  },
  {
   "cell_type": "code",
   "execution_count": 42,
   "id": "90fd4e1c",
   "metadata": {},
   "outputs": [
    {
     "data": {
      "text/plain": [
       "0"
      ]
     },
     "execution_count": 42,
     "metadata": {},
     "output_type": "execute_result"
    }
   ],
   "source": [
    "datos.FechaEntrega.isna().sum()"
   ]
  },
  {
   "cell_type": "code",
   "execution_count": 43,
   "id": "912bea9d",
   "metadata": {},
   "outputs": [
    {
     "data": {
      "text/plain": [
       "0"
      ]
     },
     "execution_count": 43,
     "metadata": {},
     "output_type": "execute_result"
    }
   ],
   "source": [
    "datos.FechaPedido.isna().sum()"
   ]
  },
  {
   "cell_type": "code",
   "execution_count": 44,
   "id": "1bde6136",
   "metadata": {},
   "outputs": [
    {
     "data": {
      "text/plain": [
       "323.0"
      ]
     },
     "execution_count": 44,
     "metadata": {},
     "output_type": "execute_result"
    }
   ],
   "source": [
    "datos.DiferenciaDias.max()"
   ]
  },
  {
   "cell_type": "code",
   "execution_count": 45,
   "id": "3af9e1cc",
   "metadata": {},
   "outputs": [
    {
     "data": {
      "text/plain": [
       "0.0"
      ]
     },
     "execution_count": 45,
     "metadata": {},
     "output_type": "execute_result"
    }
   ],
   "source": [
    "datos.DiferenciaDias.min()"
   ]
  },
  {
   "cell_type": "code",
   "execution_count": 46,
   "id": "7e82aeee",
   "metadata": {},
   "outputs": [
    {
     "data": {
      "text/plain": [
       "0.02348410129424541"
      ]
     },
     "execution_count": 46,
     "metadata": {},
     "output_type": "execute_result"
    }
   ],
   "source": [
    "datos.DiferenciaDias.mean()"
   ]
  },
  {
   "cell_type": "code",
   "execution_count": 47,
   "id": "9c5609ed",
   "metadata": {},
   "outputs": [
    {
     "data": {
      "text/plain": [
       "0    0.0\n",
       "Name: DiferenciaDias, dtype: float64"
      ]
     },
     "execution_count": 47,
     "metadata": {},
     "output_type": "execute_result"
    }
   ],
   "source": [
    "datos.DiferenciaDias.mode()"
   ]
  },
  {
   "cell_type": "code",
   "execution_count": 48,
   "id": "36790375",
   "metadata": {},
   "outputs": [
    {
     "name": "stderr",
     "output_type": "stream",
     "text": [
      "C:\\Users\\evill\\anaconda3\\lib\\site-packages\\seaborn\\_core.py:1057: FutureWarning: reindexing with a non-unique Index is deprecated and will raise in a future version.\n",
      "  comp_col.loc[orig.index] = pd.to_numeric(axis.convert_units(orig))\n"
     ]
    },
    {
     "ename": "ValueError",
     "evalue": "cannot reindex on an axis with duplicate labels",
     "output_type": "error",
     "traceback": [
      "\u001b[1;31m---------------------------------------------------------------------------\u001b[0m",
      "\u001b[1;31mValueError\u001b[0m                                Traceback (most recent call last)",
      "\u001b[1;32m~\\AppData\\Local\\Temp\\ipykernel_23124\\4117170708.py\u001b[0m in \u001b[0;36m<module>\u001b[1;34m\u001b[0m\n\u001b[1;32m----> 1\u001b[1;33m \u001b[0msns\u001b[0m\u001b[1;33m.\u001b[0m\u001b[0mhistplot\u001b[0m\u001b[1;33m(\u001b[0m\u001b[0mdata\u001b[0m\u001b[1;33m=\u001b[0m\u001b[0mdatos\u001b[0m\u001b[1;33m,\u001b[0m \u001b[0mx\u001b[0m\u001b[1;33m=\u001b[0m\u001b[1;34m\"DiferenciaDias\"\u001b[0m\u001b[1;33m)\u001b[0m\u001b[1;33m\u001b[0m\u001b[1;33m\u001b[0m\u001b[0m\n\u001b[0m",
      "\u001b[1;32m~\\anaconda3\\lib\\site-packages\\seaborn\\distributions.py\u001b[0m in \u001b[0;36mhistplot\u001b[1;34m(data, x, y, hue, weights, stat, bins, binwidth, binrange, discrete, cumulative, common_bins, common_norm, multiple, element, fill, shrink, kde, kde_kws, line_kws, thresh, pthresh, pmax, cbar, cbar_ax, cbar_kws, palette, hue_order, hue_norm, color, log_scale, legend, ax, **kwargs)\u001b[0m\n\u001b[0;32m   1460\u001b[0m     \u001b[1;32mif\u001b[0m \u001b[0mp\u001b[0m\u001b[1;33m.\u001b[0m\u001b[0munivariate\u001b[0m\u001b[1;33m:\u001b[0m\u001b[1;33m\u001b[0m\u001b[1;33m\u001b[0m\u001b[0m\n\u001b[0;32m   1461\u001b[0m \u001b[1;33m\u001b[0m\u001b[0m\n\u001b[1;32m-> 1462\u001b[1;33m         p.plot_univariate_histogram(\n\u001b[0m\u001b[0;32m   1463\u001b[0m             \u001b[0mmultiple\u001b[0m\u001b[1;33m=\u001b[0m\u001b[0mmultiple\u001b[0m\u001b[1;33m,\u001b[0m\u001b[1;33m\u001b[0m\u001b[1;33m\u001b[0m\u001b[0m\n\u001b[0;32m   1464\u001b[0m             \u001b[0melement\u001b[0m\u001b[1;33m=\u001b[0m\u001b[0melement\u001b[0m\u001b[1;33m,\u001b[0m\u001b[1;33m\u001b[0m\u001b[1;33m\u001b[0m\u001b[0m\n",
      "\u001b[1;32m~\\anaconda3\\lib\\site-packages\\seaborn\\distributions.py\u001b[0m in \u001b[0;36mplot_univariate_histogram\u001b[1;34m(self, multiple, element, fill, common_norm, common_bins, shrink, kde, kde_kws, color, legend, line_kws, estimate_kws, **plot_kws)\u001b[0m\n\u001b[0;32m    426\u001b[0m \u001b[1;33m\u001b[0m\u001b[0m\n\u001b[0;32m    427\u001b[0m         \u001b[1;31m# First pass through the data to compute the histograms\u001b[0m\u001b[1;33m\u001b[0m\u001b[1;33m\u001b[0m\u001b[0m\n\u001b[1;32m--> 428\u001b[1;33m         \u001b[1;32mfor\u001b[0m \u001b[0msub_vars\u001b[0m\u001b[1;33m,\u001b[0m \u001b[0msub_data\u001b[0m \u001b[1;32min\u001b[0m \u001b[0mself\u001b[0m\u001b[1;33m.\u001b[0m\u001b[0miter_data\u001b[0m\u001b[1;33m(\u001b[0m\u001b[1;34m\"hue\"\u001b[0m\u001b[1;33m,\u001b[0m \u001b[0mfrom_comp_data\u001b[0m\u001b[1;33m=\u001b[0m\u001b[1;32mTrue\u001b[0m\u001b[1;33m)\u001b[0m\u001b[1;33m:\u001b[0m\u001b[1;33m\u001b[0m\u001b[1;33m\u001b[0m\u001b[0m\n\u001b[0m\u001b[0;32m    429\u001b[0m \u001b[1;33m\u001b[0m\u001b[0m\n\u001b[0;32m    430\u001b[0m             \u001b[1;31m# Prepare the relevant data\u001b[0m\u001b[1;33m\u001b[0m\u001b[1;33m\u001b[0m\u001b[0m\n",
      "\u001b[1;32m~\\anaconda3\\lib\\site-packages\\seaborn\\_core.py\u001b[0m in \u001b[0;36miter_data\u001b[1;34m(self, grouping_vars, reverse, from_comp_data)\u001b[0m\n\u001b[0;32m    981\u001b[0m \u001b[1;33m\u001b[0m\u001b[0m\n\u001b[0;32m    982\u001b[0m         \u001b[1;32mif\u001b[0m \u001b[0mfrom_comp_data\u001b[0m\u001b[1;33m:\u001b[0m\u001b[1;33m\u001b[0m\u001b[1;33m\u001b[0m\u001b[0m\n\u001b[1;32m--> 983\u001b[1;33m             \u001b[0mdata\u001b[0m \u001b[1;33m=\u001b[0m \u001b[0mself\u001b[0m\u001b[1;33m.\u001b[0m\u001b[0mcomp_data\u001b[0m\u001b[1;33m\u001b[0m\u001b[1;33m\u001b[0m\u001b[0m\n\u001b[0m\u001b[0;32m    984\u001b[0m         \u001b[1;32melse\u001b[0m\u001b[1;33m:\u001b[0m\u001b[1;33m\u001b[0m\u001b[1;33m\u001b[0m\u001b[0m\n\u001b[0;32m    985\u001b[0m             \u001b[0mdata\u001b[0m \u001b[1;33m=\u001b[0m \u001b[0mself\u001b[0m\u001b[1;33m.\u001b[0m\u001b[0mplot_data\u001b[0m\u001b[1;33m\u001b[0m\u001b[1;33m\u001b[0m\u001b[0m\n",
      "\u001b[1;32m~\\anaconda3\\lib\\site-packages\\seaborn\\_core.py\u001b[0m in \u001b[0;36mcomp_data\u001b[1;34m(self)\u001b[0m\n\u001b[0;32m   1055\u001b[0m                     \u001b[0morig\u001b[0m \u001b[1;33m=\u001b[0m \u001b[0mself\u001b[0m\u001b[1;33m.\u001b[0m\u001b[0mplot_data\u001b[0m\u001b[1;33m[\u001b[0m\u001b[0mvar\u001b[0m\u001b[1;33m]\u001b[0m\u001b[1;33m.\u001b[0m\u001b[0mdropna\u001b[0m\u001b[1;33m(\u001b[0m\u001b[1;33m)\u001b[0m\u001b[1;33m\u001b[0m\u001b[1;33m\u001b[0m\u001b[0m\n\u001b[0;32m   1056\u001b[0m                 \u001b[0mcomp_col\u001b[0m \u001b[1;33m=\u001b[0m \u001b[0mpd\u001b[0m\u001b[1;33m.\u001b[0m\u001b[0mSeries\u001b[0m\u001b[1;33m(\u001b[0m\u001b[0mindex\u001b[0m\u001b[1;33m=\u001b[0m\u001b[0morig\u001b[0m\u001b[1;33m.\u001b[0m\u001b[0mindex\u001b[0m\u001b[1;33m,\u001b[0m \u001b[0mdtype\u001b[0m\u001b[1;33m=\u001b[0m\u001b[0mfloat\u001b[0m\u001b[1;33m,\u001b[0m \u001b[0mname\u001b[0m\u001b[1;33m=\u001b[0m\u001b[0mvar\u001b[0m\u001b[1;33m)\u001b[0m\u001b[1;33m\u001b[0m\u001b[1;33m\u001b[0m\u001b[0m\n\u001b[1;32m-> 1057\u001b[1;33m                 \u001b[0mcomp_col\u001b[0m\u001b[1;33m.\u001b[0m\u001b[0mloc\u001b[0m\u001b[1;33m[\u001b[0m\u001b[0morig\u001b[0m\u001b[1;33m.\u001b[0m\u001b[0mindex\u001b[0m\u001b[1;33m]\u001b[0m \u001b[1;33m=\u001b[0m \u001b[0mpd\u001b[0m\u001b[1;33m.\u001b[0m\u001b[0mto_numeric\u001b[0m\u001b[1;33m(\u001b[0m\u001b[0maxis\u001b[0m\u001b[1;33m.\u001b[0m\u001b[0mconvert_units\u001b[0m\u001b[1;33m(\u001b[0m\u001b[0morig\u001b[0m\u001b[1;33m)\u001b[0m\u001b[1;33m)\u001b[0m\u001b[1;33m\u001b[0m\u001b[1;33m\u001b[0m\u001b[0m\n\u001b[0m\u001b[0;32m   1058\u001b[0m \u001b[1;33m\u001b[0m\u001b[0m\n\u001b[0;32m   1059\u001b[0m                 \u001b[1;32mif\u001b[0m \u001b[0maxis\u001b[0m\u001b[1;33m.\u001b[0m\u001b[0mget_scale\u001b[0m\u001b[1;33m(\u001b[0m\u001b[1;33m)\u001b[0m \u001b[1;33m==\u001b[0m \u001b[1;34m\"log\"\u001b[0m\u001b[1;33m:\u001b[0m\u001b[1;33m\u001b[0m\u001b[1;33m\u001b[0m\u001b[0m\n",
      "\u001b[1;32m~\\anaconda3\\lib\\site-packages\\pandas\\core\\indexing.py\u001b[0m in \u001b[0;36m__setitem__\u001b[1;34m(self, key, value)\u001b[0m\n\u001b[0;32m    714\u001b[0m \u001b[1;33m\u001b[0m\u001b[0m\n\u001b[0;32m    715\u001b[0m         \u001b[0miloc\u001b[0m \u001b[1;33m=\u001b[0m \u001b[0mself\u001b[0m \u001b[1;32mif\u001b[0m \u001b[0mself\u001b[0m\u001b[1;33m.\u001b[0m\u001b[0mname\u001b[0m \u001b[1;33m==\u001b[0m \u001b[1;34m\"iloc\"\u001b[0m \u001b[1;32melse\u001b[0m \u001b[0mself\u001b[0m\u001b[1;33m.\u001b[0m\u001b[0mobj\u001b[0m\u001b[1;33m.\u001b[0m\u001b[0miloc\u001b[0m\u001b[1;33m\u001b[0m\u001b[1;33m\u001b[0m\u001b[0m\n\u001b[1;32m--> 716\u001b[1;33m         \u001b[0miloc\u001b[0m\u001b[1;33m.\u001b[0m\u001b[0m_setitem_with_indexer\u001b[0m\u001b[1;33m(\u001b[0m\u001b[0mindexer\u001b[0m\u001b[1;33m,\u001b[0m \u001b[0mvalue\u001b[0m\u001b[1;33m,\u001b[0m \u001b[0mself\u001b[0m\u001b[1;33m.\u001b[0m\u001b[0mname\u001b[0m\u001b[1;33m)\u001b[0m\u001b[1;33m\u001b[0m\u001b[1;33m\u001b[0m\u001b[0m\n\u001b[0m\u001b[0;32m    717\u001b[0m \u001b[1;33m\u001b[0m\u001b[0m\n\u001b[0;32m    718\u001b[0m     \u001b[1;32mdef\u001b[0m \u001b[0m_validate_key\u001b[0m\u001b[1;33m(\u001b[0m\u001b[0mself\u001b[0m\u001b[1;33m,\u001b[0m \u001b[0mkey\u001b[0m\u001b[1;33m,\u001b[0m \u001b[0maxis\u001b[0m\u001b[1;33m:\u001b[0m \u001b[0mint\u001b[0m\u001b[1;33m)\u001b[0m\u001b[1;33m:\u001b[0m\u001b[1;33m\u001b[0m\u001b[1;33m\u001b[0m\u001b[0m\n",
      "\u001b[1;32m~\\anaconda3\\lib\\site-packages\\pandas\\core\\indexing.py\u001b[0m in \u001b[0;36m_setitem_with_indexer\u001b[1;34m(self, indexer, value, name)\u001b[0m\n\u001b[0;32m   1691\u001b[0m             \u001b[0mself\u001b[0m\u001b[1;33m.\u001b[0m\u001b[0m_setitem_with_indexer_split_path\u001b[0m\u001b[1;33m(\u001b[0m\u001b[0mindexer\u001b[0m\u001b[1;33m,\u001b[0m \u001b[0mvalue\u001b[0m\u001b[1;33m,\u001b[0m \u001b[0mname\u001b[0m\u001b[1;33m)\u001b[0m\u001b[1;33m\u001b[0m\u001b[1;33m\u001b[0m\u001b[0m\n\u001b[0;32m   1692\u001b[0m         \u001b[1;32melse\u001b[0m\u001b[1;33m:\u001b[0m\u001b[1;33m\u001b[0m\u001b[1;33m\u001b[0m\u001b[0m\n\u001b[1;32m-> 1693\u001b[1;33m             \u001b[0mself\u001b[0m\u001b[1;33m.\u001b[0m\u001b[0m_setitem_single_block\u001b[0m\u001b[1;33m(\u001b[0m\u001b[0mindexer\u001b[0m\u001b[1;33m,\u001b[0m \u001b[0mvalue\u001b[0m\u001b[1;33m,\u001b[0m \u001b[0mname\u001b[0m\u001b[1;33m)\u001b[0m\u001b[1;33m\u001b[0m\u001b[1;33m\u001b[0m\u001b[0m\n\u001b[0m\u001b[0;32m   1694\u001b[0m \u001b[1;33m\u001b[0m\u001b[0m\n\u001b[0;32m   1695\u001b[0m     \u001b[1;32mdef\u001b[0m \u001b[0m_setitem_with_indexer_split_path\u001b[0m\u001b[1;33m(\u001b[0m\u001b[0mself\u001b[0m\u001b[1;33m,\u001b[0m \u001b[0mindexer\u001b[0m\u001b[1;33m,\u001b[0m \u001b[0mvalue\u001b[0m\u001b[1;33m,\u001b[0m \u001b[0mname\u001b[0m\u001b[1;33m:\u001b[0m \u001b[0mstr\u001b[0m\u001b[1;33m)\u001b[0m\u001b[1;33m:\u001b[0m\u001b[1;33m\u001b[0m\u001b[1;33m\u001b[0m\u001b[0m\n",
      "\u001b[1;32m~\\anaconda3\\lib\\site-packages\\pandas\\core\\indexing.py\u001b[0m in \u001b[0;36m_setitem_single_block\u001b[1;34m(self, indexer, value, name)\u001b[0m\n\u001b[0;32m   1932\u001b[0m             \u001b[1;31m# setting for extensionarrays that store dicts. Need to decide\u001b[0m\u001b[1;33m\u001b[0m\u001b[1;33m\u001b[0m\u001b[0m\n\u001b[0;32m   1933\u001b[0m             \u001b[1;31m# if it's worth supporting that.\u001b[0m\u001b[1;33m\u001b[0m\u001b[1;33m\u001b[0m\u001b[0m\n\u001b[1;32m-> 1934\u001b[1;33m             \u001b[0mvalue\u001b[0m \u001b[1;33m=\u001b[0m \u001b[0mself\u001b[0m\u001b[1;33m.\u001b[0m\u001b[0m_align_series\u001b[0m\u001b[1;33m(\u001b[0m\u001b[0mindexer\u001b[0m\u001b[1;33m,\u001b[0m \u001b[0mSeries\u001b[0m\u001b[1;33m(\u001b[0m\u001b[0mvalue\u001b[0m\u001b[1;33m)\u001b[0m\u001b[1;33m)\u001b[0m\u001b[1;33m\u001b[0m\u001b[1;33m\u001b[0m\u001b[0m\n\u001b[0m\u001b[0;32m   1935\u001b[0m \u001b[1;33m\u001b[0m\u001b[0m\n\u001b[0;32m   1936\u001b[0m         \u001b[1;32melif\u001b[0m \u001b[0misinstance\u001b[0m\u001b[1;33m(\u001b[0m\u001b[0mvalue\u001b[0m\u001b[1;33m,\u001b[0m \u001b[0mABCDataFrame\u001b[0m\u001b[1;33m)\u001b[0m \u001b[1;32mand\u001b[0m \u001b[0mname\u001b[0m \u001b[1;33m!=\u001b[0m \u001b[1;34m\"iloc\"\u001b[0m\u001b[1;33m:\u001b[0m\u001b[1;33m\u001b[0m\u001b[1;33m\u001b[0m\u001b[0m\n",
      "\u001b[1;32m~\\anaconda3\\lib\\site-packages\\pandas\\core\\indexing.py\u001b[0m in \u001b[0;36m_align_series\u001b[1;34m(self, indexer, ser, multiindex_indexer)\u001b[0m\n\u001b[0;32m   2094\u001b[0m                 \u001b[1;32mif\u001b[0m \u001b[0mobj\u001b[0m\u001b[1;33m.\u001b[0m\u001b[0mndim\u001b[0m \u001b[1;33m==\u001b[0m \u001b[1;36m2\u001b[0m \u001b[1;32mand\u001b[0m \u001b[0mis_empty_indexer\u001b[0m\u001b[1;33m(\u001b[0m\u001b[0mindexer\u001b[0m\u001b[1;33m[\u001b[0m\u001b[1;36m0\u001b[0m\u001b[1;33m]\u001b[0m\u001b[1;33m,\u001b[0m \u001b[0mser\u001b[0m\u001b[1;33m.\u001b[0m\u001b[0m_values\u001b[0m\u001b[1;33m)\u001b[0m\u001b[1;33m:\u001b[0m\u001b[1;33m\u001b[0m\u001b[1;33m\u001b[0m\u001b[0m\n\u001b[0;32m   2095\u001b[0m                     \u001b[1;32mreturn\u001b[0m \u001b[0mser\u001b[0m\u001b[1;33m.\u001b[0m\u001b[0m_values\u001b[0m\u001b[1;33m.\u001b[0m\u001b[0mcopy\u001b[0m\u001b[1;33m(\u001b[0m\u001b[1;33m)\u001b[0m\u001b[1;33m\u001b[0m\u001b[1;33m\u001b[0m\u001b[0m\n\u001b[1;32m-> 2096\u001b[1;33m                 \u001b[0mser\u001b[0m \u001b[1;33m=\u001b[0m \u001b[0mser\u001b[0m\u001b[1;33m.\u001b[0m\u001b[0mreindex\u001b[0m\u001b[1;33m(\u001b[0m\u001b[0mobj\u001b[0m\u001b[1;33m.\u001b[0m\u001b[0maxes\u001b[0m\u001b[1;33m[\u001b[0m\u001b[1;36m0\u001b[0m\u001b[1;33m]\u001b[0m\u001b[1;33m[\u001b[0m\u001b[0mindexer\u001b[0m\u001b[1;33m[\u001b[0m\u001b[1;36m0\u001b[0m\u001b[1;33m]\u001b[0m\u001b[1;33m]\u001b[0m\u001b[1;33m,\u001b[0m \u001b[0mcopy\u001b[0m\u001b[1;33m=\u001b[0m\u001b[1;32mTrue\u001b[0m\u001b[1;33m)\u001b[0m\u001b[1;33m.\u001b[0m\u001b[0m_values\u001b[0m\u001b[1;33m\u001b[0m\u001b[1;33m\u001b[0m\u001b[0m\n\u001b[0m\u001b[0;32m   2097\u001b[0m \u001b[1;33m\u001b[0m\u001b[0m\n\u001b[0;32m   2098\u001b[0m                 \u001b[1;31m# single indexer\u001b[0m\u001b[1;33m\u001b[0m\u001b[1;33m\u001b[0m\u001b[0m\n",
      "\u001b[1;32m~\\anaconda3\\lib\\site-packages\\pandas\\core\\series.py\u001b[0m in \u001b[0;36mreindex\u001b[1;34m(self, *args, **kwargs)\u001b[0m\n\u001b[0;32m   4670\u001b[0m                 )\n\u001b[0;32m   4671\u001b[0m             \u001b[0mkwargs\u001b[0m\u001b[1;33m.\u001b[0m\u001b[0mupdate\u001b[0m\u001b[1;33m(\u001b[0m\u001b[1;33m{\u001b[0m\u001b[1;34m\"index\"\u001b[0m\u001b[1;33m:\u001b[0m \u001b[0mindex\u001b[0m\u001b[1;33m}\u001b[0m\u001b[1;33m)\u001b[0m\u001b[1;33m\u001b[0m\u001b[1;33m\u001b[0m\u001b[0m\n\u001b[1;32m-> 4672\u001b[1;33m         \u001b[1;32mreturn\u001b[0m \u001b[0msuper\u001b[0m\u001b[1;33m(\u001b[0m\u001b[1;33m)\u001b[0m\u001b[1;33m.\u001b[0m\u001b[0mreindex\u001b[0m\u001b[1;33m(\u001b[0m\u001b[1;33m**\u001b[0m\u001b[0mkwargs\u001b[0m\u001b[1;33m)\u001b[0m\u001b[1;33m\u001b[0m\u001b[1;33m\u001b[0m\u001b[0m\n\u001b[0m\u001b[0;32m   4673\u001b[0m \u001b[1;33m\u001b[0m\u001b[0m\n\u001b[0;32m   4674\u001b[0m     \u001b[1;33m@\u001b[0m\u001b[0mdeprecate_nonkeyword_arguments\u001b[0m\u001b[1;33m(\u001b[0m\u001b[0mversion\u001b[0m\u001b[1;33m=\u001b[0m\u001b[1;32mNone\u001b[0m\u001b[1;33m,\u001b[0m \u001b[0mallowed_args\u001b[0m\u001b[1;33m=\u001b[0m\u001b[1;33m[\u001b[0m\u001b[1;34m\"self\"\u001b[0m\u001b[1;33m,\u001b[0m \u001b[1;34m\"labels\"\u001b[0m\u001b[1;33m]\u001b[0m\u001b[1;33m)\u001b[0m\u001b[1;33m\u001b[0m\u001b[1;33m\u001b[0m\u001b[0m\n",
      "\u001b[1;32m~\\anaconda3\\lib\\site-packages\\pandas\\core\\generic.py\u001b[0m in \u001b[0;36mreindex\u001b[1;34m(self, *args, **kwargs)\u001b[0m\n\u001b[0;32m   4964\u001b[0m \u001b[1;33m\u001b[0m\u001b[0m\n\u001b[0;32m   4965\u001b[0m         \u001b[1;31m# perform the reindex on the axes\u001b[0m\u001b[1;33m\u001b[0m\u001b[1;33m\u001b[0m\u001b[0m\n\u001b[1;32m-> 4966\u001b[1;33m         return self._reindex_axes(\n\u001b[0m\u001b[0;32m   4967\u001b[0m             \u001b[0maxes\u001b[0m\u001b[1;33m,\u001b[0m \u001b[0mlevel\u001b[0m\u001b[1;33m,\u001b[0m \u001b[0mlimit\u001b[0m\u001b[1;33m,\u001b[0m \u001b[0mtolerance\u001b[0m\u001b[1;33m,\u001b[0m \u001b[0mmethod\u001b[0m\u001b[1;33m,\u001b[0m \u001b[0mfill_value\u001b[0m\u001b[1;33m,\u001b[0m \u001b[0mcopy\u001b[0m\u001b[1;33m\u001b[0m\u001b[1;33m\u001b[0m\u001b[0m\n\u001b[0;32m   4968\u001b[0m         ).__finalize__(self, method=\"reindex\")\n",
      "\u001b[1;32m~\\anaconda3\\lib\\site-packages\\pandas\\core\\generic.py\u001b[0m in \u001b[0;36m_reindex_axes\u001b[1;34m(self, axes, level, limit, tolerance, method, fill_value, copy)\u001b[0m\n\u001b[0;32m   4984\u001b[0m \u001b[1;33m\u001b[0m\u001b[0m\n\u001b[0;32m   4985\u001b[0m             \u001b[0maxis\u001b[0m \u001b[1;33m=\u001b[0m \u001b[0mself\u001b[0m\u001b[1;33m.\u001b[0m\u001b[0m_get_axis_number\u001b[0m\u001b[1;33m(\u001b[0m\u001b[0ma\u001b[0m\u001b[1;33m)\u001b[0m\u001b[1;33m\u001b[0m\u001b[1;33m\u001b[0m\u001b[0m\n\u001b[1;32m-> 4986\u001b[1;33m             obj = obj._reindex_with_indexers(\n\u001b[0m\u001b[0;32m   4987\u001b[0m                 \u001b[1;33m{\u001b[0m\u001b[0maxis\u001b[0m\u001b[1;33m:\u001b[0m \u001b[1;33m[\u001b[0m\u001b[0mnew_index\u001b[0m\u001b[1;33m,\u001b[0m \u001b[0mindexer\u001b[0m\u001b[1;33m]\u001b[0m\u001b[1;33m}\u001b[0m\u001b[1;33m,\u001b[0m\u001b[1;33m\u001b[0m\u001b[1;33m\u001b[0m\u001b[0m\n\u001b[0;32m   4988\u001b[0m                 \u001b[0mfill_value\u001b[0m\u001b[1;33m=\u001b[0m\u001b[0mfill_value\u001b[0m\u001b[1;33m,\u001b[0m\u001b[1;33m\u001b[0m\u001b[1;33m\u001b[0m\u001b[0m\n",
      "\u001b[1;32m~\\anaconda3\\lib\\site-packages\\pandas\\core\\generic.py\u001b[0m in \u001b[0;36m_reindex_with_indexers\u001b[1;34m(self, reindexers, fill_value, copy, allow_dups)\u001b[0m\n\u001b[0;32m   5030\u001b[0m \u001b[1;33m\u001b[0m\u001b[0m\n\u001b[0;32m   5031\u001b[0m             \u001b[1;31m# TODO: speed up on homogeneous DataFrame objects (see _reindex_multi)\u001b[0m\u001b[1;33m\u001b[0m\u001b[1;33m\u001b[0m\u001b[0m\n\u001b[1;32m-> 5032\u001b[1;33m             new_data = new_data.reindex_indexer(\n\u001b[0m\u001b[0;32m   5033\u001b[0m                 \u001b[0mindex\u001b[0m\u001b[1;33m,\u001b[0m\u001b[1;33m\u001b[0m\u001b[1;33m\u001b[0m\u001b[0m\n\u001b[0;32m   5034\u001b[0m                 \u001b[0mindexer\u001b[0m\u001b[1;33m,\u001b[0m\u001b[1;33m\u001b[0m\u001b[1;33m\u001b[0m\u001b[0m\n",
      "\u001b[1;32m~\\anaconda3\\lib\\site-packages\\pandas\\core\\internals\\managers.py\u001b[0m in \u001b[0;36mreindex_indexer\u001b[1;34m(self, new_axis, indexer, axis, fill_value, allow_dups, copy, consolidate, only_slice, use_na_proxy)\u001b[0m\n\u001b[0;32m    674\u001b[0m         \u001b[1;31m# some axes don't allow reindexing with dups\u001b[0m\u001b[1;33m\u001b[0m\u001b[1;33m\u001b[0m\u001b[0m\n\u001b[0;32m    675\u001b[0m         \u001b[1;32mif\u001b[0m \u001b[1;32mnot\u001b[0m \u001b[0mallow_dups\u001b[0m\u001b[1;33m:\u001b[0m\u001b[1;33m\u001b[0m\u001b[1;33m\u001b[0m\u001b[0m\n\u001b[1;32m--> 676\u001b[1;33m             \u001b[0mself\u001b[0m\u001b[1;33m.\u001b[0m\u001b[0maxes\u001b[0m\u001b[1;33m[\u001b[0m\u001b[0maxis\u001b[0m\u001b[1;33m]\u001b[0m\u001b[1;33m.\u001b[0m\u001b[0m_validate_can_reindex\u001b[0m\u001b[1;33m(\u001b[0m\u001b[0mindexer\u001b[0m\u001b[1;33m)\u001b[0m\u001b[1;33m\u001b[0m\u001b[1;33m\u001b[0m\u001b[0m\n\u001b[0m\u001b[0;32m    677\u001b[0m \u001b[1;33m\u001b[0m\u001b[0m\n\u001b[0;32m    678\u001b[0m         \u001b[1;32mif\u001b[0m \u001b[0maxis\u001b[0m \u001b[1;33m>=\u001b[0m \u001b[0mself\u001b[0m\u001b[1;33m.\u001b[0m\u001b[0mndim\u001b[0m\u001b[1;33m:\u001b[0m\u001b[1;33m\u001b[0m\u001b[1;33m\u001b[0m\u001b[0m\n",
      "\u001b[1;32m~\\anaconda3\\lib\\site-packages\\pandas\\core\\indexes\\base.py\u001b[0m in \u001b[0;36m_validate_can_reindex\u001b[1;34m(self, indexer)\u001b[0m\n\u001b[0;32m   4119\u001b[0m         \u001b[1;31m# trying to reindex on an axis with duplicates\u001b[0m\u001b[1;33m\u001b[0m\u001b[1;33m\u001b[0m\u001b[0m\n\u001b[0;32m   4120\u001b[0m         \u001b[1;32mif\u001b[0m \u001b[1;32mnot\u001b[0m \u001b[0mself\u001b[0m\u001b[1;33m.\u001b[0m\u001b[0m_index_as_unique\u001b[0m \u001b[1;32mand\u001b[0m \u001b[0mlen\u001b[0m\u001b[1;33m(\u001b[0m\u001b[0mindexer\u001b[0m\u001b[1;33m)\u001b[0m\u001b[1;33m:\u001b[0m\u001b[1;33m\u001b[0m\u001b[1;33m\u001b[0m\u001b[0m\n\u001b[1;32m-> 4121\u001b[1;33m             \u001b[1;32mraise\u001b[0m \u001b[0mValueError\u001b[0m\u001b[1;33m(\u001b[0m\u001b[1;34m\"cannot reindex on an axis with duplicate labels\"\u001b[0m\u001b[1;33m)\u001b[0m\u001b[1;33m\u001b[0m\u001b[1;33m\u001b[0m\u001b[0m\n\u001b[0m\u001b[0;32m   4122\u001b[0m \u001b[1;33m\u001b[0m\u001b[0m\n\u001b[0;32m   4123\u001b[0m     def reindex(\n",
      "\u001b[1;31mValueError\u001b[0m: cannot reindex on an axis with duplicate labels"
     ]
    },
    {
     "data": {
      "image/png": "[encoded data removed]",
      "text/plain": [
       "<Figure size 640x480 with 1 Axes>"
      ]
     },
     "metadata": {},
     "output_type": "display_data"
    }
   ],
   "source": [
    "sns.histplot(data=datos, x=\"DiferenciaDias\")"
   ]
  },
  {
   "cell_type": "code",
   "execution_count": 49,
   "id": "959b8214",
   "metadata": {},
   "outputs": [
    {
     "data": {
      "text/html": [
       "<div>\n",
       "<style scoped>\n",
       "    .dataframe tbody tr th:only-of-type {\n",
       "        vertical-align: middle;\n",
       "    }\n",
       "\n",
       "    .dataframe tbody tr th {\n",
       "        vertical-align: top;\n",
       "    }\n",
       "\n",
       "    .dataframe thead th {\n",
       "        text-align: right;\n",
       "    }\n",
       "</style>\n",
       "<table border=\"1\" class=\"dataframe\">\n",
       "  <thead>\n",
       "    <tr style=\"text-align: right;\">\n",
       "      <th></th>\n",
       "      <th>EjercicioPedido</th>\n",
       "      <th>Orden</th>\n",
       "      <th>Estado</th>\n",
       "      <th>%Iva</th>\n",
       "      <th>DiferenciaDias</th>\n",
       "    </tr>\n",
       "  </thead>\n",
       "  <tbody>\n",
       "    <tr>\n",
       "      <th>count</th>\n",
       "      <td>1524904.00</td>\n",
       "      <td>1524904.00</td>\n",
       "      <td>1524904.00</td>\n",
       "      <td>1524904.00</td>\n",
       "      <td>1524904.00</td>\n",
       "    </tr>\n",
       "    <tr>\n",
       "      <th>mean</th>\n",
       "      <td>2020.71</td>\n",
       "      <td>39.59</td>\n",
       "      <td>2.00</td>\n",
       "      <td>10.25</td>\n",
       "      <td>0.02</td>\n",
       "    </tr>\n",
       "    <tr>\n",
       "      <th>std</th>\n",
       "      <td>1.09</td>\n",
       "      <td>528.20</td>\n",
       "      <td>0.05</td>\n",
       "      <td>4.43</td>\n",
       "      <td>1.79</td>\n",
       "    </tr>\n",
       "    <tr>\n",
       "      <th>min</th>\n",
       "      <td>2019.00</td>\n",
       "      <td>0.00</td>\n",
       "      <td>0.00</td>\n",
       "      <td>0.00</td>\n",
       "      <td>0.00</td>\n",
       "    </tr>\n",
       "    <tr>\n",
       "      <th>25%</th>\n",
       "      <td>2020.00</td>\n",
       "      <td>0.00</td>\n",
       "      <td>2.00</td>\n",
       "      <td>10.00</td>\n",
       "      <td>0.00</td>\n",
       "    </tr>\n",
       "    <tr>\n",
       "      <th>50%</th>\n",
       "      <td>2021.00</td>\n",
       "      <td>10.00</td>\n",
       "      <td>2.00</td>\n",
       "      <td>10.00</td>\n",
       "      <td>0.00</td>\n",
       "    </tr>\n",
       "    <tr>\n",
       "      <th>75%</th>\n",
       "      <td>2022.00</td>\n",
       "      <td>25.00</td>\n",
       "      <td>2.00</td>\n",
       "      <td>10.00</td>\n",
       "      <td>0.00</td>\n",
       "    </tr>\n",
       "    <tr>\n",
       "      <th>max</th>\n",
       "      <td>2022.00</td>\n",
       "      <td>32238.00</td>\n",
       "      <td>2.00</td>\n",
       "      <td>21.00</td>\n",
       "      <td>323.00</td>\n",
       "    </tr>\n",
       "  </tbody>\n",
       "</table>\n",
       "</div>"
      ],
      "text/plain": [
       "       EjercicioPedido       Orden      Estado        %Iva  DiferenciaDias\n",
       "count       1524904.00  1524904.00  1524904.00  1524904.00      1524904.00\n",
       "mean           2020.71       39.59        2.00       10.25            0.02\n",
       "std               1.09      528.20        0.05        4.43            1.79\n",
       "min            2019.00        0.00        0.00        0.00            0.00\n",
       "25%            2020.00        0.00        2.00       10.00            0.00\n",
       "50%            2021.00       10.00        2.00       10.00            0.00\n",
       "75%            2022.00       25.00        2.00       10.00            0.00\n",
       "max            2022.00    32238.00        2.00       21.00          323.00"
      ]
     },
     "execution_count": 49,
     "metadata": {},
     "output_type": "execute_result"
    }
   ],
   "source": [
    "datos.describe().round(2)"
   ]
  },
  {
   "cell_type": "code",
   "execution_count": 50,
   "id": "6d3acbff",
   "metadata": {},
   "outputs": [
    {
     "data": {
      "image/png": "[encoded data removed]",
      "text/plain": [
       "<Figure size 640x480 with 1 Axes>"
      ]
     },
     "metadata": {},
     "output_type": "display_data"
    }
   ],
   "source": [
    "sns.histplot(datos[\"Orden\"], bins=50)\n",
    "plt.xlim(0, 1000)\n",
    "plt.show()"
   ]
  },
  {
   "cell_type": "code",
   "execution_count": 51,
   "id": "c4e0a4d1",
   "metadata": {},
   "outputs": [
    {
     "data": {
      "image/png": "[encoded data removed]",
      "text/plain": [
       "<Figure size 640x480 with 1 Axes>"
      ]
     },
     "metadata": {},
     "output_type": "display_data"
    }
   ],
   "source": [
    "plt.boxplot(datos['DiferenciaDias'])\n",
    "plt.show()"
   ]
  },
  {
   "cell_type": "markdown",
   "id": "afc7bf7b",
   "metadata": {},
   "source": [
    "### SEGMENTACION CLIENTES "
   ]
  },
  {
   "cell_type": "markdown",
   "id": "b84584a4",
   "metadata": {},
   "source": [
    "** ¿Cúando fue la última vez que compraron? **"
   ]
  },
  {
   "cell_type": "code",
   "execution_count": 52,
   "id": "d896201c",
   "metadata": {
    "scrolled": true
   },
   "outputs": [
    {
     "data": {
      "text/html": [
       "<div>\n",
       "<style scoped>\n",
       "    .dataframe tbody tr th:only-of-type {\n",
       "        vertical-align: middle;\n",
       "    }\n",
       "\n",
       "    .dataframe tbody tr th {\n",
       "        vertical-align: top;\n",
       "    }\n",
       "\n",
       "    .dataframe thead th {\n",
       "        text-align: right;\n",
       "    }\n",
       "</style>\n",
       "<table border=\"1\" class=\"dataframe\">\n",
       "  <thead>\n",
       "    <tr style=\"text-align: right;\">\n",
       "      <th></th>\n",
       "      <th>EjercicioPedido</th>\n",
       "      <th>NumeroPedido</th>\n",
       "      <th>Orden</th>\n",
       "      <th>FechaRegistro</th>\n",
       "      <th>FechaPedido</th>\n",
       "      <th>CodigoArticulo</th>\n",
       "      <th>Partida</th>\n",
       "      <th>CodigoFamilia</th>\n",
       "      <th>CodigoSubfamilia</th>\n",
       "      <th>CodigodelCliente</th>\n",
       "      <th>...</th>\n",
       "      <th>%Descuento</th>\n",
       "      <th>ImporteCoste</th>\n",
       "      <th>ImporteBruto</th>\n",
       "      <th>ImporteNeto</th>\n",
       "      <th>BaseImponible</th>\n",
       "      <th>TotalIva</th>\n",
       "      <th>ImporteLiquido</th>\n",
       "      <th>TipoArticulo</th>\n",
       "      <th>(No column name)</th>\n",
       "      <th>DiferenciaDias</th>\n",
       "    </tr>\n",
       "  </thead>\n",
       "  <tbody>\n",
       "    <tr>\n",
       "      <th>0</th>\n",
       "      <td>2019</td>\n",
       "      <td>PBM1</td>\n",
       "      <td>5</td>\n",
       "      <td>2019-01-02 09:14:45</td>\n",
       "      <td>2019-01-02</td>\n",
       "      <td>AR020221</td>\n",
       "      <td>P0P529A</td>\n",
       "      <td>F002</td>\n",
       "      <td>FS002106</td>\n",
       "      <td>C020221</td>\n",
       "      <td>...</td>\n",
       "      <td>9</td>\n",
       "      <td>204,88</td>\n",
       "      <td>355,82</td>\n",
       "      <td>259,04</td>\n",
       "      <td>259,04</td>\n",
       "      <td>29,53056</td>\n",
       "      <td>288,57056</td>\n",
       "      <td>TPM</td>\n",
       "      <td>U09C11</td>\n",
       "      <td>0.0</td>\n",
       "    </tr>\n",
       "    <tr>\n",
       "      <th>1</th>\n",
       "      <td>2019</td>\n",
       "      <td>PBM2</td>\n",
       "      <td>5</td>\n",
       "      <td>2019-01-02 11:45:17</td>\n",
       "      <td>2019-01-02</td>\n",
       "      <td>AR320045</td>\n",
       "      <td>PPRS1061AA</td>\n",
       "      <td>F013</td>\n",
       "      <td>FS013117</td>\n",
       "      <td>C320045</td>\n",
       "      <td>...</td>\n",
       "      <td>5</td>\n",
       "      <td>45,48</td>\n",
       "      <td>59,8</td>\n",
       "      <td>56,81</td>\n",
       "      <td>56,81</td>\n",
       "      <td>5,681</td>\n",
       "      <td>62,491</td>\n",
       "      <td>TPM</td>\n",
       "      <td>U11D08</td>\n",
       "      <td>0.0</td>\n",
       "    </tr>\n",
       "    <tr>\n",
       "      <th>2</th>\n",
       "      <td>2019</td>\n",
       "      <td>PBM2</td>\n",
       "      <td>10</td>\n",
       "      <td>2019-01-02 11:45:41</td>\n",
       "      <td>2019-01-02</td>\n",
       "      <td>AR550036</td>\n",
       "      <td>P54282</td>\n",
       "      <td>F055</td>\n",
       "      <td>FS055109</td>\n",
       "      <td>C550036</td>\n",
       "      <td>...</td>\n",
       "      <td>9</td>\n",
       "      <td>92,8</td>\n",
       "      <td>116</td>\n",
       "      <td>105,56</td>\n",
       "      <td>105,56</td>\n",
       "      <td>10,556</td>\n",
       "      <td>116,116</td>\n",
       "      <td>TPM</td>\n",
       "      <td>U09F01</td>\n",
       "      <td>0.0</td>\n",
       "    </tr>\n",
       "    <tr>\n",
       "      <th>3</th>\n",
       "      <td>2019</td>\n",
       "      <td>PBM2</td>\n",
       "      <td>15</td>\n",
       "      <td>2019-01-02 11:46:15</td>\n",
       "      <td>2019-01-02</td>\n",
       "      <td>AR540066</td>\n",
       "      <td>PM-08</td>\n",
       "      <td>F054</td>\n",
       "      <td>FS054104</td>\n",
       "      <td>C540066</td>\n",
       "      <td>...</td>\n",
       "      <td>9</td>\n",
       "      <td>15,1</td>\n",
       "      <td>20,72</td>\n",
       "      <td>18,86</td>\n",
       "      <td>18,86</td>\n",
       "      <td>1,886</td>\n",
       "      <td>20,746</td>\n",
       "      <td>TPM</td>\n",
       "      <td>U01B03</td>\n",
       "      <td>0.0</td>\n",
       "    </tr>\n",
       "    <tr>\n",
       "      <th>4</th>\n",
       "      <td>2019</td>\n",
       "      <td>PBM3</td>\n",
       "      <td>5</td>\n",
       "      <td>2019-01-02 12:09:31</td>\n",
       "      <td>2019-01-02</td>\n",
       "      <td>AR033023</td>\n",
       "      <td>P0</td>\n",
       "      <td>F003</td>\n",
       "      <td>FS003129</td>\n",
       "      <td>C033023</td>\n",
       "      <td>...</td>\n",
       "      <td>14</td>\n",
       "      <td>27</td>\n",
       "      <td>32,9</td>\n",
       "      <td>28,29</td>\n",
       "      <td>28,29</td>\n",
       "      <td>5,9409</td>\n",
       "      <td>34,2309</td>\n",
       "      <td>TPM</td>\n",
       "      <td>U02A03</td>\n",
       "      <td>0.0</td>\n",
       "    </tr>\n",
       "    <tr>\n",
       "      <th>5</th>\n",
       "      <td>2019</td>\n",
       "      <td>PBM3</td>\n",
       "      <td>10</td>\n",
       "      <td>2019-01-02 12:10:03</td>\n",
       "      <td>2019-01-02</td>\n",
       "      <td>AR033021</td>\n",
       "      <td>P0</td>\n",
       "      <td>F003</td>\n",
       "      <td>FS003129</td>\n",
       "      <td>C033021</td>\n",
       "      <td>...</td>\n",
       "      <td>14</td>\n",
       "      <td>21,44</td>\n",
       "      <td>26,8</td>\n",
       "      <td>23,05</td>\n",
       "      <td>23,05</td>\n",
       "      <td>4,8405</td>\n",
       "      <td>27,8905</td>\n",
       "      <td>TPM</td>\n",
       "      <td>U04D01</td>\n",
       "      <td>0.0</td>\n",
       "    </tr>\n",
       "    <tr>\n",
       "      <th>6</th>\n",
       "      <td>2019</td>\n",
       "      <td>PBM3</td>\n",
       "      <td>15</td>\n",
       "      <td>2019-01-02 12:10:21</td>\n",
       "      <td>2019-01-02</td>\n",
       "      <td>AR033043</td>\n",
       "      <td>P0</td>\n",
       "      <td>F003</td>\n",
       "      <td>FS003129</td>\n",
       "      <td>C033043</td>\n",
       "      <td>...</td>\n",
       "      <td>14</td>\n",
       "      <td>57,5</td>\n",
       "      <td>71,85</td>\n",
       "      <td>61,79</td>\n",
       "      <td>61,79</td>\n",
       "      <td>6,179</td>\n",
       "      <td>67,969</td>\n",
       "      <td>TPM</td>\n",
       "      <td>U02B01</td>\n",
       "      <td>0.0</td>\n",
       "    </tr>\n",
       "    <tr>\n",
       "      <th>7</th>\n",
       "      <td>2019</td>\n",
       "      <td>PBM3</td>\n",
       "      <td>20</td>\n",
       "      <td>2019-01-02 12:11:02</td>\n",
       "      <td>2019-01-02</td>\n",
       "      <td>AR750606</td>\n",
       "      <td>P0</td>\n",
       "      <td>F000</td>\n",
       "      <td>FS</td>\n",
       "      <td>C750606</td>\n",
       "      <td>...</td>\n",
       "      <td>5</td>\n",
       "      <td>19,5</td>\n",
       "      <td>24,38</td>\n",
       "      <td>23,16</td>\n",
       "      <td>23,16</td>\n",
       "      <td>4,8636</td>\n",
       "      <td>28,0236</td>\n",
       "      <td>TPM</td>\n",
       "      <td>U21A01</td>\n",
       "      <td>0.0</td>\n",
       "    </tr>\n",
       "    <tr>\n",
       "      <th>8</th>\n",
       "      <td>2019</td>\n",
       "      <td>PBM3</td>\n",
       "      <td>25</td>\n",
       "      <td>2019-01-02 12:11:28</td>\n",
       "      <td>2019-01-02</td>\n",
       "      <td>AR750606</td>\n",
       "      <td>PL17F0177</td>\n",
       "      <td>F000</td>\n",
       "      <td>FS</td>\n",
       "      <td>C750606</td>\n",
       "      <td>...</td>\n",
       "      <td>5</td>\n",
       "      <td>3,9</td>\n",
       "      <td>4,88</td>\n",
       "      <td>4,64</td>\n",
       "      <td>4,64</td>\n",
       "      <td>0,9744</td>\n",
       "      <td>5,6144</td>\n",
       "      <td>TPM</td>\n",
       "      <td>U21A01</td>\n",
       "      <td>0.0</td>\n",
       "    </tr>\n",
       "    <tr>\n",
       "      <th>9</th>\n",
       "      <td>2019</td>\n",
       "      <td>PBM3</td>\n",
       "      <td>30</td>\n",
       "      <td>2019-01-03 07:41:12</td>\n",
       "      <td>2019-01-02</td>\n",
       "      <td>AR550058</td>\n",
       "      <td>P54314</td>\n",
       "      <td>F055</td>\n",
       "      <td>FS055108</td>\n",
       "      <td>C550058</td>\n",
       "      <td>...</td>\n",
       "      <td>9</td>\n",
       "      <td>80</td>\n",
       "      <td>100</td>\n",
       "      <td>68,25</td>\n",
       "      <td>68,25</td>\n",
       "      <td>6,825</td>\n",
       "      <td>75,075</td>\n",
       "      <td>TPM</td>\n",
       "      <td>U11E04</td>\n",
       "      <td>0.0</td>\n",
       "    </tr>\n",
       "  </tbody>\n",
       "</table>\n",
       "<p>10 rows × 28 columns</p>\n",
       "</div>"
      ],
      "text/plain": [
       "   EjercicioPedido NumeroPedido  Orden        FechaRegistro FechaPedido  \\\n",
       "0             2019         PBM1      5  2019-01-02 09:14:45  2019-01-02   \n",
       "1             2019         PBM2      5  2019-01-02 11:45:17  2019-01-02   \n",
       "2             2019         PBM2     10  2019-01-02 11:45:41  2019-01-02   \n",
       "3             2019         PBM2     15  2019-01-02 11:46:15  2019-01-02   \n",
       "4             2019         PBM3      5  2019-01-02 12:09:31  2019-01-02   \n",
       "5             2019         PBM3     10  2019-01-02 12:10:03  2019-01-02   \n",
       "6             2019         PBM3     15  2019-01-02 12:10:21  2019-01-02   \n",
       "7             2019         PBM3     20  2019-01-02 12:11:02  2019-01-02   \n",
       "8             2019         PBM3     25  2019-01-02 12:11:28  2019-01-02   \n",
       "9             2019         PBM3     30  2019-01-03 07:41:12  2019-01-02   \n",
       "\n",
       "  CodigoArticulo     Partida CodigoFamilia CodigoSubfamilia CodigodelCliente  \\\n",
       "0       AR020221     P0P529A          F002         FS002106          C020221   \n",
       "1       AR320045  PPRS1061AA          F013         FS013117          C320045   \n",
       "2       AR550036      P54282          F055         FS055109          C550036   \n",
       "3       AR540066       PM-08          F054         FS054104          C540066   \n",
       "4       AR033023          P0          F003         FS003129          C033023   \n",
       "5       AR033021          P0          F003         FS003129          C033021   \n",
       "6       AR033043          P0          F003         FS003129          C033043   \n",
       "7       AR750606          P0          F000               FS          C750606   \n",
       "8       AR750606   PL17F0177          F000               FS          C750606   \n",
       "9       AR550058      P54314          F055         FS055108          C550058   \n",
       "\n",
       "   ... %Descuento ImporteCoste ImporteBruto ImporteNeto  BaseImponible  \\\n",
       "0  ...          9       204,88       355,82      259,04         259,04   \n",
       "1  ...          5        45,48         59,8       56,81          56,81   \n",
       "2  ...          9         92,8          116      105,56         105,56   \n",
       "3  ...          9         15,1        20,72       18,86          18,86   \n",
       "4  ...         14           27         32,9       28,29          28,29   \n",
       "5  ...         14        21,44         26,8       23,05          23,05   \n",
       "6  ...         14         57,5        71,85       61,79          61,79   \n",
       "7  ...          5         19,5        24,38       23,16          23,16   \n",
       "8  ...          5          3,9         4,88        4,64           4,64   \n",
       "9  ...          9           80          100       68,25          68,25   \n",
       "\n",
       "   TotalIva ImporteLiquido TipoArticulo (No column name) DiferenciaDias  \n",
       "0  29,53056      288,57056          TPM           U09C11            0.0  \n",
       "1     5,681         62,491          TPM           U11D08            0.0  \n",
       "2    10,556        116,116          TPM           U09F01            0.0  \n",
       "3     1,886         20,746          TPM           U01B03            0.0  \n",
       "4    5,9409        34,2309          TPM           U02A03            0.0  \n",
       "5    4,8405        27,8905          TPM           U04D01            0.0  \n",
       "6     6,179         67,969          TPM           U02B01            0.0  \n",
       "7    4,8636        28,0236          TPM           U21A01            0.0  \n",
       "8    0,9744         5,6144          TPM           U21A01            0.0  \n",
       "9     6,825         75,075          TPM           U11E04            0.0  \n",
       "\n",
       "[10 rows x 28 columns]"
      ]
     },
     "execution_count": 52,
     "metadata": {},
     "output_type": "execute_result"
    }
   ],
   "source": [
    "datos.head(10)"
   ]
  },
  {
   "cell_type": "code",
   "execution_count": 67,
   "id": "088341dc",
   "metadata": {
    "scrolled": true
   },
   "outputs": [
    {
     "data": {
      "text/plain": [
       "EjercicioPedido              int64\n",
       "NumeroPedido                object\n",
       "Orden                        int64\n",
       "FechaRegistro               object\n",
       "FechaPedido         datetime64[ns]\n",
       "CodigoArticulo              object\n",
       "Partida                     object\n",
       "CodigoFamilia               object\n",
       "CodigoSubfamilia            object\n",
       "CodigodelCliente            object\n",
       "CodigoProveedor             object\n",
       "FechaCaduca                 object\n",
       "FechaEntrega        datetime64[ns]\n",
       "Ubicacion                   object\n",
       "Estado                       int64\n",
       "%Iva                         int64\n",
       "Precio                      object\n",
       "PrecioCoste                 object\n",
       "%Descuento                  object\n",
       "ImporteCoste                object\n",
       "ImporteBruto                object\n",
       "ImporteNeto                 object\n",
       "BaseImponible               object\n",
       "TotalIva                    object\n",
       "ImporteLiquido              object\n",
       "TipoArticulo                object\n",
       "(No column name)            object\n",
       "DiferenciaDias             float64\n",
       "dtype: object"
      ]
     },
     "execution_count": 67,
     "metadata": {},
     "output_type": "execute_result"
    }
   ],
   "source": [
    "datos.dtypes"
   ]
  },
  {
   "cell_type": "code",
   "execution_count": 70,
   "id": "3f5a3f50",
   "metadata": {},
   "outputs": [],
   "source": [
    "datos['ImporteNeto'] = datos.ImporteNeto.str.replace(\",\",\".\")"
   ]
  },
  {
   "cell_type": "code",
   "execution_count": 71,
   "id": "35943f22",
   "metadata": {},
   "outputs": [],
   "source": [
    "datos.ImporteNeto = datos.ImporteNeto.astype(float)"
   ]
  },
  {
   "cell_type": "code",
   "execution_count": 53,
   "id": "a79beb61",
   "metadata": {},
   "outputs": [],
   "source": [
    "import warnings\n",
    "warnings.filterwarnings('ignore')"
   ]
  },
  {
   "cell_type": "markdown",
   "id": "8900b21c",
   "metadata": {},
   "source": [
    "** Fuente de datos **\n",
    "https://medium.com/@juanbeltrn/c%C3%B3mo-segmentar-autom%C3%A1ticamente-clientes-utilizando-datos-de-compra-y-algunas-l%C3%ADneas-de-python-669859bb244b"
   ]
  },
  {
   "cell_type": "code",
   "execution_count": null,
   "id": "a417c8cf",
   "metadata": {},
   "outputs": [],
   "source": [
    "<img src=\"https://miro.medium.com/v2/resize:fit:640/format:webp/0*7dbvSRCFOQ49kwqB.png\" />"
   ]
  },
  {
   "cell_type": "code",
   "execution_count": 57,
   "id": "6c4ff0ce",
   "metadata": {},
   "outputs": [],
   "source": [
    "datos_cliente = pd.DataFrame()"
   ]
  },
  {
   "cell_type": "code",
   "execution_count": 58,
   "id": "e0ef29ab",
   "metadata": {},
   "outputs": [],
   "source": [
    "datos_cliente['ultima_compra'] = datos.groupby('CodigodelCliente').agg({'FechaPedido': lambda y:(datos['FechaPedido'].max().date() - y.max().date()).days})"
   ]
  },
  {
   "cell_type": "code",
   "execution_count": 59,
   "id": "50c26b91",
   "metadata": {},
   "outputs": [],
   "source": [
    "datos_cliente['frecuencia'] = datos.groupby('CodigodelCliente').agg({'Orden': lambda y: len(y.unique())})"
   ]
  },
  {
   "cell_type": "code",
   "execution_count": 72,
   "id": "baa259f1",
   "metadata": {},
   "outputs": [],
   "source": [
    "datos_cliente['ventas'] = datos.groupby('CodigodelCliente').agg({'ImporteNeto': lambda y:y.sum()})"
   ]
  },
  {
   "cell_type": "code",
   "execution_count": 73,
   "id": "23e30d9e",
   "metadata": {},
   "outputs": [
    {
     "data": {
      "text/html": [
       "<div>\n",
       "<style scoped>\n",
       "    .dataframe tbody tr th:only-of-type {\n",
       "        vertical-align: middle;\n",
       "    }\n",
       "\n",
       "    .dataframe tbody tr th {\n",
       "        vertical-align: top;\n",
       "    }\n",
       "\n",
       "    .dataframe thead th {\n",
       "        text-align: right;\n",
       "    }\n",
       "</style>\n",
       "<table border=\"1\" class=\"dataframe\">\n",
       "  <thead>\n",
       "    <tr style=\"text-align: right;\">\n",
       "      <th></th>\n",
       "      <th>ultima_compra</th>\n",
       "      <th>frecuencia</th>\n",
       "      <th>ventas</th>\n",
       "    </tr>\n",
       "    <tr>\n",
       "      <th>CodigodelCliente</th>\n",
       "      <th></th>\n",
       "      <th></th>\n",
       "      <th></th>\n",
       "    </tr>\n",
       "  </thead>\n",
       "  <tbody>\n",
       "    <tr>\n",
       "      <th>C</th>\n",
       "      <td>2</td>\n",
       "      <td>356</td>\n",
       "      <td>29003486.34</td>\n",
       "    </tr>\n",
       "    <tr>\n",
       "      <th>C010002</th>\n",
       "      <td>88</td>\n",
       "      <td>5</td>\n",
       "      <td>541.27</td>\n",
       "    </tr>\n",
       "    <tr>\n",
       "      <th>C010004</th>\n",
       "      <td>24</td>\n",
       "      <td>14</td>\n",
       "      <td>8151.76</td>\n",
       "    </tr>\n",
       "    <tr>\n",
       "      <th>C010005</th>\n",
       "      <td>6</td>\n",
       "      <td>26</td>\n",
       "      <td>18328.33</td>\n",
       "    </tr>\n",
       "    <tr>\n",
       "      <th>C010006</th>\n",
       "      <td>3</td>\n",
       "      <td>12</td>\n",
       "      <td>19729.72</td>\n",
       "    </tr>\n",
       "    <tr>\n",
       "      <th>C010007</th>\n",
       "      <td>10</td>\n",
       "      <td>10</td>\n",
       "      <td>67065.59</td>\n",
       "    </tr>\n",
       "    <tr>\n",
       "      <th>C010012</th>\n",
       "      <td>5</td>\n",
       "      <td>24</td>\n",
       "      <td>84972.33</td>\n",
       "    </tr>\n",
       "    <tr>\n",
       "      <th>C010027</th>\n",
       "      <td>46</td>\n",
       "      <td>12</td>\n",
       "      <td>48884.45</td>\n",
       "    </tr>\n",
       "    <tr>\n",
       "      <th>C010028</th>\n",
       "      <td>861</td>\n",
       "      <td>9</td>\n",
       "      <td>1786.44</td>\n",
       "    </tr>\n",
       "    <tr>\n",
       "      <th>C010032</th>\n",
       "      <td>49</td>\n",
       "      <td>11</td>\n",
       "      <td>18508.08</td>\n",
       "    </tr>\n",
       "  </tbody>\n",
       "</table>\n",
       "</div>"
      ],
      "text/plain": [
       "                  ultima_compra  frecuencia       ventas\n",
       "CodigodelCliente                                        \n",
       "C                             2         356  29003486.34\n",
       "C010002                      88           5       541.27\n",
       "C010004                      24          14      8151.76\n",
       "C010005                       6          26     18328.33\n",
       "C010006                       3          12     19729.72\n",
       "C010007                      10          10     67065.59\n",
       "C010012                       5          24     84972.33\n",
       "C010027                      46          12     48884.45\n",
       "C010028                     861           9      1786.44\n",
       "C010032                      49          11     18508.08"
      ]
     },
     "execution_count": 73,
     "metadata": {},
     "output_type": "execute_result"
    }
   ],
   "source": [
    "datos_cliente.head(10)"
   ]
  },
  {
   "cell_type": "code",
   "execution_count": 74,
   "id": "ad2314fc",
   "metadata": {},
   "outputs": [
    {
     "data": {
      "text/plain": [
       "Index(['EjercicioPedido', 'NumeroPedido', 'Orden', 'FechaRegistro',\n",
       "       'FechaPedido', 'CodigoArticulo', 'Partida', 'CodigoFamilia',\n",
       "       'CodigoSubfamilia', 'CodigodelCliente', 'CodigoProveedor',\n",
       "       'FechaCaduca', 'FechaEntrega', 'Ubicacion', 'Estado', '%Iva', 'Precio',\n",
       "       'PrecioCoste', '%Descuento', 'ImporteCoste', 'ImporteBruto',\n",
       "       'ImporteNeto', 'BaseImponible', 'TotalIva', 'ImporteLiquido',\n",
       "       'TipoArticulo', '(No column name)', 'DiferenciaDias'],\n",
       "      dtype='object')"
      ]
     },
     "execution_count": 74,
     "metadata": {},
     "output_type": "execute_result"
    }
   ],
   "source": [
    "datos.columns"
   ]
  },
  {
   "cell_type": "markdown",
   "id": "524981f4",
   "metadata": {},
   "source": [
    "<img src=\"https://miro.medium.com/v2/resize:fit:720/format:webp/0*DfzbC3gnNTH9XdhN.png\" />"
   ]
  },
  {
   "cell_type": "markdown",
   "id": "5cc3aa60",
   "metadata": {},
   "source": [
    "**Para segmentar a los clientes utilizaremos el quantil del 80%**"
   ]
  },
  {
   "cell_type": "code",
   "execution_count": 111,
   "id": "da096c53",
   "metadata": {},
   "outputs": [
    {
     "name": "stdout",
     "output_type": "stream",
     "text": [
      "     ultima_compra  frecuencia   ventas    R    F    M\n",
      "0.8          603.2        26.0  4711.72  2.0  2.0  2.0\n"
     ]
    }
   ],
   "source": [
    "cuantiles = datos_cliente.quantile(q=[0.8])\n",
    "print(cuantiles)"
   ]
  },
  {
   "cell_type": "code",
   "execution_count": 112,
   "id": "559767a0",
   "metadata": {},
   "outputs": [],
   "source": [
    "datos_cliente[\"R\"] = np.where(datos_cliente['ultima_compra']<=int(cuantiles.ultima_compra.values), 2, 1)"
   ]
  },
  {
   "cell_type": "code",
   "execution_count": 113,
   "id": "dae9afe3",
   "metadata": {},
   "outputs": [],
   "source": [
    "datos_cliente[\"F\"] = np.where(datos_cliente['frecuencia']<=int(cuantiles.frecuencia.values), 2, 1)"
   ]
  },
  {
   "cell_type": "code",
   "execution_count": 114,
   "id": "9e665568",
   "metadata": {},
   "outputs": [],
   "source": [
    "datos_cliente[\"M\"] = np.where(datos_cliente['ventas']<=int(cuantiles.ventas.values), 2, 1)"
   ]
  },
  {
   "cell_type": "code",
   "execution_count": 115,
   "id": "5faa89b8",
   "metadata": {},
   "outputs": [
    {
     "data": {
      "text/html": [
       "<div>\n",
       "<style scoped>\n",
       "    .dataframe tbody tr th:only-of-type {\n",
       "        vertical-align: middle;\n",
       "    }\n",
       "\n",
       "    .dataframe tbody tr th {\n",
       "        vertical-align: top;\n",
       "    }\n",
       "\n",
       "    .dataframe thead th {\n",
       "        text-align: right;\n",
       "    }\n",
       "</style>\n",
       "<table border=\"1\" class=\"dataframe\">\n",
       "  <thead>\n",
       "    <tr style=\"text-align: right;\">\n",
       "      <th></th>\n",
       "      <th>CodigodelCliente</th>\n",
       "      <th>ultima_compra</th>\n",
       "      <th>frecuencia</th>\n",
       "      <th>ventas</th>\n",
       "      <th>R</th>\n",
       "      <th>F</th>\n",
       "      <th>M</th>\n",
       "      <th>RMScore</th>\n",
       "    </tr>\n",
       "  </thead>\n",
       "  <tbody>\n",
       "    <tr>\n",
       "      <th>0</th>\n",
       "      <td>C</td>\n",
       "      <td>2</td>\n",
       "      <td>356</td>\n",
       "      <td>29003486.34</td>\n",
       "      <td>2</td>\n",
       "      <td>1</td>\n",
       "      <td>1</td>\n",
       "      <td>12</td>\n",
       "    </tr>\n",
       "    <tr>\n",
       "      <th>1</th>\n",
       "      <td>C010002</td>\n",
       "      <td>88</td>\n",
       "      <td>5</td>\n",
       "      <td>541.27</td>\n",
       "      <td>2</td>\n",
       "      <td>2</td>\n",
       "      <td>2</td>\n",
       "      <td>22</td>\n",
       "    </tr>\n",
       "    <tr>\n",
       "      <th>2</th>\n",
       "      <td>C010004</td>\n",
       "      <td>24</td>\n",
       "      <td>14</td>\n",
       "      <td>8151.76</td>\n",
       "      <td>2</td>\n",
       "      <td>2</td>\n",
       "      <td>1</td>\n",
       "      <td>12</td>\n",
       "    </tr>\n",
       "    <tr>\n",
       "      <th>3</th>\n",
       "      <td>C010005</td>\n",
       "      <td>6</td>\n",
       "      <td>26</td>\n",
       "      <td>18328.33</td>\n",
       "      <td>2</td>\n",
       "      <td>2</td>\n",
       "      <td>1</td>\n",
       "      <td>12</td>\n",
       "    </tr>\n",
       "    <tr>\n",
       "      <th>4</th>\n",
       "      <td>C010006</td>\n",
       "      <td>3</td>\n",
       "      <td>12</td>\n",
       "      <td>19729.72</td>\n",
       "      <td>2</td>\n",
       "      <td>2</td>\n",
       "      <td>1</td>\n",
       "      <td>12</td>\n",
       "    </tr>\n",
       "  </tbody>\n",
       "</table>\n",
       "</div>"
      ],
      "text/plain": [
       "  CodigodelCliente  ultima_compra  frecuencia       ventas  R  F  M RMScore\n",
       "0                C              2         356  29003486.34  2  1  1      12\n",
       "1          C010002             88           5       541.27  2  2  2      22\n",
       "2          C010004             24          14      8151.76  2  2  1      12\n",
       "3          C010005              6          26     18328.33  2  2  1      12\n",
       "4          C010006              3          12     19729.72  2  2  1      12"
      ]
     },
     "execution_count": 115,
     "metadata": {},
     "output_type": "execute_result"
    }
   ],
   "source": [
    "datos_cliente.head()"
   ]
  },
  {
   "cell_type": "markdown",
   "id": "4e91eed0",
   "metadata": {},
   "source": [
    "**Calculamos la puntuacion RFM y clasificamos los clientes**"
   ]
  },
  {
   "cell_type": "code",
   "execution_count": 116,
   "id": "d77b51eb",
   "metadata": {},
   "outputs": [],
   "source": [
    "datos_cliente['RMScore'] = datos_cliente.M.map(str)+datos_cliente.R.map(str)"
   ]
  },
  {
   "cell_type": "code",
   "execution_count": 117,
   "id": "b649888e",
   "metadata": {},
   "outputs": [
    {
     "data": {
      "text/html": [
       "<div>\n",
       "<style scoped>\n",
       "    .dataframe tbody tr th:only-of-type {\n",
       "        vertical-align: middle;\n",
       "    }\n",
       "\n",
       "    .dataframe tbody tr th {\n",
       "        vertical-align: top;\n",
       "    }\n",
       "\n",
       "    .dataframe thead th {\n",
       "        text-align: right;\n",
       "    }\n",
       "</style>\n",
       "<table border=\"1\" class=\"dataframe\">\n",
       "  <thead>\n",
       "    <tr style=\"text-align: right;\">\n",
       "      <th></th>\n",
       "      <th>CodigodelCliente</th>\n",
       "      <th>ultima_compra</th>\n",
       "      <th>frecuencia</th>\n",
       "      <th>ventas</th>\n",
       "      <th>R</th>\n",
       "      <th>F</th>\n",
       "      <th>M</th>\n",
       "      <th>RMScore</th>\n",
       "    </tr>\n",
       "  </thead>\n",
       "  <tbody>\n",
       "    <tr>\n",
       "      <th>0</th>\n",
       "      <td>C</td>\n",
       "      <td>2</td>\n",
       "      <td>356</td>\n",
       "      <td>29003486.34</td>\n",
       "      <td>2</td>\n",
       "      <td>1</td>\n",
       "      <td>1</td>\n",
       "      <td>12</td>\n",
       "    </tr>\n",
       "    <tr>\n",
       "      <th>1</th>\n",
       "      <td>C010002</td>\n",
       "      <td>88</td>\n",
       "      <td>5</td>\n",
       "      <td>541.27</td>\n",
       "      <td>2</td>\n",
       "      <td>2</td>\n",
       "      <td>2</td>\n",
       "      <td>22</td>\n",
       "    </tr>\n",
       "    <tr>\n",
       "      <th>2</th>\n",
       "      <td>C010004</td>\n",
       "      <td>24</td>\n",
       "      <td>14</td>\n",
       "      <td>8151.76</td>\n",
       "      <td>2</td>\n",
       "      <td>2</td>\n",
       "      <td>1</td>\n",
       "      <td>12</td>\n",
       "    </tr>\n",
       "  </tbody>\n",
       "</table>\n",
       "</div>"
      ],
      "text/plain": [
       "  CodigodelCliente  ultima_compra  frecuencia       ventas  R  F  M RMScore\n",
       "0                C              2         356  29003486.34  2  1  1      12\n",
       "1          C010002             88           5       541.27  2  2  2      22\n",
       "2          C010004             24          14      8151.76  2  2  1      12"
      ]
     },
     "execution_count": 117,
     "metadata": {},
     "output_type": "execute_result"
    }
   ],
   "source": [
    "datos_cliente.head(3)"
   ]
  },
  {
   "cell_type": "code",
   "execution_count": 118,
   "id": "42e96f85",
   "metadata": {
    "scrolled": true
   },
   "outputs": [],
   "source": [
    "datos_cliente = datos_cliente.reset_index()"
   ]
  },
  {
   "cell_type": "code",
   "execution_count": 119,
   "id": "04c21ca6",
   "metadata": {},
   "outputs": [
    {
     "data": {
      "text/plain": [
       "Index(['index', 'CodigodelCliente', 'ultima_compra', 'frecuencia', 'ventas',\n",
       "       'R', 'F', 'M', 'RMScore'],\n",
       "      dtype='object')"
      ]
     },
     "execution_count": 119,
     "metadata": {},
     "output_type": "execute_result"
    }
   ],
   "source": [
    "datos_cliente.columns"
   ]
  },
  {
   "cell_type": "code",
   "execution_count": 120,
   "id": "c93caee6",
   "metadata": {},
   "outputs": [],
   "source": [
    "datos_RFM_SUM = datos_cliente.groupby('RMScore').agg({'CodigodelCliente': lambda y: len(y.unique()),\n",
    "                                                     'frecuencia': lambda y: y.mean(),\n",
    "                                                     'ultima_compra': lambda y: y.mean(),\n",
    "                                                     'R': lambda y: y.mean(),\n",
    "                                                     'M' : lambda y: y.mean(),\n",
    "                                                     'ventas': lambda y: y.mean()})"
   ]
  },
  {
   "cell_type": "code",
   "execution_count": 121,
   "id": "01ff793b",
   "metadata": {},
   "outputs": [],
   "source": [
    "datos_RFM_SUM = datos_RFM_SUM.sort_values('RMScore', ascending=False)"
   ]
  },
  {
   "cell_type": "code",
   "execution_count": 122,
   "id": "e6e0c3b6",
   "metadata": {},
   "outputs": [
    {
     "data": {
      "text/html": [
       "<div>\n",
       "<style scoped>\n",
       "    .dataframe tbody tr th:only-of-type {\n",
       "        vertical-align: middle;\n",
       "    }\n",
       "\n",
       "    .dataframe tbody tr th {\n",
       "        vertical-align: top;\n",
       "    }\n",
       "\n",
       "    .dataframe thead th {\n",
       "        text-align: right;\n",
       "    }\n",
       "</style>\n",
       "<table border=\"1\" class=\"dataframe\">\n",
       "  <thead>\n",
       "    <tr style=\"text-align: right;\">\n",
       "      <th></th>\n",
       "      <th>CodigodelCliente</th>\n",
       "      <th>frecuencia</th>\n",
       "      <th>ultima_compra</th>\n",
       "      <th>R</th>\n",
       "      <th>M</th>\n",
       "      <th>ventas</th>\n",
       "    </tr>\n",
       "    <tr>\n",
       "      <th>RMScore</th>\n",
       "      <th></th>\n",
       "      <th></th>\n",
       "      <th></th>\n",
       "      <th></th>\n",
       "      <th></th>\n",
       "      <th></th>\n",
       "    </tr>\n",
       "  </thead>\n",
       "  <tbody>\n",
       "    <tr>\n",
       "      <th>22</th>\n",
       "      <td>3765</td>\n",
       "      <td>12.477822</td>\n",
       "      <td>119.315803</td>\n",
       "      <td>2.0</td>\n",
       "      <td>2.0</td>\n",
       "      <td>926.603339</td>\n",
       "    </tr>\n",
       "    <tr>\n",
       "      <th>21</th>\n",
       "      <td>1180</td>\n",
       "      <td>5.184746</td>\n",
       "      <td>987.634746</td>\n",
       "      <td>1.0</td>\n",
       "      <td>2.0</td>\n",
       "      <td>411.450610</td>\n",
       "    </tr>\n",
       "    <tr>\n",
       "      <th>12</th>\n",
       "      <td>1181</td>\n",
       "      <td>32.351397</td>\n",
       "      <td>29.455546</td>\n",
       "      <td>2.0</td>\n",
       "      <td>1.0</td>\n",
       "      <td>75788.277375</td>\n",
       "    </tr>\n",
       "    <tr>\n",
       "      <th>11</th>\n",
       "      <td>57</td>\n",
       "      <td>23.210526</td>\n",
       "      <td>912.263158</td>\n",
       "      <td>1.0</td>\n",
       "      <td>1.0</td>\n",
       "      <td>21216.022456</td>\n",
       "    </tr>\n",
       "  </tbody>\n",
       "</table>\n",
       "</div>"
      ],
      "text/plain": [
       "         CodigodelCliente  frecuencia  ultima_compra    R    M        ventas\n",
       "RMScore                                                                     \n",
       "22                   3765   12.477822     119.315803  2.0  2.0    926.603339\n",
       "21                   1180    5.184746     987.634746  1.0  2.0    411.450610\n",
       "12                   1181   32.351397      29.455546  2.0  1.0  75788.277375\n",
       "11                     57   23.210526     912.263158  1.0  1.0  21216.022456"
      ]
     },
     "execution_count": 122,
     "metadata": {},
     "output_type": "execute_result"
    }
   ],
   "source": [
    "datos_RFM_SUM.head()"
   ]
  },
  {
   "cell_type": "code",
   "execution_count": 123,
   "id": "747514da",
   "metadata": {},
   "outputs": [],
   "source": [
    "datos_RFM_Ventas = datos_RFM_SUM.pivot(index='M', columns='R', values='ventas')"
   ]
  },
  {
   "cell_type": "code",
   "execution_count": 124,
   "id": "af013efb",
   "metadata": {},
   "outputs": [],
   "source": [
    "datos_RFM_Ventas= datos_RFM_Ventas.reset_index().sort_values(['M'], ascending = False).set_index(['M'])"
   ]
  },
  {
   "cell_type": "code",
   "execution_count": 125,
   "id": "78e6d48b",
   "metadata": {},
   "outputs": [
    {
     "data": {
      "text/html": [
       "<div>\n",
       "<style scoped>\n",
       "    .dataframe tbody tr th:only-of-type {\n",
       "        vertical-align: middle;\n",
       "    }\n",
       "\n",
       "    .dataframe tbody tr th {\n",
       "        vertical-align: top;\n",
       "    }\n",
       "\n",
       "    .dataframe thead th {\n",
       "        text-align: right;\n",
       "    }\n",
       "</style>\n",
       "<table border=\"1\" class=\"dataframe\">\n",
       "  <thead>\n",
       "    <tr style=\"text-align: right;\">\n",
       "      <th>R</th>\n",
       "      <th>1.0</th>\n",
       "      <th>2.0</th>\n",
       "    </tr>\n",
       "    <tr>\n",
       "      <th>M</th>\n",
       "      <th></th>\n",
       "      <th></th>\n",
       "    </tr>\n",
       "  </thead>\n",
       "  <tbody>\n",
       "    <tr>\n",
       "      <th>2.0</th>\n",
       "      <td>411.0</td>\n",
       "      <td>927.0</td>\n",
       "    </tr>\n",
       "    <tr>\n",
       "      <th>1.0</th>\n",
       "      <td>21216.0</td>\n",
       "      <td>75788.0</td>\n",
       "    </tr>\n",
       "  </tbody>\n",
       "</table>\n",
       "</div>"
      ],
      "text/plain": [
       "R        1.0      2.0\n",
       "M                    \n",
       "2.0    411.0    927.0\n",
       "1.0  21216.0  75788.0"
      ]
     },
     "execution_count": 125,
     "metadata": {},
     "output_type": "execute_result"
    }
   ],
   "source": [
    "datos_RFM_Ventas.round(0)"
   ]
  },
  {
   "cell_type": "code",
   "execution_count": 127,
   "id": "0a1108f5",
   "metadata": {},
   "outputs": [],
   "source": [
    "datos_RFM_Clientes = datos_RFM_SUM.pivot(index='M', columns='R', values='CodigodelCliente')"
   ]
  },
  {
   "cell_type": "code",
   "execution_count": 128,
   "id": "386717c6",
   "metadata": {},
   "outputs": [],
   "source": [
    "datos_RFM_Clientes= datos_RFM_Clientes.reset_index().sort_values(['M'], ascending = False).set_index(['M'])"
   ]
  },
  {
   "cell_type": "code",
   "execution_count": 129,
   "id": "416b470d",
   "metadata": {
    "scrolled": true
   },
   "outputs": [
    {
     "data": {
      "text/html": [
       "<div>\n",
       "<style scoped>\n",
       "    .dataframe tbody tr th:only-of-type {\n",
       "        vertical-align: middle;\n",
       "    }\n",
       "\n",
       "    .dataframe tbody tr th {\n",
       "        vertical-align: top;\n",
       "    }\n",
       "\n",
       "    .dataframe thead th {\n",
       "        text-align: right;\n",
       "    }\n",
       "</style>\n",
       "<table border=\"1\" class=\"dataframe\">\n",
       "  <thead>\n",
       "    <tr style=\"text-align: right;\">\n",
       "      <th>R</th>\n",
       "      <th>1.0</th>\n",
       "      <th>2.0</th>\n",
       "    </tr>\n",
       "    <tr>\n",
       "      <th>M</th>\n",
       "      <th></th>\n",
       "      <th></th>\n",
       "    </tr>\n",
       "  </thead>\n",
       "  <tbody>\n",
       "    <tr>\n",
       "      <th>2.0</th>\n",
       "      <td>1180</td>\n",
       "      <td>3765</td>\n",
       "    </tr>\n",
       "    <tr>\n",
       "      <th>1.0</th>\n",
       "      <td>57</td>\n",
       "      <td>1181</td>\n",
       "    </tr>\n",
       "  </tbody>\n",
       "</table>\n",
       "</div>"
      ],
      "text/plain": [
       "R     1.0   2.0\n",
       "M              \n",
       "2.0  1180  3765\n",
       "1.0    57  1181"
      ]
     },
     "execution_count": 129,
     "metadata": {},
     "output_type": "execute_result"
    }
   ],
   "source": [
    "datos_RFM_Clientes"
   ]
  },
  {
   "cell_type": "code",
   "execution_count": 107,
   "id": "783e31b7",
   "metadata": {},
   "outputs": [],
   "source": [
    "datos_RFM_Frecuencia = datos_RFM_SUM.pivot(index='M', columns='R', values='ultima_compra')"
   ]
  },
  {
   "cell_type": "code",
   "execution_count": 108,
   "id": "ff53c999",
   "metadata": {},
   "outputs": [],
   "source": [
    "datos_RFM_Frecuencia= datos_RFM_Frecuencia.reset_index().sort_values(['M'], ascending = False).set_index(['M'])"
   ]
  },
  {
   "cell_type": "code",
   "execution_count": 110,
   "id": "613e4ba5",
   "metadata": {},
   "outputs": [
    {
     "data": {
      "text/html": [
       "<div>\n",
       "<style scoped>\n",
       "    .dataframe tbody tr th:only-of-type {\n",
       "        vertical-align: middle;\n",
       "    }\n",
       "\n",
       "    .dataframe tbody tr th {\n",
       "        vertical-align: top;\n",
       "    }\n",
       "\n",
       "    .dataframe thead th {\n",
       "        text-align: right;\n",
       "    }\n",
       "</style>\n",
       "<table border=\"1\" class=\"dataframe\">\n",
       "  <thead>\n",
       "    <tr style=\"text-align: right;\">\n",
       "      <th>R</th>\n",
       "      <th>1.0</th>\n",
       "      <th>2.0</th>\n",
       "    </tr>\n",
       "    <tr>\n",
       "      <th>M</th>\n",
       "      <th></th>\n",
       "      <th></th>\n",
       "    </tr>\n",
       "  </thead>\n",
       "  <tbody>\n",
       "    <tr>\n",
       "      <th>2.0</th>\n",
       "      <td>988.0</td>\n",
       "      <td>119.0</td>\n",
       "    </tr>\n",
       "    <tr>\n",
       "      <th>1.0</th>\n",
       "      <td>912.0</td>\n",
       "      <td>29.0</td>\n",
       "    </tr>\n",
       "  </tbody>\n",
       "</table>\n",
       "</div>"
      ],
      "text/plain": [
       "R      1.0    2.0\n",
       "M                \n",
       "2.0  988.0  119.0\n",
       "1.0  912.0   29.0"
      ]
     },
     "execution_count": 110,
     "metadata": {},
     "output_type": "execute_result"
    }
   ],
   "source": [
    "datos_RFM_Frecuencia.round(0)"
   ]
  },
  {
   "cell_type": "markdown",
   "id": "dc32f6b5",
   "metadata": {},
   "source": [
    "<img src=\"./matrixRFM.PNG\" />"
   ]
  },
  {
   "cell_type": "markdown",
   "id": "228a797f",
   "metadata": {},
   "source": [
    "<img src=\"./matrizRFM_porcentajes.PNG\" />"
   ]
  },
  {
   "cell_type": "markdown",
   "id": "8ab72e79",
   "metadata": {},
   "source": [
    "La mayor parte de clientes son fieles en la compra de productos veterinarios pero la facturación promedio de este grupo es mínima, un 0,94%. Es un segmento que es necesario retener pero se tendrían que revisar los márgenes que se obtienen de estas ventas para obtener un mayor beneficio."
   ]
  },
  {
   "cell_type": "markdown",
   "id": "b6584fcc",
   "metadata": {},
   "source": [
    "Se podrían recuperar el 19,68 % de clientes activando campañas que generen interés de este grupo para llevarlos al grupo de clientes comprometidos."
   ]
  },
  {
   "cell_type": "code",
   "execution_count": null,
   "id": "ffdbb7ba",
   "metadata": {},
   "outputs": [],
   "source": []
  }
 ],
 "metadata": {
  "kernelspec": {
   "display_name": "Python 3 (ipykernel)",
   "language": "python",
   "name": "python3"
  },
  "language_info": {
   "codemirror_mode": {
    "name": "ipython",
    "version": 3
   },
   "file_extension": ".py",
   "mimetype": "text/x-python",
   "name": "python",
   "nbconvert_exporter": "python",
   "pygments_lexer": "ipython3",
   "version": "3.9.13"
  }
 },
 "nbformat": 4,
 "nbformat_minor": 5
}
